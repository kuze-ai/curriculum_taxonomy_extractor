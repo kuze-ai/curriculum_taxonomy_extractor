{
 "cells": [
  {
   "cell_type": "code",
   "execution_count": 6,
   "metadata": {},
   "outputs": [],
   "source": [
    "import linktransformer as lt\n"
   ]
  },
  {
   "cell_type": "markdown",
   "metadata": {},
   "source": []
  },
  {
   "cell_type": "code",
   "execution_count": 3,
   "metadata": {},
   "outputs": [],
   "source": [
    "from dotenv import load_dotenv\n",
    "load_dotenv()\n",
    "import os\n",
    "import pandas as pd"
   ]
  },
  {
   "cell_type": "code",
   "execution_count": 5,
   "metadata": {},
   "outputs": [],
   "source": [
    "# folder_path = \"/home/njui/kn_workspace/curriculum_taxonomy_extractor/data/processed/CBC Math/Grade 4 Curriculum designs Maths CSV\""
   ]
  },
  {
   "cell_type": "code",
   "execution_count": 15,
   "metadata": {},
   "outputs": [],
   "source": [
    "import os\n",
    "import chardet\n",
    "import pandas as pd\n",
    "\n",
    "# Specify multiple folder paths here\n",
    "folder_paths = [\n",
    "    \"../data/processed/cbc_math/Grade 3 Curriculum designs Maths CSV\",\n",
    "    \"../data/processed/cbc_math/Grade 4 Curriculum designs Maths CSV\",\n",
    "    \"../data/processed/cbc_math/Grade 6 Curriculum designs Maths CSV\",\n",
    "    # Add more paths as needed\n",
    "]\n",
    "\n",
    "# Initialize lists to store the data\n",
    "file_names = []\n",
    "file_paths = []\n",
    "folder_names = []\n",
    "file_details = []\n",
    "indicator_files = []\n",
    "read_status= []\n",
    "\n",
    "# Keywords to check in the CSV contents\n",
    "key_words = [\"meets expectations\", \"below expectations\"]\n",
    "\n",
    "# Iterate through each specified folder path\n",
    "for folder_path in folder_paths:\n",
    "    for root, dirs, files in os.walk(folder_path):\n",
    "        for file in files:\n",
    "            # Construct the full file path\n",
    "            full_file_path = os.path.join(root, file)\n",
    "            file_names.append(file)\n",
    "            file_paths.append(full_file_path)\n",
    "            folder_name = os.path.basename(root)\n",
    "            folder_names.append(folder_name)\n",
    "\n",
    "            # Read the CSV file and convert it to a JSON string\n",
    "            try:\n",
    "                with open(full_file_path, 'rb') as file:\n",
    "                    result = chardet.detect(file.read())\n",
    "                    encoding = result['encoding']\n",
    "                df_temp = pd.read_csv(full_file_path, encoding=encoding)\n",
    "                details = df_temp.to_json()\n",
    "                file_details.append(details)\n",
    "                \n",
    "                # Check if any of the key words are in the CSV\n",
    "                indicator = any(word in df_temp.to_string().lower() for word in key_words)\n",
    "                indicator_files.append(indicator)\n",
    "                read_status.append(True)\n",
    "            except Exception as e:\n",
    "                file_details.append({'error': str(e)})\n",
    "                read_status.append(False)\n",
    "                indicator_files.append('')  # Default to False in case of error\n",
    "\n",
    "# Create a dataframe with the collected data\n",
    "df = pd.DataFrame({\n",
    "    'file_name': file_names,\n",
    "    'file_path': file_paths,\n",
    "    'folder_name': folder_names,\n",
    "    'details': file_details,\n",
    "    'indicator_status': indicator_files,\n",
    "    'read_status': read_status\n",
    "})\n"
   ]
  },
  {
   "cell_type": "code",
   "execution_count": 18,
   "metadata": {},
   "outputs": [],
   "source": [
    "# df.head(10)"
   ]
  },
  {
   "cell_type": "code",
   "execution_count": 17,
   "metadata": {},
   "outputs": [
    {
     "name": "stdout",
     "output_type": "stream",
     "text": [
      "[ True]\n"
     ]
    }
   ],
   "source": [
    "distinct_read_status = df['read_status'].unique()\n",
    "print(distinct_read_status)"
   ]
  },
  {
   "cell_type": "code",
   "execution_count": 19,
   "metadata": {},
   "outputs": [],
   "source": [
    "df_grouped = df.groupby('indicator_status')\n",
    "\n",
    "# Get the DataFrames for each group\n",
    "df_rubrics = df_grouped.get_group(True)\n",
    "df_strands = df_grouped.get_group(False)\n"
   ]
  },
  {
   "cell_type": "code",
   "execution_count": 40,
   "metadata": {},
   "outputs": [],
   "source": [
    "# df_strands.head"
   ]
  },
  {
   "cell_type": "code",
   "execution_count": 20,
   "metadata": {},
   "outputs": [
    {
     "name": "stdout",
     "output_type": "stream",
     "text": [
      "No base organization specified, if there is an error, it is likely because of that.\n",
      "Trying to append the model : sentence-transformers/all-MiniLM-L6-v2 and linktransformers/all-MiniLM-L6-v2. Check your path otherwise!\n"
     ]
    },
    {
     "name": "stdout",
     "output_type": "stream",
     "text": [
      "Trying sentence-transformers/all-MiniLM-L6-v2...\n",
      "No base organization specified, if there is an error, it is likely because of that.\n",
      "Trying to append the model : sentence-transformers/all-MiniLM-L6-v2 and linktransformers/all-MiniLM-L6-v2. Check your path otherwise!\n",
      "Trying sentence-transformers/all-MiniLM-L6-v2...\n",
      "2024-03-05 16:26:21 - HTTP Request: POST https://api.openai.com/v1/embeddings \"HTTP/1.1 200 OK\"\n",
      "2024-03-05 16:26:22 - HTTP Request: POST https://api.openai.com/v1/embeddings \"HTTP/1.1 200 OK\"\n",
      "2024-03-05 16:26:22 - HTTP Request: POST https://api.openai.com/v1/embeddings \"HTTP/1.1 200 OK\"\n",
      "2024-03-05 16:26:22 - HTTP Request: POST https://api.openai.com/v1/embeddings \"HTTP/1.1 200 OK\"\n",
      "2024-03-05 16:26:23 - HTTP Request: POST https://api.openai.com/v1/embeddings \"HTTP/1.1 200 OK\"\n",
      "2024-03-05 16:26:23 - HTTP Request: POST https://api.openai.com/v1/embeddings \"HTTP/1.1 200 OK\"\n",
      "2024-03-05 16:26:24 - HTTP Request: POST https://api.openai.com/v1/embeddings \"HTTP/1.1 200 OK\"\n",
      "2024-03-05 16:26:25 - HTTP Request: POST https://api.openai.com/v1/embeddings \"HTTP/1.1 200 OK\"\n",
      "2024-03-05 16:26:25 - HTTP Request: POST https://api.openai.com/v1/embeddings \"HTTP/1.1 200 OK\"\n",
      "2024-03-05 16:26:26 - HTTP Request: POST https://api.openai.com/v1/embeddings \"HTTP/1.1 200 OK\"\n",
      "2024-03-05 16:26:26 - HTTP Request: POST https://api.openai.com/v1/embeddings \"HTTP/1.1 200 OK\"\n",
      "2024-03-05 16:26:27 - HTTP Request: POST https://api.openai.com/v1/embeddings \"HTTP/1.1 200 OK\"\n",
      "2024-03-05 16:26:27 - HTTP Request: POST https://api.openai.com/v1/embeddings \"HTTP/1.1 200 OK\"\n",
      "2024-03-05 16:26:27 - HTTP Request: POST https://api.openai.com/v1/embeddings \"HTTP/1.1 200 OK\"\n",
      "2024-03-05 16:26:28 - HTTP Request: POST https://api.openai.com/v1/embeddings \"HTTP/1.1 200 OK\"\n",
      "2024-03-05 16:26:29 - HTTP Request: POST https://api.openai.com/v1/embeddings \"HTTP/1.1 200 OK\"\n",
      "2024-03-05 16:26:30 - HTTP Request: POST https://api.openai.com/v1/embeddings \"HTTP/1.1 200 OK\"\n",
      "2024-03-05 16:26:30 - HTTP Request: POST https://api.openai.com/v1/embeddings \"HTTP/1.1 200 OK\"\n",
      "2024-03-05 16:26:30 - HTTP Request: POST https://api.openai.com/v1/embeddings \"HTTP/1.1 200 OK\"\n",
      "2024-03-05 16:26:31 - HTTP Request: POST https://api.openai.com/v1/embeddings \"HTTP/1.1 200 OK\"\n",
      "2024-03-05 16:26:31 - HTTP Request: POST https://api.openai.com/v1/embeddings \"HTTP/1.1 200 OK\"\n",
      "2024-03-05 16:26:32 - HTTP Request: POST https://api.openai.com/v1/embeddings \"HTTP/1.1 200 OK\"\n",
      "2024-03-05 16:26:32 - HTTP Request: POST https://api.openai.com/v1/embeddings \"HTTP/1.1 200 OK\"\n",
      "2024-03-05 16:26:33 - HTTP Request: POST https://api.openai.com/v1/embeddings \"HTTP/1.1 200 OK\"\n",
      "2024-03-05 16:26:33 - HTTP Request: POST https://api.openai.com/v1/embeddings \"HTTP/1.1 200 OK\"\n",
      "2024-03-05 16:26:34 - HTTP Request: POST https://api.openai.com/v1/embeddings \"HTTP/1.1 200 OK\"\n",
      "2024-03-05 16:26:34 - HTTP Request: POST https://api.openai.com/v1/embeddings \"HTTP/1.1 200 OK\"\n",
      "2024-03-05 16:26:34 - HTTP Request: POST https://api.openai.com/v1/embeddings \"HTTP/1.1 200 OK\"\n"
     ]
    }
   ],
   "source": [
    "# Using the lt.merge function to perform a semantic merge\n",
    "df_merged = lt.merge(\n",
    "    df1=df_strands, \n",
    "    df2=df_rubrics, \n",
    "    on=['file_name','folder_name','details'], \n",
    "    merge_type='1:1',\n",
    "    model='all-MiniLM-L6-v2',\n",
    "    left_on=None, \n",
    "    right_on=None, \n",
    "    suffixes=('_x', '_y'), \n",
    "    use_gpu=False, \n",
    "    batch_size=128, \n",
    "    openai_key=os.getenv('OPENAI_API_KEY')  # Assuming you've set your API key in the environment\n",
    ")\n"
   ]
  },
  {
   "cell_type": "code",
   "execution_count": 22,
   "metadata": {},
   "outputs": [
    {
     "data": {
      "text/plain": [
       "(48, 15)"
      ]
     },
     "execution_count": 22,
     "metadata": {},
     "output_type": "execute_result"
    }
   ],
   "source": [
    "df_merged.shape"
   ]
  },
  {
   "cell_type": "code",
   "execution_count": 32,
   "metadata": {},
   "outputs": [],
   "source": [
    "df_merged.to_csv('../data/processed/df_merged_math_cbc.csv', index=False)\n"
   ]
  },
  {
   "cell_type": "code",
   "execution_count": 11,
   "metadata": {},
   "outputs": [],
   "source": [
    "df_merged = pd.read_csv('../data/processed/df_merged_math_cbc.csv')"
   ]
  },
  {
   "cell_type": "code",
   "execution_count": 4,
   "metadata": {},
   "outputs": [],
   "source": [
    "######### Structured output from details_x and details_y\n",
    "\n",
    "from pydantic import BaseModel\n",
    "from typing import List\n",
    "\n",
    "# from llama_index.program.openai import OpenAIPydanticProgram\n",
    "\n"
   ]
  },
  {
   "cell_type": "code",
   "execution_count": 6,
   "metadata": {},
   "outputs": [],
   "source": [
    "from pydantic import BaseModel\n",
    "from typing import List\n",
    "\n",
    "from llama_index.program.openai import OpenAIPydanticProgram\n",
    "from llama_index.llms.openai import OpenAI"
   ]
  },
  {
   "cell_type": "code",
   "execution_count": null,
   "metadata": {},
   "outputs": [],
   "source": [
    "class Rubric(BaseModel):\n",
    "    \"\"\"\n",
    "    A rubric outlines specific criteria used to assess a student's performance on tasks related to a sub-strand. Each rubric includes levels of expectations such as 'Exceeds Expectations', 'Meets Expectations', 'Approaches Expectations', and 'Below Expectations', providing clear benchmarks for assessment.\n",
    "    \"\"\"\n",
    "    indicator_name: str\n",
    "    exceeds_expectations: str\n",
    "    meets_expectations: str\n",
    "    approaches_expectations: str\n",
    "    below_expectations: str\n",
    "    \n",
    "class SpecificLearningOutcomes(BaseModel):\n",
    "    \"\"\"\n",
    "    A sub-strand is a component of a broader curriculum strand that focuses on a specific topic or set of skills within the subject area. It includes specific learning outcomes that students are expected to achieve, key inquiry questions to guide exploration and understanding, suggested learning experiences to achieve these outcomes, and rubrics for evaluating student progress.\n",
    "    \"\"\"\n",
    "    pos_number: int\n",
    "    learning_outcome: str\n",
    "    rubric: Rubric"
   ]
  },
  {
   "cell_type": "code",
   "execution_count": 8,
   "metadata": {},
   "outputs": [],
   "source": [
    "from pydantic import BaseModel\n",
    "from typing import List\n",
    "\n",
    "\n",
    "class SubStrand(BaseModel):\n",
    "    \"\"\"\n",
    "    A sub-strand is a component of a broader curriculum strand that focuses on a specific topic or set of skills within the subject area. It includes specific learning outcomes that students are expected to achieve, key inquiry questions to guide exploration and understanding, suggested learning experiences to achieve these outcomes, and rubrics for evaluating student progress.\n",
    "    \"\"\"\n",
    "    sub_strand_name: str\n",
    "    specific_learning_outcomes: List[str]\n",
    "    key_inquiry_questions: List[str]\n",
    "    suggested_learning_experiences: List[str]\n",
    "\n",
    "class Strand(BaseModel):\n",
    "    \"\"\"\n",
    "    Represents a key component of the curriculum for a specific grade and subject area. A strand is comprised of multiple sub-strands, each addressing different topics or areas of knowledge within the subject. This model organizes the curriculum content by grade, subject, and the names of the strands and includes the detailed breakdown of sub-strands for comprehensive curriculum coverage.\n",
    "    \"\"\"\n",
    "    grade: str\n",
    "    subject: str\n",
    "    strand_name: str\n",
    "    sub_strands: List[SubStrand]\n"
   ]
  },
  {
   "cell_type": "code",
   "execution_count": 9,
   "metadata": {},
   "outputs": [],
   "source": [
    "program = OpenAIPydanticProgram.from_defaults(\n",
    "    output_cls=Strand,  # The class we're aiming to fill with GPT-3's response\n",
    "    llm=OpenAI(temperature=0, model=\"gpt-3.5-turbo\"),  # Adjust model as needed\n",
    "    prompt_template_str=\"\"\"\\\n",
    "        Given the details from a curriculum document in JSON format, extract the relevant information to fill out the structure of educational content. The JSON data contains details about curriculum strands, sub-strands, and their respective learning outcomes, inquiry questions, suggested learning experiences, and rubrics for assessment.\n",
    "\n",
    "        For the grade and subject, extract them from the folder names. For sub-strands, look for sections within the strand. For each sub-strand, identify its specific learning outcomes, key inquiry questions, and suggested learning experiences. Finally, detail the rubrics for evaluating the sub-strand's learning outcomes.\n",
    "\n",
    "        Grade and Subject from folder name: {input_folder_name}\n",
    "        Strand and Sub-Strand details in JSON: {input_details_x}\n",
    "\n",
    "\n",
    "        Structure the extracted information as follows:\n",
    "        - Grade:\n",
    "        - Subject:\n",
    "        - Strand Name:\n",
    "        - List of Sub-Strands, each with:\n",
    "            - Sub-Strand Name:\n",
    "            - Specific Learning Outcomes:\n",
    "            - Key Inquiry Questions:\n",
    "            - Suggested Learning Experiences:\n",
    "\n",
    "        Please provide the structured output based on the provided information.\n",
    "        \"\"\",\n",
    "    verbose=True,\n",
    "    allow_multiple=True\n",
    ")"
   ]
  },
  {
   "cell_type": "code",
   "execution_count": 12,
   "metadata": {},
   "outputs": [
    {
     "name": "stdout",
     "output_type": "stream",
     "text": [
      "Function call: Strand with args: {\"grade\":\"Grade 3\",\"subject\":\"Mathematics\",\"strand_name\":\"Measurement\",\"sub_strands\":[{\"sub_strand_name\":\"Time\",\"specific_learning_outcomes\":[\"By the end of the sub-strand, the learner should be able to:\",\"a. Identify the minute as a unit of measuring time,\",\"b. Read and tell time using the digital clock,\",\"c. Read and tell time using ‘past’ and ‘to’ the hour using the clock face,\",\"d. Write time using ‘past’ and ‘to’ the hour,\",\"e. Estimate time in hours,\",\"f. Add and subtract time involving hours and minutes without conversion in real life\"],\"key_inquiry_questions\":[\"How do we convert hours to minutes\"],\"suggested_learning_experiences\":[\"- Learners to discuss the divisions on a clock face and what each division represents.\",\"- Learners to read time on a digital clock\",\"- Learners in pairs/groups to discuss the relationship between hours and minutes using a clock face.\",\"- Learners in pairs/groups to read, tell and write time using ‘past’ and ‘to’ the hour.\",\"- Learners in pairs/groups to estimate time in hours.\",\"- Learners in pairs/groups to add and subtract time involving hours and minutes without conversion in real life situations.\"]}]}\n",
      "Function call: Strand with args: {\"grade\":\"Grade 3\",\"subject\":\"Mathematics\",\"strand_name\":\"Measurement\",\"sub_strands\":[{\"sub_strand_name\":\"Capacity\",\"specific_learning_outcomes\":[\"By the end of the sub-strand, the learner should be able to:\",\"a. Measure capacity in litres,\",\"b. Add and subtract capacity in litres,\",\"c. Estimate capacity up to 5 litres.\"],\"key_inquiry_questions\":[\"What can we use to measure capacity?\"],\"suggested_learning_experiences\":[\"- Learners in pairs/groups measure capacity of different containers in litres.\",\"- Learners to add and subtract capacity in litres in real-life situations.\",\"- Learners to estimate capacity up to 5 litres and measure to confirm.\",\"- Learners play digital games involving capacity.\"]}]}\n",
      "Function call: Strand with args: {\"grade\":\"Grade 3\",\"subject\":\"Mathematics\",\"strand_name\":\"Measurement\",\"sub_strands\":[{\"sub_strand_name\":\"Mass\",\"specific_learning_outcomes\":[\"By the end of the sub-strand, the learner should be able to:\",\"a. Measure mass in kilograms,\",\"b. Add and subtract mass in kilograms,\",\"c. Estimate mass up to 5 kilograms.\"],\"key_inquiry_questions\":[\"How can you make a 1kg mass using a beam balance?\"],\"suggested_learning_experiences\":[\"Learners to measure mass in kilograms using a beam balance.\",\"Learners to make masses of 1kg using sand/soil by measuring against the kilogram standard unit.\",\"Learners to add and subtract mass in kilograms in real-life situations.\",\"Learners to use a 5kg mass to compare other masses.\",\"Learners to estimate mass up to 5kg and measure to confirm.\",\"Learners to play digital games involving mass.\"]}]}\n",
      "Function call: Strand with args: {\"grade\":\"Grade 3\",\"subject\":\"Mathematics\",\"strand_name\":\"Numbers\",\"sub_strands\":[{\"sub_strand_name\":\"Addition\",\"specific_learning_outcomes\":[\"By the end of the sub-strand, the learner should be able to:\",\"a. Add a 3-digit number to up to a 2-digit number without regrouping with sum not exceeding 1000,\",\"b. Add a 3-digit number to up to a 2-digit number with single regrouping with sum not exceeding 1000,\",\"c. Add three single digit numbers with sum up to 27,\",\"d. Add two 3-digit numbers without regrouping,\",\"e. Add two 3-digit numbers with single regrouping with sum not exceeding 1000,\",\"f. Work out missing numbers in patterns involving addition up to 1000,\",\"g. Create number patterns involving addition up to 1000.\"],\"key_inquiry_questions\":[\"How do you arrange numbers when adding vertically?\",\"How do you identify the first two numbers to add when adding three single digit numbers?\",\"How can you get the next number in a given pattern?\"],\"suggested_learning_experiences\":[\"Learners to add up to two 3-digit numbers without and with regrouping with sum not exceeding 1000.\",\"Learners to practice adding horizontally and vertically.\",\"Learners in pairs to come up with different ways of adding 3-single digit numbers.\",\"Learners to play digital games involving addition.\",\"Learners to create and work out missing numbers in patterns involving addition up to 1000.\"]}]}\n",
      "Function call: Strand with args: {\"grade\":\"Grade 3\",\"subject\":\"Mathematics\",\"strand_name\":\"Measurement\",\"sub_strands\":[{\"sub_strand_name\":\"Money\",\"specific_learning_outcomes\":[\"By the end of the sub-strand, the learner should be able to:\",\"a. Identify Kenyan currency notes up to sh.1000,\",\"b. Count money in different denominations up to sh.1000,\",\"c. Add and subtract money involving up to sh.1000,\",\"d. Carry out shopping activities involving change and balance,\",\"e. Relate money to goods and services up to sh.1000,\",\"f. Differentiate between needs and wants,\",\"g. Appreciate spending and saving of money in real life situations.\"],\"key_inquiry_questions\":[\"What is the difference between needs and wants?\"],\"suggested_learning_experiences\":[\"? Learners in pairs/groups to sort out Kenyan currency notes according to their value and features up to sh.1000.\",\"? Learners in pairs/groups to practice addition and subtraction of money in real life situations up to sh.1000.\",\"? Learners in pairs/groups to practice giving change and balance using imitation money up to sh.1000 in shopping activities.\",\"? Learners in pairs/groups to share own experiences in relation to shopping activities\",\"? Learners in pairs/groups to discuss items they cannot do without and those that are necessary but they can do without.\",\"? Learners in pairs/groups to classify needs and wants.\",\"? Learners to play digital games involving money.\"]}]}\n",
      "Function call: Strand with args: {\"grade\":\"Grade 3\",\"subject\":\"Mathematics\",\"strand_name\":\"Numbers\",\"sub_strands\":[{\"sub_strand_name\":\"Division\",\"specific_learning_outcomes\":[\"By the end of the sub-strand, the learner should be able to:\",\"a) Represent division as repeated subtraction up to 5 times,\",\"b) Show relationship between multiplication and division using mathematical sentences up to 9 x 10 = 90.\"],\"key_inquiry_questions\":[\"1) How can we divide numbers using subtraction?\",\"2) How can we use the multiplication table to work out division questions?\"],\"suggested_learning_experiences\":[\"- Learners to take away from a group a specific number of objects at a time until all are finished and then count the number of small groups formed.\",\"- Learners to represent division as repeated subtraction up to 5 times.\",\"- Learners to discuss the relationship between division and multiplication using the multiplication table.\",\"- Learners in pairs/groups to practice how to divide numbers related to multiplication of up to 9 x 10 = 90.\",\"- Learners to play digital games\"]}]}\n",
      "Function call: Strand with args: {\"grade\":\"Grade 3\",\"subject\":\"Mathematics\",\"strand_name\":\"Numbers\",\"sub_strands\":[{\"sub_strand_name\":\"Multiplication\",\"specific_learning_outcomes\":[\"By the end of the sub-strand, the learner should be able to: Multiply single digit numbers by numbers 1-10 in different contexts.\"],\"key_inquiry_questions\":[\"1) How can you work out multiplication using repeated addition?\",\"2) How can we get the answer to a multiplication question using the multiplication table?\"],\"suggested_learning_experiences\":[\"Learners in pairs/groups to multiply single digit numbers by numbers 1-10 using: -groups of objects -repeated addition -multiplication table. Learners to play digital games involving multiplication.\"]}]}\n",
      "Function call: Strand with args: {\"grade\":\"Grade 3\",\"subject\":\"Mathematics\",\"strand_name\":\"Numbers\",\"sub_strands\":[{\"sub_strand_name\":\"Whole Numbers (20 lessons)\",\"specific_learning_outcomes\":[\"By the end of the sub-strand, the learner should be able to:\",\"a. Count numbers forward and backward from 1-1000,\",\"b. Identify place value up to thousands,\",\"c. Read numbers 1-1000 in symbols,\",\"d. Read and write numbers 1-100 in words,\",\"e. Identify missing numbers in number patterns up to 1000,\",\"f. Appreciate number patterns as they skip on a number line.\"],\"key_inquiry_questions\":[\"How would you get the total number of people in a group?\"],\"suggested_learning_experiences\":[\"- Learners in pairs/groups to count in 2’s and 5’s forward and backward starting from any point.\",\"- Learners in pairs/groups to count their fingers and toes in 2’s and 10’s forward and backward starting from any point.\",\"- Learners in pairs/groups to discuss place value up to thousands.\",\"- Learners in pairs/groups to compete reading numbers 1-1000 in symbols.\",\"- Learners to read and write numbers 1-100 in words.\",\"- Learners to play digital games involving whole numbers.\",\"- Learners in pairs/groups to make number patterns up to 1000 and share with other groups.\"]}]}\n",
      "Function call: Strand with args: {\"grade\":\"Grade 3\",\"subject\":\"Mathematics\",\"strand_name\":\"Geometry\",\"sub_strands\":[{\"sub_strand_name\":\"Position and Direction\",\"specific_learning_outcomes\":[\"By the end of the sub-strand, the learner should be able to:\",\"a) Move along a straight line from a point,\",\"b) Turn to the right from a point,\",\"c) Turn to the left from a point.\"],\"key_inquiry_questions\":[\"What do you do when you get to a road junction?\"],\"suggested_learning_experiences\":[\"? Learners in pairs /groups to move along a straight line from a given point.\",\"? Learners in pairs/groups to move straight along the outside of their classroom and then turn to the right or left.\",\"? Learners in pairs practice moving along a straight line and turning left or right.\",\"? Learners to play digital games on movement.\"]}]}\n",
      "Function call: Strand with args: {\"grade\":\"Grade 3\",\"subject\":\"Mathematics\",\"strand_name\":\"Geometry\",\"sub_strands\":[{\"sub_strand_name\":\"Shapes\",\"specific_learning_outcomes\":[\"By the end of the sub-strand, the learner should be able to:\",\"a) Make patterns involving rectangles, circles, triangles, ovals and squares,\",\"b) Appreciate making patterns involving rectangles, circles, triangles, ovals and squares.\"],\"key_inquiry_questions\":[\"What shapes can you identify in your school?\"],\"suggested_learning_experiences\":[\"? Learners to sort and group items of different shapes.\",\"? Learners in pairs /groups to discuss the types of lines making various shapes.\",\"? Learners to identify and name the different shapes found in their environment.\",\"? Learners to make patterns using the five shapes.\",\"? Learners in groups to make patterns, colour them and share with other groups.\",\"? Learners to play digital games involving shapes.\"]}]}\n",
      "Function call: Strand with args: {\"grade\":\"Grade 3\",\"subject\":\"Mathematics\",\"strand_name\":\"Numbers\",\"sub_strands\":[{\"sub_strand_name\":\"Fractions\",\"specific_learning_outcomes\":[\"By the end of the sub-strand the learner should be able to:\",\"a) identify 1/2, 1/4 and 1/8 as part of a whole.\",\"b) identify 1/2, 1/4 and 1/8 as part of a group.\"],\"key_inquiry_questions\":[\"How can you represent a half, a quarter or an eighth of a group\"],\"suggested_learning_experiences\":[\"? Learners in pairs /groups to make circular cut-outs.\",\"? Learners in pairs /groups to fold circular cut-outs into 2 equal parts and identify one part as 1/2 of the whole.\",\"? Learners in pairs /groups to make rectangular cut-outs and fold them into 4 equal parts to get a quarter of a whole and identify each part as 1/4 of the whole.\",\"? Learners in pairs /groups to make rectangular cut-outs and fold to get 8 equal parts and identify one part as 1/8 of the whole.\",\"? Learners in pairs /groups to divide a number of objects into 2 equal groups and identify each of the small groups as 1/2 of the whole group.\",\"? Learners in pairs /groups to divide a number of objects into 4 equal groups and identify each of the small groups as 1/4 of the whole group.\",\"? Learners in pairs /groups to divide a number of objects into 8 equal groups and identify each of the small groups 1/8 of the whole group\",\"? Learners to play digital games involving 1/2, 1/4 and 1/8.\"]}]}\n",
      "Function call: Strand with args: {\"grade\":\"Grade 3\",\"subject\":\"Mathematics\",\"strand_name\":\"Measurement\",\"sub_strands\":[{\"sub_strand_name\":\"Length\",\"specific_learning_outcomes\":[\"By the end of the sub-strand, the learner should be able to: a) Measure length in metres, b) Add and subtract length in metres, c) Estimate length up to 20 metres.\"],\"key_inquiry_questions\":[\"1) How do you measure the chalkboard using a metre stick? 2) How do you get the total length in metres of the 4 classroom walls? 3) How do you measure the distance between the flag post and the staffroom using a 5 metres long string?\"],\"suggested_learning_experiences\":[\"- Learners in pairs/groups to use metre sticks to measure various distances and record their results. - Learners to prepare 5 metres long strings with knots at intervals of one metre to measure long distances. - Learners in groups to measure the lengths of the 4 walls in their classroom and add the lengths. - Learners to measure the length of the chalkboard and the wall it is fixed and work out the difference in length. - Learners to work out questions involving addition and subtraction of length in metres based on real-life situations. - Learners in pairs/groups to estimate distances around the school up to 20 metres and measure to confirm. - Learners to take videos of others measuring length then playback and discuss.\"]}]}\n",
      "Function call: Strand with args: {\"grade\":\"Grade 3\",\"subject\":\"Mathematics\",\"strand_name\":\"Numbers\",\"sub_strands\":[{\"sub_strand_name\":\"Number Concept\",\"specific_learning_outcomes\":[\"By the end of the sub-strand, the learner should be able to: Use ordinal numbers to identify position from 1-20.\"],\"key_inquiry_questions\":[\"In which position were you when you came to class in the morning?\"],\"suggested_learning_experiences\":[\"Learners in pairs/groups to arrange different items in order of size starting with the smallest.\",\"Learners to identify the position of an object from a reference point using first, second up to 20th.\",\"Learners in groups to run for a distance and each to identify their position using the words first, second up to 20th position.\",\"Learners in pairs/groups to relate numbers 1-20 to positions first, second up to 20th using concrete objects.\",\"Learners to play digital games involving position 1st - 20th.\"]}]}\n",
      "Function call: Strand with args: {\"grade\":\"Grade 4\",\"subject\":\"Mathematics\",\"strand_name\":\"Geometry\",\"sub_strands\":[{\"sub_strand_name\":\"Position and Direction\",\"specific_learning_outcomes\":[\"By the end of the sub strand, the learner should be able to:\",\"a) demonstrate a clockwise and an anti-clockwise turn in the environment,\",\"b) demonstrate a quarter turn, half turn and full turn in the environment,\",\"c) identify quarter, half and full turns in the environment,\",\"d) use IT devices for learning and enjoyment,\",\"e) appreciate use of position and direction in real life situations.\"],\"key_inquiry_questions\":[\"How can you change your position?\"],\"suggested_learning_experiences\":[\"Learners in groups/pairs/individually to demonstrate a clockwise turn.\",\"Learners in groups/pairs/individually to demonstrate an anti-clockwise turn.\",\"Learners in groups/pairs/individually to demonstrate a quarter turn in both directions.\",\"Learners in groups/pairs/individually to demonstrate a half turn.\",\"Learners in groups/pairs/individually to demonstrate a full turn.\",\"Learners in groups/pairs/individually to play digital games involving position and direction.\"]}]}\n",
      "Function call: Strand with args: {\"grade\":\"Grade 4\",\"subject\":\"Mathematics\",\"strand_name\":\"Area\",\"sub_strands\":[{\"sub_strand_name\":\"AREA\",\"specific_learning_outcomes\":[\"By the end of the sub strand, the learner should be able to: compare area of given surfaces by a) direct comparison, calculate area of squares and b) rectangles by counting unit squares, calculate area of squares and c) rectangles as a product of number of rows and columns, use IT devices for learning and d) enjoyment, appreciate use of rows and columns in e) calculating area of squares and rectangles in real life situations.\"],\"key_inquiry_questions\":[\"How can you work out area of different surfaces?\"],\"suggested_learning_experiences\":[\"Learners in pairs/groups to compare area of two surfaces directly by placing one surface on the other. Learners in pairs/groups to use different unit square cut outs to cover a given surface. Learners in pairs/groups to count the number of unit square cut outs used to cover the surface. Learners in pairs /groups to establish that area of a rectangle or a square is same as number of rows multiplied by number of columns. Learners in pairs/groups to work out area of squares and rectangles by multiplying number of rows by number of columns. Learners in pairs/groups play digital games involving area of rectangles and squares.\"]}]}\n",
      "Function call: Strand with args: {\"grade\":\"Grade 4\",\"subject\":\"Mathematics\",\"strand_name\":\"Numbers\",\"sub_strands\":[{\"sub_strand_name\":\"Whole Numbers\",\"specific_learning_outcomes\":[\"By the end of the sub strand, the learner should be able to:\",\"use place value and total value of\",\"a) digits up to tens of thousands in daily\",\"life situations,\",\"read and write numbers up to 10,000\",\"b) in symbols in real life situations,\",\"read and write numbers up to 1,000 in\",\"c) words in day to day activities,\",\"order numbers up to 1,000 in different\",\"situations,\",\"round off numbers up to 1,000 to the\",\"nearest ten in different situations,\",\"identify factors/divisors of numbers\",\"up to 50 in different contexts,\",\"identify multiples of numbers up to\",\"100 in different situations,\",\"use even and odd numbers up to 100\",\"in different situations,\",\"represent Hindu Arabic numerals\",\"using Roman numerals up to ‘X’ in\",\"different situations,\",\"make patterns involving even and odd\",\"numbers in day to day life\",\"experiences,\",\"use IT devices for learning and\",\"leisure,\",\"appreciate use of numbers in real life\",\"situations.\"],\"key_inquiry_questions\":[\"1. What do you consider when\",\"writing numbers\",\"in words?\",\"2. How can you find\",\"the place value of\",\"a digit in a\",\"number?\",\"3. How can you find\",\"the total value of\",\"a digit in a\",\"number?\"],\"suggested_learning_experiences\":[\"Learners in pairs/groups to identify\",\"• place value of up to tens of\",\"thousands using place value\",\"apparatus.\",\"Learners in pairs/groups to identify\",\"• total values of digits up to ten\",\"thousand.\",\"Learners in pairs/groups/\",\"• individually to read numbers up to\",\"10,000 in symbols in real life\",\"situations.\",\"Learners in pairs/groups/\",\"• individually to read and write\",\"numbers up to 1,000 in words from\",\"a number chart.\",\"Learners in pairs to arrange numbers\",\"• up to 1,000 in order from smallest to\",\"largest and largest to smallest using\",\"number cards and share with other\",\"groups.\",\"Learners in\",\"• pairs/groups/individually round off\",\"numbers up to 1,000 to the nearest\",\"ten and share with other groups.\",\"Learners in\",\"• pairs/groups/individually to identify\",\"factors/divisors of numbers up to 50\",\"and share with other groups.\",\"Learners in pairs/groups to identify\",\"• multiples of numbers up to 100 and\",\"share with other groups.\",\"Learners in pairs/groups to identify even and odd numbers up to 100\",\"and share with other groups.\",\"Learners in pairs/groups to represent\",\"• Hindu Arabic numerals using\",\"Roman numerals up to ‘X’ using\",\"number charts.\",\"Learners in pairs/groups to make\",\"• patterns involving even and odd\",\"numbers and share with other\",\"groups.\",\"Learners in pairs/groups to visit\",\"• mathematical sites in IT devices and\",\"play digital games.\"]}]}\n",
      "Function call: Strand with args: {\"grade\":\"Grade 4\",\"subject\":\"Mathematics\",\"strand_name\":\"Time\",\"sub_strands\":[{\"sub_strand_name\":\"2.6 TIME\",\"specific_learning_outcomes\":[\"By the end of the sub strand, the learner should be able to:\",\"a) read and tell time in a.m. and p.m. in real life situations,\",\"b) estimate time using a.m and p.m. in real life situations,\",\"c) convert units of time in real life situations,\",\"d) record time durations in hours and minutes in real life situations,\",\"e) work out time duration in real life situations,\",\"f) use IT devices for learning and enjoyment,\",\"g) appreciate time in real life situations.\"],\"key_inquiry_questions\":[\"1. How can you tell time?\",\"2. How can you find out time taken to do an activity?\"],\"suggested_learning_experiences\":[\"Learners in pairs/groups to read and tell time in a.m. and p.m. using digital and analogue clocks in real life situations.\",\"Learners in pairs/groups to estimate time of the day using the shadow.\",\"Learners in pairs/groups to convert hours to minutes and minutes to hours in real life situations.\",\"Learners in pairs/groups to convert hours to days and days to hours in real life situations.\",\"Learners in pairs/groups to convert days to weeks and weeks to days in real life situations.\",\"Learners in pairs/groups to measure and record duration of events in hours and minutes using digital and analogue clocks.\",\"Learners in pairs/groups to work out addition involving units of time in real life situations.\",\"Learners in pairs/groups to work out subtraction involving units of time in real life situations.\",\"Learners in pairs/groups/individually to play digital games involving time.\"]}]}\n",
      "Function call: Strand with args: {\"grade\":\"Grade 4\",\"subject\":\"Mathematics\",\"strand_name\":\"MEASUREMENT\",\"sub_strands\":[{\"sub_strand_name\":\"LENGTH\",\"specific_learning_outcomes\":[\"identify the centimetre as a unit of measuring length in real life situations\",\"measure length in centimetres in real life situations\",\"estimate and measure length in centimetres in real life situations\",\"establish the relationship between metres and centimetres practically\",\"convert metres to centimetres and centimetres to metres in real life situation\",\"work out perimeter of plane figures in different contexts\",\"work out addition involving length in metres and centimetres in real life situations\",\"work out subtraction involving length in metres and centimetres in real life situations\",\"work out multiplication involving metres and centimetres in real life situations\",\"work out division involving metres and centimetres in real life situations\",\"use IT devices for learning and enjoyment\",\"appreciate use of metres and centimetres in measuring distance in real life\"],\"key_inquiry_questions\":[\"How can you measure distance?\",\"Why do we measure distance in real life?\"],\"suggested_learning_experiences\":[\"Learners in pairs/groups to identify the centimetre and mark out lengths of 1 centimetre using a ruler.\",\"Learners in pairs/groups to measure the length of a given object in centimetres using a metre ruler or a tape measure.\",\"Learners in pairs/groups/individually to estimate the length of a given object in centimetres.\",\"Learners to measure actual length of the estimated length in centimetres.\",\"Learners in pairs/groups to measure length in metres and centimetres and establish the relationship between the units.\",\"Learners in pairs/groups use the relationship between centimetres and metres in real life situations.\",\"Learners in pairs/groups/individually to convert metres into centimetres and centimetres into metres in real life situations.\",\"Learners in pairs/groups to work out perimeter of plane figures in different contexts.\",\"Learners in pairs/groups to work out addition and subtraction involving metres and centimetres in real life situations.\",\"Learners in pairs/groups to work out multiplication involving metres and centimetres in real life situations.\",\"Learners in pairs/groups to work out division involving metres and centimetres in real life situations.\",\"Learners in pairs/groups to play digital games involving length.\"]}]}\n",
      "Function call: Strand with args: {\"grade\":\"Grade 4\",\"subject\":\"Mathematics\",\"strand_name\":\"2-D Shapes\",\"sub_strands\":[{\"sub_strand_name\":\"3.3 2-D SHAPES\",\"specific_learning_outcomes\":[\"By the end of the sub strand, the learner should be able to:\\n- identify different shapes in the environment,\\n- identify line of symmetry practically,\\n- make patterns using different shapes,\\n- identify properties of 2-D shapes practically,\\n- use IT devices for learning and enjoyment,\\n- appreciate using shapes in real-life situations.\"],\"key_inquiry_questions\":[\"1. How can you identify a 2-D shape?\\n2. How can you make patterns using shapes?\"],\"suggested_learning_experiences\":[\"- Learners in pairs/groups/individually to identify shapes in the environment.\\n- Learners in pairs/groups to identify line of symmetry by folding the shape into two equal parts and identify the fold line as the line of symmetry.\\n- Learners in pairs/groups/individually to make patterns using squares, rectangles, and triangles.\\n- Learners in pairs/groups to identify properties of a square practically.\\n- Learners in pairs/groups to identify properties of a rectangle practically.\\n- Learners in pairs/groups to identify properties of a triangle practically.\\n- Learners in pairs/groups to use IT devices to learn more about 2-D shapes and make patterns.\"]}]}\n",
      "Function call: Strand with args: {\"grade\":\"Grade 4\",\"subject\":\"Mathematics\",\"strand_name\":\"Fractions\",\"sub_strands\":[{\"sub_strand_name\":\"1.6 FRACTIONS\",\"specific_learning_outcomes\":[\"By the end of the sub strand, the learner should be able to: represent a fraction with a) denominators not exceeding 12 as part of a whole and as part of a group in real life situations, b) represent and write fractions whose denominators do not exceed 12 in real life situations, c) identify the numerator and denominator in a fraction in real life situations, d) identify different types of fractions in real life, e) convert improper fractions to mixed fractions in different situations, f) convert mixed fractions to improper fractions in different contexts, g) use IT devices for learning and enjoyment, h) appreciate application of fractions in real life situations.\"],\"key_inquiry_questions\":[\"1. When do you use fractions in real life?\",\"2. How can you represent fractions?\"],\"suggested_learning_experiences\":[\"Learners in pairs/groups to represent fractions as part of a whole and as part of a group using concrete objects.\",\"Learners in pairs/groups to discuss the top and bottom numbers in a fraction and share with other groups.\",\"Learners in pairs/groups to write fractions represented as part of whole or part of a group.\",\"Learners in pairs/groups to represent fractions as part of a whole or part of a group using cut outs, counters or clock face.\",\"Learners in pairs/groups/individually to represent proper, improper and mixed fractions as part of a whole or as part of a group using paper cut outs or counters.\",\"Learners in pairs/groups to convert improper fractions to mixed fractions.\",\"Learners in pairs/groups to convert mixed fractions to improper fractions.\",\"Learners in pairs/groups/individually to play digital games involving fractions.\"]}]}\n",
      "Function call: Strand with args: {\"grade\":\"Grade 4\",\"subject\":\"Mathematics\",\"strand_name\":\"Capacity\",\"sub_strands\":[{\"sub_strand_name\":\"2.5 CAPACITY\",\"specific_learning_outcomes\":[\"By the end of the sub strand, the learner should be able to:\",\"a) measure capacity in litres in real life situations,\",\"b) measure capacity in ½ litres and ¼ litres in real life situations,\",\"c) Add and subtract capacity involving litres in real life situations,\",\"d) use IT devices for learning and enjoyment,\",\"e) appreciate use of the litre as a unit of measuring capacity in real life situations.\"],\"key_inquiry_questions\":[\"How can you measure capacity in real life situations?\"],\"suggested_learning_experiences\":[\"- Learners in pairs/groups to measure capacity of containers using a 1 litre container in real life situations.\",\"- Learners in pairs/groups/individually to make ½ litre and ¼ litre containers through filling and emptying using a 1 litre container.\",\"- Learners in pairs/groups to use ½ litre and ¼ litre containers to measure capacity of other containers.\",\"- Learners in pairs/groups to add capacity involving litres in real life situations.\",\"- Learners in pairs/groups to subtract capacity involving litres in real life situations.\",\"- Learner in pairs/groups to play digital games involving capacity\"]}]}\n",
      "Function call: Strand with args: {\"grade\":\"Grade 4\",\"subject\":\"Mathematics\",\"strand_name\":\"Volume\",\"sub_strands\":[{\"sub_strand_name\":\"Volume\",\"specific_learning_outcomes\":[\"By the end of the sub strand, the learner should be able to:\",\"a) work out volume of cubes and cuboids in real life situations,\",\"b) use IT devices for learning and enjoyment,\",\"c) appreciate use of pilling method in working out volume in real life.\"],\"key_inquiry_questions\":[\"How can you work out volume of cubes and cuboids?\"],\"suggested_learning_experiences\":[\"Learners in pairs/groups/individually to pile cubes.\",\"Learners in pairs/groups/individually to count the piles of cubes to determine the volume.\",\"Learners in pairs/groups to pile cuboids.\",\"Learners in pairs/groups/individually to count the piles of cuboids to determine the volume.\",\"Learners in pairs/groups /individuals to use IT devices to play games.\"]}]}\n",
      "Function call: Strand with args: {\"grade\":\"Grade 4\",\"subject\":\"Mathematics\",\"strand_name\":\"Multiplication\",\"sub_strands\":[{\"sub_strand_name\":\"1.4 MULTIPLICATION\",\"specific_learning_outcomes\":[\"By the end of the sub strand, the learner should be able to: a) multiply up to a 2-digit number by multiples of 10 in different situations, b) multiply up to a 2-digit number by a 2-digit number without and with regrouping in real life situations, estimate products by rounding off c) numbers to the nearest ten in real life situations, d) Create patterns involving multiplication with product not exceeding 100 in real life situations, use IT devices for learning and e) enjoyment, appreciate application of f) multiplication of numbers in real life.\"],\"key_inquiry_questions\":[\"1. When do you use multiplication in real life?\",\"2. How do you create patterns involving multiplication?\"],\"suggested_learning_experiences\":[\"Learners in pairs/groups to multiply up to a 2-digit number by multiples of 10 in different situations. Leaners in pairs/groups to • multiply up to a 2-digit numbers by a 2-digit number without and with regrouping in real life situations. Learners pairs/groups/ • individually to estimate and work out answers by rounding off numbers to the nearest ten with product not exceeding 1,000 in real life situations. Learners in pairs/groups to create • patterns involving multiplication with product not exceeding 100. Learners pairs/groups/ • individually to play digital games on multiplication.\"]}]}\n",
      "Function call: Strand with args: {\"grade\":\"Grade 4\",\"subject\":\"Science\",\"strand_name\":\"MASS\",\"sub_strands\":[{\"sub_strand_name\":\"2.3 MASS (6 Lessons)\",\"specific_learning_outcomes\":[\"By the end of the sub strand, the learner should be able to: a) use a kilogram mass to measure masses of different objects practically, b) use ½ kg and ¼ kg masses to measure masses of different objects practically, c) add mass involving kilograms in real life situations, d) subtract mass involving kilograms in real life situations, e) use IT devices for learning and enjoyment, f) appreciate measuring mass of different objects.\"],\"key_inquiry_questions\":[\"How can you measure mass in kg?\"],\"suggested_learning_experiences\":[\"Learners in pairs/groups to use one kilogram masses to measure masses of given objects using a beam balance. Learners in pairs/groups make a ½ kg mass and use it to measure mass of given objects using a beam balance. Learners in pairs/groups make a ¼ kg mass and use it to measure mass of given objects using a beam balance and an electronic balance. Learners in pairs/groups add mass involving kilograms (kg) in real life situations. Learners in pairs/groups subtract mass involving kilograms (kg) in real life situations. Learners in pairs/groups play digital games involving mass.\"]}]}\n",
      "Function call: Strand with args: {\"grade\":\"Grade 4\",\"subject\":\"Mathematics\",\"strand_name\":\"Money\",\"sub_strands\":[{\"sub_strand_name\":\"Money\",\"specific_learning_outcomes\":[\"By the end of the sub strand, the learner should be able to:\",\"a) convert shillings into cents and cents into shillings in different contexts,\",\"b) participate in shopping activities involving money practically,\",\"c) determine needs and wants in real life situations,\",\"d) practice savings in real life,\",\"e) work out questions involving money in real life situations,\",\"f) identify money people pay to the county government for provision of services,\",\"g) use IT devices for learning and enjoyment,\",\"h) appreciate the use of money in real life.\"],\"key_inquiry_questions\":[\"How can you save money?\"],\"suggested_learning_experiences\":[\"Learners in pairs/groups/individually to convert shillings into cents and cents into shillings using real/ imitation money in different contexts.\",\"Learners in pairs/group to role play shopping activities involving giving change and balance using real/ imitation money.\",\"Learners in pairs/groups to discuss and prioritize needs and wants.\",\"Learners in pairs/groups to discuss meaning of saving.\",\"Learners in pairs/groups to discuss savings at home.\",\"Learners in pairs/groups to discuss how to work out questions involving money in real life situations.\",\"Learners in pairs/groups to discuss market fee, cess, parking fee and business permit as money people pay to county government for provision of services.\",\"Learners in pairs/groups/ individually to play digital games involving money.\"]}]}\n",
      "Function call: Strand with args: {\"grade\":\"Grade 4\",\"subject\":\"Mathematics\",\"strand_name\":\"DATA HANDLING\",\"sub_strands\":[{\"sub_strand_name\":\"DATA (8 Lessons)\",\"specific_learning_outcomes\":[\"By the end of the sub strand, the learner should be able to:\",\"a) represent data involving real life situations using frequency tables,\",\"b) work out questions involving frequency tables representing real life situations,\",\"c) identify where frequency tables are used in real life,\",\"d) use IT devices for learning and enjoyment,\",\"e) appreciate use of frequency tables in representing data in real life situations.\"],\"key_inquiry_questions\":[\"How can you represent data?\"],\"suggested_learning_experiences\":[\"Learners in groups to collect and record data involving real life situations using tally marks.\",\"Learners in pairs/groups/individually to represent data collected from real life situations using frequency tables.\",\"Learners in pairs/groups/individually to interpret frequency tables representing real life situations.\",\"Learners in pairs/groups/individually to work out questions involving frequency tables representing real life situations.\",\"Learners in pairs/groups to discuss where frequency tables are used.\",\"Learners in pairs/groups/individually to use IT devices and learn more on data collection.\"]}]}\n",
      "Function call: Strand with args: {\"grade\":\"Grade 4\",\"subject\":\"Mathematics\",\"strand_name\":\"ALGEBRA\",\"sub_strands\":[{\"sub_strand_name\":\"USE OF LETTERS (6 Lessons)\",\"specific_learning_outcomes\":[\"By the end of the sub strand, the learner should be able to: a) represent the unknown in real life situations using letters, b) form algebraic expressions to represent real life situations, c) simplify algebraic expressions representing real life situations, d) use IT devices for learning and enjoyment, e) appreciate the use of algebraic expressions.\"],\"key_inquiry_questions\":[\"How can you simplify algebraic expressions?\"],\"suggested_learning_experiences\":[\"- Learners in pairs/groups/individually to represent the unknown in real life situations using letters. - Learners in pairs/groups/individually to form algebraic expressions to represent real life situations. - Learners in pairs/groups/individuals to simplify algebraic expressions representing real life situations. - Learners in pairs/groups/individually to play digital games involving algebraic expressions.\"]}]}\n",
      "Function call: Strand with args: {\"grade\":\"Grade 4\",\"subject\":\"Mathematics\",\"strand_name\":\"Subtraction\",\"sub_strands\":[{\"sub_strand_name\":\"1.3 SUBTRACTION\",\"specific_learning_outcomes\":[\"By the end of the sub strand, the learner should be able to: subtract up to 4-digit numbers without regrouping in real life situations, subtract up to 4-digit numbers with regrouping in real life situations, estimate difference by rounding off numbers to the nearest ten in real life situations, create patterns involving subtraction from up to 10,000, use IT devices for learning and enjoyment, appreciate application of subtraction of numbers in real life situations.\"],\"key_inquiry_questions\":[\"1. When do you use subtraction in real life?\",\"2. How do you estimate the difference of given numbers?\",\"3. How do you create patterns involving subtraction?\"],\"suggested_learning_experiences\":[\"Learners in pairs/groups to subtract numbers up to 4-digit numbers without regrouping in real life situations.\",\"Learners in pairs/groups/individually to subtract up to 4-digit numbers with regrouping in real life situations.\",\"Learners in pairs/groups to estimate and work out difference by rounding off the numbers to the nearest ten in real life situations.\",\"Learners in pairs/groups to create patterns involving subtraction of numbers from up to 10,000.\",\"Learners in pairs/groups/individually to play digital games involving subtraction.\"]}]}\n",
      "Function call: Strand with args: {\"grade\":\"Grade 4\",\"subject\":\"Mathematics\",\"strand_name\":\"Addition\",\"sub_strands\":[{\"sub_strand_name\":\"1.2 ADDITION (8 Lessons)\",\"specific_learning_outcomes\":[\"By the end of the sub strand, the learner should be able to: add up to two 4-digit numbers with a) single regrouping up to a sum of 10,000 in different situations, add up to two 4-digit numbers with b) double regrouping up to a sum of 10,000 in real life situations, estimate sum by rounding off numbers c) to the nearest ten in different situations, create patterns involving addition up to d) a sum of 10,000 in real life situations, use IT devices for learning and e) enjoyment, appreciate application of addition of f) numbers in real life situations.\"],\"key_inquiry_questions\":[\"1. When do you use addition in real life?\",\"2. What do you consider when estimating answers in addition?\",\"3. How do you form number patterns in addition?\"],\"suggested_learning_experiences\":[\"Learners in pairs/groups to add up to two 4-digit numbers with single regrouping up to a sum of 10,000 in different situations.\",\"Learners in pairs/groups add up to two 4-digit numbers with double regrouping up to a sum of 10,000 in real life situations.\",\"Learners in pairs/groups to estimate sum by rounding off numbers to be added to the nearest ten in different situations.\",\"Learners in pairs/groups to create patterns involving addition up to a sum of 10,000.\",\"Learners in pairs/groups to play digital games involving addition.\"]}]}\n",
      "Function call: Strand with args: {\"grade\":\"Grade 4\",\"subject\":\"Mathematics\",\"strand_name\":\"Decimals\",\"sub_strands\":[{\"sub_strand_name\":\"1.7 DECIMALS\",\"specific_learning_outcomes\":[\"By the end of the sub strand, the learner\\nshould be able to:\\na) identify a tenth and a hundredth in\\nreal life situations,\\nb) represent decimals using decimal\\nnotation in given situations,\\nc) identify place value of decimals up\\nto hundredths in real life,\\nd) order decimals up to hundredths in\\ncomputation\\ne) use IT devices for learning and\\nleisure,\\nf) appreciate use of decimals in real\\nlife situations.\"],\"key_inquiry_questions\":[\"How can you use decimals in real life\\nsituations?\"],\"suggested_learning_experiences\":[\"Learners in pairs/groups to discuss where tenths and\\nhundredths are used in real life\\nsituations.\\n• Learners in pairs/groups to\\nrepresent decimals using place\\nvalue charts.\\n• Learners in pairs/groups to\\nrepresent tenths and hundredths\\nusing place value charts.\\n• Learners in pairs/groups /\\nindividually to write tenths and\\nhundredths using decimal\\nnotation on a place value chart.\\n• Learners in pairs/groups\\n/individually to order given\\ndecimals in ascending and\\ndescending order.\\n• Learners in pairs/groups/\\nindividually to play digital games\\ninvolving decimals.\"]}]}\n",
      "Function call: Strand with args: {\"grade\":\"Grade 4\",\"subject\":\"Mathematics\",\"strand_name\":\"Angles\",\"sub_strands\":[{\"sub_strand_name\":\"3.2 ANGLES (4 Lessons)\",\"specific_learning_outcomes\":[\"By the end of the sub strand, the learner should be able to:\",\"- identify angles in the environment,\",\"- identify different types of angles in the environment,\",\"- compare angles practically,\",\"- use IT devices for learning and enjoyment,\",\"- appreciate use of angles in real life situations.\"],\"key_inquiry_questions\":[\"Where can you find angles in the environment?\"],\"suggested_learning_experiences\":[\"- Learners in pairs/groups/individually to identify angles in the environment.\",\"- Learners in pairs/groups to identify right angles in the environment.\",\"- Learners in pairs/groups to identify acute angles in the environment.\",\"- Learners in pairs/groups to identify obtuse angles in the environment.\",\"- Learners in pairs/groups to identify reflex angles in the environment.\",\"- Learners in pairs/groups to compare angles using a right angle.\",\"- Learners in pairs/groups/individually to play digital games and learn more about angles.\"]}]}\n",
      "Function call: Strand with args: {\"grade\":\"Grade 4\",\"subject\":\"Mathematics\",\"strand_name\":\"Division\",\"sub_strands\":[{\"sub_strand_name\":\"1.5 DIVISION\",\"specific_learning_outcomes\":[\"By the end of the sub strand, the learner should be able to: divide up to a 2-digit number by a) 1-digit number without remainder in different situations, divide up to a 2-digit number by a b) 1-digit number with remainder in real life situations, use relationship between c) multiplication and division to work out problems in real life situations, d) use IT devices for learning and leisure e) appreciate application of division of numbers in real life situations.\"],\"key_inquiry_questions\":[\"1. When do you use division in real life? 2. How can you estimate quotient?\"],\"suggested_learning_experiences\":[\"Learners in pairs/groups to divide up to a 2-digit number by 1-digit number without remainder using counters. Learners in pairs/groups to divide a 2-digit number by a 1-digit number with remainder using counters. Learners in pairs/groups to divide a 2-digit number by a 1- digit number using the long form of division. Learners in pairs/groups to divide a 2-digit number by a 1-digit number using own strategies. Learners in pairs/groups to use relationship between multiplication and division in working out problems. Learners pairs/groups/individually to play digital games involving division.\"]}]}\n",
      "Function call: Strand with args: {\"grade\":\"Grade 6\",\"subject\":\"Mathematics\",\"strand_name\":\"Numbers\",\"sub_strands\":[{\"sub_strand_name\":\"Division\",\"specific_learning_outcomes\":[\"By the end of the Sub Strand the learner should be able to; a) Divide up to a 4-digit number by up to a 3-digit number where the dividend is greater than the divisor in real life situations, b) Estimate quotients by rounding off the dividend and divisor to the nearest ten in real life situations, c) Perform combined operations involving addition, subtraction, multiplication and division in different situations, d) Use it devices for learning more on division of whole numbers and for enjoyment e) appreciate use of division of whole numbers in real life.\"],\"key_inquiry_questions\":[\"1. How can you estimate quotients?\",\"2. Where is division used in real life?\",\"3. How can you work out questions involving combined operations?\"],\"suggested_learning_experiences\":[\"- Learners in pairs/groups or as individuals to divide up to a 4-digit number by up to a 3-digit number where the dividend is greater than the divisor using; - relationship between multiplication and division - long method. - Learners in pairs/groups or as individuals work out quotients by rounding the dividend and divisor to the nearest ten. - Work out questions involving two, three or four operations. - Learners play digital games involving division.\"]}]}\n",
      "Function call: Strand with args: {\"grade\":\"Grade 6\",\"subject\":\"Mathematics\",\"strand_name\":\"Data Handling\",\"sub_strands\":[{\"sub_strand_name\":\"Bar Graphs\",\"specific_learning_outcomes\":[\"By the end of the Sub Strand, the learner should be able to; a) Collect and represent data from real life situations using tables, b) Represent data from real life situations through piling, c) Represent data from real life situations using bar graphs, d) Interpret information from bar graphs, e) Use IT devices for learning more on bar graphs and for leisure, f) Appreciate use of bar graphs in real life.\"],\"key_inquiry_questions\":[\"How can bar graphs be used in real life situations?\"],\"suggested_learning_experiences\":[\"- Learners in pairs/groups or as individuals are guided to collect data and organise it in a frequency table.\",\"- Learners in pairs/groups or as individuals to represent information through piling similar objects like matchboxes vertically.\",\"- Learners in pairs/groups to represent information by drawing bar graphs.\",\"- Learners in pairs/groups to discuss information represented on bar graphs.\",\"- Learners in pairs/groups or as individuals to use IT devices to learn more on representing data using bar graphs.\"]}]}\n",
      "Function call: Strand with args: {\"grade\":\"Grade 6\",\"subject\":\"Mathematics\",\"strand_name\":\"Measurement\",\"sub_strands\":[{\"sub_strand_name\":\"Capacity\",\"specific_learning_outcomes\":[\"By the end of the Sub Strand, the learner should be able to; a) Identify the relationship among cubic centimetres (cm3), mililitres and litres in real life, b) Convert litres to mililitres in different situations, c) Convert capacity in millilitres to litres in different situations, d) Use it devices for more learning on capacity and for enjoyment, e) Appreciate use of cm3 and litres in measuring capacity in real life.\"],\"key_inquiry_questions\":[\"1. How can we measure capacity?\",\"2. Where is capacity applicable in real life?\"],\"suggested_learning_experiences\":[\"• Learners in pairs/groups or as individuals to identify the relationship between cm3, mililitres and litres through measuring practically.\",\"• Learners in pairs/groups or as individuals to measure capacity in millilitres and litres.\",\"• Learners in pairs/groups or as individuals to convert capacity in litres to millilitres.\",\"• Learners in pairs/groups or as individuals to convert capacity in millilitres to litres.\",\"• Learners in pairs/groups or as individuals to play digital games involving capacity.\"]}]}\n",
      "Function call: Strand with args: {\"grade\":\"Grade 6\",\"subject\":\"Mathematics\",\"strand_name\":\"Measurement\",\"sub_strands\":[{\"sub_strand_name\":\"Area (6 Lessons)\",\"specific_learning_outcomes\":[\"By the end of the Sub Strand, the learner should be able to; a) Work out area of triangles in square centimetres (cm2) in different situations, b) Work out area of combined shapes involving squares, rectangles and triangles in cm2 in different situations, c) Use IT devices for learning more on area and for enjoyment, d) Appreciate the use of cm2 in working out area in real life\"],\"key_inquiry_questions\":[\"Where is area used in real life?\"],\"suggested_learning_experiences\":[\"- Learners in pairs/groups or as individuals are guided to establish that the area of a triangle is equal to a half of the area of a rectangle or a square when the rectangle or the square is divided by a diagonal.\",\"- Learners in pairs/groups work out the area of triangles in cm2 using the relationship between a rectangle and a triangle (Area of a triangle is equal to ½ area of a rectangle or square. A = ½ (Lx W).\",\"- Learners in pairs/groups or as individuals to come up with own combined shapes involving rectangles squares, - triangles and ask other groups/pairs to determine the area.\",\"- Learners in pairs/groups to play digital games involving area.\"]}]}\n",
      "Function call: Strand with args: {\"grade\":\"Grade 6\",\"subject\":\"Mathematics\",\"strand_name\":\"Measurement\",\"sub_strands\":[{\"sub_strand_name\":\"Money (8 lessons)\",\"specific_learning_outcomes\":[\"By the end of the Sub Strand, the learner should be able to; a) Prepare a simple budget, b) Work out profit and loss in real life situations, c) Identify types of taxes in different situations, d) Use IT devices to learn about profit and loss, e) Appreciate profit and loss in real life situations.\"],\"key_inquiry_questions\":[\"Why is it important to prepare a budget?\",\"How can you make profit in a business?\"],\"suggested_learning_experiences\":[\"- Learners in pairs/groups or as individuals to prepare price lists.\",\"- Learners in pairs/groups or as individuals to discuss factors to consider when preparing a simple budget.\",\"- Learners in pairs/groups or as individuals to prepare a budget.\",\"- Learners in pairs/groups or as individuals to discuss the meaning of profit and loss in real life situations and share with other groups.\",\"- Learners in pairs/groups or as individuals work out questions involving profit and loss.\",\"- Learners in pairs/groups or as individuals to discuss income and value added tax (VAT) as types of taxes.\",\"- Learners in pairs/groups to use IT devices to play digital games.\"]}]}\n",
      "Function call: Strand with args: {\"grade\":\"Grade 6\",\"subject\":\"Mathematics\",\"strand_name\":\"2.0 MEASUREMENTS\",\"sub_strands\":[{\"sub_strand_name\":\"2.5 Time (10 Lessons)\",\"specific_learning_outcomes\":[\"By the end of the sub-strand, the learner should be able to; a) Identify time in a.m. And p.m. In day to day life experiences, b) Write time in a.m. And p.m. In day to day life experiences, c) Relate time in a.m. And p.m. To the 24h clock system, d) Convert time from 12h to 24h and 24h to 12h system, e) Interpret travel timetable in different situations, f) Use it devices for learning more on reading time and for leisure, g) Appreciate use of time in both 12h and 24h systems\"],\"key_inquiry_questions\":[\"How can you read and tell time?\"],\"suggested_learning_experiences\":[\"- Learners in pairs/groups or as individuals are guided to identify time in a.m. and p.m. from digital and analogue clocks. - Learners in pairs/groups or as individuals to write time in a.m. and p.m. from digital and analogue clocks. - Learners in pairs/groups or as individuals to relate time in a.m. and p.m. to the 24h clock system using a chart. - Learners in pairs/groups or as individuals to convert time from the 12h to 24h system and 24h to 12h using a chart. - Learners in pairs/groups or as individuals to interpret travel timetables. - Learners in pairs/groups or as individuals to determine time durations using travel timetables. - Learners in pairs/groups or as individuals to play digital games involving time on 12h and 24 h systems.\"]}]}\n",
      "Function call: Strand with args: {\"grade\":\"Grade 6\",\"subject\":\"Mathematics\",\"strand_name\":\"Measurement\",\"sub_strands\":[{\"sub_strand_name\":\"Mass\",\"specific_learning_outcomes\":[\"By the end of the Sub Strand, the learner should be able to; a) Identify the tonne as a unit for measuring mass in real life, b) Identify items measured in tonnes in real life, c) Identify the relationship between the kilogram and the tonne practically, d) Estimate mass in tonnes in different situations, e) Convert kilograms to tonnes and tonnes to kilograms in real life situations, f) Add tonnes and kilograms in real life situations, g) Subtract tonnes and kilograms in real life situations, h) Multiply tonnes and kilograms by whole numbers in real life situations, i) Divide tonnes and kilograms by whole numbers in real life situations, j) Use it devices for learning more on mass and for enjoyment, k) Appreciate use of the kilogram and tonne in measuring mass.\"],\"key_inquiry_questions\":[\"1. How can we measure large amounts of mass?\",\"2. In what situations would the tonne be more applicable to use when measuring mass?\"],\"suggested_learning_experiences\":[\"• Learners in pairs/groups/or as individuals are guided to identify the tonne as a unit of measuring mass though discussions.\",\"• Learners in pairs/groups/or as individuals to discuss items whose mass may be measured in tonnes\",\"• Leaners in pairs/groups or as individuals to identify the relationship between the kilogram and the tonne (1000kg = 1 tonne).\",\"• Learners in pairs estimate mass of objects in tonnes.\",\"• Learners in pairs/groups or as individuals to convert kilograms to tonnes and tonnes to kilograms in real life situations.\",\"• Learners in pairs/groups or as individuals to determine mass of items in tonnes and kilograms using different operations in real life situations.\",\"• Learners in pairs/groups/individuals to play digital games involving mass\"]}]}\n",
      "Function call: Strand with args: {\"grade\":\"Grade 6\",\"subject\":\"Mathematics\",\"strand_name\":\"Numbers\",\"sub_strands\":[{\"sub_strand_name\":\"Multiplication\",\"specific_learning_outcomes\":[\"By the end of the Sub Strand, the learner should be able to; a) Multiply up to a 4-digit number by a 2-digit number in real life situations, b) Estimate products by rounding off numbers being multiplied to the nearest ten in real life situations, c) Make patterns involving multiplication of numbers not exceeding 10,000 in different situations, d) Use IT devices for learning more on multiplication and for enjoyment, e) Appreciate use of multiplication in real life.\"],\"key_inquiry_questions\":[\"1. Where is multiplication used in real life situations?\",\"2. How can you estimate products of numbers?\",\"3. How can you form patterns involving multiplication?\"],\"suggested_learning_experiences\":[\"- Learners in pairs/groups or as individuals to multiply up to a 4-digit number by a 2-digit number using; - fact families - skip counting - multiplication chart - expanded form - IT devices.\",\"- Learners in pairs/groups or as individuals to estimate products using; - rounding off factors - compatibility of numbers - own strategies.\",\"- Learners in pairs/groups or as individuals to make patterns involving multiplication with products not exceeding 10,000 using number cards.\",\"- Learners in pairs/groups or as individuals to play digital games involving multiplication.\"]}]}\n",
      "Function call: Strand with args: {\"grade\":\"Grade 6\",\"subject\":\"Mathematics\",\"strand_name\":\"Geometry\",\"sub_strands\":[{\"sub_strand_name\":\"Angles\",\"specific_learning_outcomes\":[\"By the end of the Sub Strand, the learner should be able to; a) identify angles on a straight line in different situations, b) measure angles on a straight line in different situations, c) determine the sum of angles in a triangle practically, d) use IT devices for learning more on angles and for enjoyment, e) appreciate use of angles in real life.\"],\"key_inquiry_questions\":[\"Where can you use angles in real life?\"],\"suggested_learning_experiences\":[\"Learners in pairs/groups or as individuals to identify angles on a straight line practically.\",\"Learners in pairs/groups or as individuals to measure angles on a straight line in degrees\",\"Learners in pairs/groups or as individuals to practically establish that the sum of angles in a triangle is equal to two (2) right angles.\",\"Learners in pairs/groups or as individuals to play digital games involving angles.\"]}]}\n",
      "Function call: Strand with args: {\"grade\":\"Grade 6\",\"subject\":\"Mathematics\",\"strand_name\":\"Geometry\",\"sub_strands\":[{\"sub_strand_name\":\"Lines\",\"specific_learning_outcomes\":[\"By the end of the sub-strand, the learner should be able to; a) Construct parallel lines in different situations, b) Bisect lines through construction, c) Construct perpendicular lines in different situations, d) Use it devices for more learning on lines and leisure e) Appreciate use of lines in daily life.\"],\"key_inquiry_questions\":[\"1. Why do we need to construct lines? 2. How can you construct a line?\"],\"suggested_learning_experiences\":[\"- Learners in pairs/groups or as individuals to construct parallel lines using geometrical instruments. - Learners in pairs/groups or as individuals to bisect lines using geometrical instruments. - Leaners in pairs/groups or as individuals to construct perpendicular lines using geometrical instruments. - Learners in pairs/groups or as individuals to play digital games.\"]}]}\n",
      "Function call: Strand with args: {\"grade\":\"Grade 6\",\"subject\":\"Mathematics\",\"strand_name\":\"Geometry\",\"sub_strands\":[{\"sub_strand_name\":\"3-D Objects\",\"specific_learning_outcomes\":[\"By the end of the Sub Strand, the learner should be able to; a) Identify vertices, faces and edges in 3-D objects, b) Use IT devices for learning more on 3-D objects and for enjoyment, c) Appreciate use of 3-D objects in real life.\"],\"key_inquiry_questions\":[\"Where can we use 3-D objects?\"],\"suggested_learning_experiences\":[\"• Learners in pairs/groups or as individuals are guided to identify 3-D objects in the environment. • Learners in pairs/groups to identify cubes, cuboids, cylinders and pyramids in the environment. • Learners in pairs and groups to identify vertices, faces and edges of cubes, cuboids, cylinders and pyramids in different situations. • Learners in pairs/groups or as individuals to play digital games.\"]}]}\n",
      "Function call: Strand with args: {\"grade\":\"Grade 6\",\"subject\":\"Mathematics\",\"strand_name\":\"Numbers\",\"sub_strands\":[{\"sub_strand_name\":\"Fractions\",\"specific_learning_outcomes\":[\"By the end of the Sub Strand, the learner should be able to;\",\"a) Identify LCM of given numbers in different situations,\",\"b) Add fractions using LCM in different situations,\",\"c) Subtract fractions using LCM in different situations,\",\"d) Add mixed numbers in different situations,\",\"e) Subtract mixed numbers in different situations,\",\"f) Identify reciprocal of fractions for use in different situations,\",\"g) Work out squares of fractions in different situations,\",\"h) Convert fractions to equivalent fractions with denominator 100 in different situations,\",\"i) Identify percentage as a fraction for use in different situations,\",\"j) Convert fractions to percentages in different situations,\",\"k) Convert percentages to fractions in different situations,\",\"l) use IT devices for learning more on fractions,\",\"m) appreciate use of fractions in real life\"],\"key_inquiry_questions\":[\"1. Where are squares and fractions used in real life?\",\"2. Where are percentages used in our day to day lives?\"],\"suggested_learning_experiences\":[\"• Learners in pairs/groups or as individuals to identify LCM of numbers given from number cards.\",\"• Learners in pairs/groups to add and subtract fractions using LCM by listing multiples.\",\"• Learners in pairs/groups or as individuals to add and subtract mixed fractions by converting the fractions to improper fractions.\",\"• Learners in pairs/groups or as individuals to add and subtract mixed fractions by adding and subtracting whole number and fraction parts separately.\",\"• Learners in pairs/groups or as individuals to multiply fractions by whole numbers to get one.\",\"• Learners in pairs/groups or as individuals to discuss the results and identify the reciprocal of a fraction.\",\"• Learners in pairs/groups or as individuals to work out squares of fractions through multiplication practically.\",\"• Learners in pairs/groups or as individuals to convert fractions to equivalent fractions with denominator 100 through multiplication.\",\"• Learners in pairs/groups or as individuals to identify a percentage as a fraction with denominator 100\",\"• Learners in pairs/groups to discuss real-life situations where percentages are used.\",\"• Learners in pairs/groups or as individuals to convert fractions to percentages and percentages to fractions.\",\"• Learners to play digital games involving fractions.\"]}]}\n",
      "Function call: Strand with args: {\"grade\":\"Grade 6\",\"subject\":\"Mathematics\",\"strand_name\":\"Algebra\",\"sub_strands\":[{\"sub_strand_name\":\"Inequalities\",\"specific_learning_outcomes\":[\"By the end of the Sub Strand, the learner should be able to; a) Form simple inequalities in one unknown involving real life situations, b) Simplify simple inequalities in one unknown involving real life situations, c) Use IT devices to simplify inequalities and play digital games involving inequalities. d) Appreciate use of algebraic expressions in real life.\"],\"key_inquiry_questions\":[\"Where are algebraic expressions used?\"],\"suggested_learning_experiences\":[\"- Learners in pairs/groups or as individuals to discuss meaning of algebraic inequality symbols ‘>’ and ‘<’, - Learners in pairs/groups or as individuals to form algebraic inequalities in one unknown using different operations, - Learners in pairs/groups or as individuals to simplify algebraic inequalities in one unknown, - Learners in pairs/groups or as individuals to use IT devices to simplify algebraic inequalities and play digital games.\"]}]}\n",
      "Function call: Strand with args: {\"grade\":\"Grade 6\",\"subject\":\"Mathematics\",\"strand_name\":\"Numbers\",\"sub_strands\":[{\"sub_strand_name\":\"Decimals\",\"specific_learning_outcomes\":[\"Identify decimals up to ten thousandths in different situations\",\"Round off decimals in different situations\",\"Convert decimals to fractions in different situations\",\"Convert fractions to decimals in different situations\",\"Convert decimals to percentages in different situations\",\"Convert percentages to decimals in different situations\",\"Add decimals up to 4-decimal places in different situations\",\"Subtract decimals up to 4-decimal places in different situations\",\"Use IT devices for more learning on decimals and leisure\",\"Appreciate use of decimals in real-life situations\"],\"key_inquiry_questions\":[\"Where are decimals applicable in real life?\"],\"suggested_learning_experiences\":[\"- Learners in pairs/groups or as individuals to identify place value of decimals up to ten thousandths using place value apparatus.\",\"- Learners in pairs/groups or as individuals to relate place value of decimals up to ten thousandths to the number of decimal places.\",\"- Learners in pairs/groups or as individuals to round off decimals to a given number of decimal places.\",\"- Learners in pairs/groups or as individuals to convert decimals to fractions using a square/rectangular grid.\",\"- Learners in pairs/groups or as individuals to convert fractions to decimals using a square/rectangular grid.\",\"- Learners in pairs/groups or as individuals to convert decimals to percentages and percentages to decimals.\",\"- Learners in pairs/groups or as individuals to add decimals up to 4-decimal places using place value apparatus.\",\"- Learners in pairs/groups or as individuals to subtract decimals up to 4-decimal places using place value apparatus.\",\"- Learners in pairs/groups or as individuals to play digital games involving decimals.\"]}]}\n",
      "Function call: Strand with args: {\"grade\":\"Grade 6\",\"subject\":\"Mathematics\",\"strand_name\":\"Measurement\",\"sub_strands\":[{\"sub_strand_name\":\"Length\",\"specific_learning_outcomes\":[\"By the end of the Sub Strand, the learner should be able to; a) Use the millimetre (mm) as a unit of measuring length in different situations, b) Establish the relationship between the millimetre and centimetre in different situations, c) Convert centimetres to millimetres in different situations, d) Convert millimetres to centimetres in different situations, e) add centimetres and millimetres in different situations, f) Subtract centimetres and millimetres in different situations, g) Multiply centimetres and millimetres by whole numbers in real life situations, h) Divide centimetres and millimetres by whole numbers in real life situations, i) Measure the circumference of a circle practically, j) Identify the relationship between circumference and diameter in different situations, k) Use it devices for learning more on length and for enjoyment, l) Appreciate use of length in real life situations\"],\"key_inquiry_questions\":[\"1. Why do we measure distances in day to day life?\",\"2. What do we use to measure length in real life?\"],\"suggested_learning_experiences\":[\"• Learners in pairs/groups or as individuals to identify the millimetre as a unit of measuring length using a ruler.\",\"• Learners in pairs/groups or as individuals to measure length in millimetres using a ruler.\",\"• Leaners in pairs/groups or as individuals to measure a given length in cm and mm to establish the relationship between mm and cm.\",\"• Learners in pairs/groups or as individuals to convert mm to cm and cm to mm when measuring lengths of different objects.\",\"• Learners to choose appropriate units to measure lengths of different objects.\",\"• Learners in pairs/groups or as individuals determine lengths in mm and cm in addition, subtraction, multiplication and division.\",\"• Learners in pairs/groups or as individuals to work out the circumference, diameter and radius of a circle practically.\",\"• Learners in pairs/groups or as individuals to measure the circumference of a circle practically.\",\"• Learners in pairs/groups or as individuals to divide circumference by diameter to get pi (?).\",\"• Leaners in pairs/groups or as individuals to play digital games involving length in mm and cm.\"]}]}\n",
      "Function call: Strand with args: {\"grade\":\"Grade 6\",\"subject\":\"Mathematics\",\"strand_name\":\"Numbers\",\"sub_strands\":[{\"sub_strand_name\":\"Whole numbers\",\"specific_learning_outcomes\":[\"By the end of the Sub Strand, the learner should be able to; a) Use place value and total value of digits up to millions in real life, b) Use numbers up to millions in symbols in real life, c) Read, write and relate numbers up to 100,000 in words in real life, d) Order numbers up to 100,000 in real life situations, e) round off numbers up to 100,000 to the nearest thousand in different situations, f) Apply squares of whole numbers up to 100 in different situations, g) Apply square roots of perfect squares up to 10,000 in different situations, h) Use it devices for learning more on whole numbers and for enjoyment, i) appreciate use of whole numbers in real life situations.\"],\"key_inquiry_questions\":[\"1. How can you work out squares of numbers?\",\"2. How can you work out square roots of numbers?\",\"3. Where are squares and square roots used in real life?\"],\"suggested_learning_experiences\":[\"• Learners in pairs/groups or as individuals to identify place value of digits up to millions using place value apparatus.\",\"• Learners in pairs/groups or as individuals to identify total value of digits up to millions using place value apparatus.\",\"• Learners in pairs/groups or as individuals to read numbers up to hundreds of thousands millions in symbols from number charts/cards.\",\"• Learners in pairs/groups or as individuals to form different numbers by rearranging digits of a given number.\",\"• Learners in pairs/groups thousand from number cards and share with other groups.\",\"• Learners in pairs/groups or as individuals to multiply a given number by itself and identify the answer as the square of the number.\",\"• Learners in pairs/groups or as individuals to identify the square root of a given number as a value which when multiplied by itself results in the given number.\",\"• Learners in pairs/groups or as individuals to play digital games involving whole numbers.\"]}]}\n"
     ]
    }
   ],
   "source": [
    "strands = []\n",
    "# Assuming `df_merged` is loaded and `program` is configured as shown earlier\n",
    "\n",
    "for index, row in df_merged.iterrows():\n",
    "    grade, subject = row['folder_name_x'].split()[:2]  # Simplified extraction, adjust as necessary\n",
    "    input_details_x = row['details_x']\n",
    "    # input_details_y = row['details_y']\n",
    "    \n",
    "    # # Construct the input for the model\n",
    "    # formatted_input = prompt_template_str.format(\n",
    "    #     input_folder_name=f\"{grade} {subject}\",\n",
    "    #     input_details_x=input_details_x,\n",
    "    #     input_details_y=input_details_y\n",
    "    # )\n",
    "    \n",
    "    # Execute the program (This step is theoretical in this context)\n",
    "    strand = program(input_folder_name=f\"{grade} {subject}\",input_details_x=input_details_x)  # Modify as per actual function call syntax\n",
    "    strands.append(strand)\n"
   ]
  },
  {
   "cell_type": "code",
   "execution_count": 15,
   "metadata": {},
   "outputs": [
    {
     "ename": "AttributeError",
     "evalue": "'list' object has no attribute 'grade'",
     "output_type": "error",
     "traceback": [
      "\u001b[0;31m---------------------------------------------------------------------------\u001b[0m",
      "\u001b[0;31mAttributeError\u001b[0m                            Traceback (most recent call last)",
      "Cell \u001b[0;32mIn[15], line 10\u001b[0m\n\u001b[1;32m      8\u001b[0m \u001b[38;5;66;03m# Iterate through each strand to count grades, subjects, and strand names\u001b[39;00m\n\u001b[1;32m      9\u001b[0m \u001b[38;5;28;01mfor\u001b[39;00m strand \u001b[38;5;129;01min\u001b[39;00m strands:\n\u001b[0;32m---> 10\u001b[0m     grade_counter[\u001b[43mstrand\u001b[49m\u001b[38;5;241;43m.\u001b[39;49m\u001b[43mgrade\u001b[49m] \u001b[38;5;241m+\u001b[39m\u001b[38;5;241m=\u001b[39m \u001b[38;5;241m1\u001b[39m\n\u001b[1;32m     11\u001b[0m     subject_counter[strand\u001b[38;5;241m.\u001b[39msubject] \u001b[38;5;241m+\u001b[39m\u001b[38;5;241m=\u001b[39m \u001b[38;5;241m1\u001b[39m\n\u001b[1;32m     12\u001b[0m     strand_name_counter[strand\u001b[38;5;241m.\u001b[39mstrand_name] \u001b[38;5;241m+\u001b[39m\u001b[38;5;241m=\u001b[39m \u001b[38;5;241m1\u001b[39m\n",
      "\u001b[0;31mAttributeError\u001b[0m: 'list' object has no attribute 'grade'"
     ]
    }
   ],
   "source": [
    "from collections import Counter\n",
    "# Initialize counters\n",
    "grade_counter = Counter()\n",
    "subject_counter = Counter()\n",
    "strand_name_counter = Counter()\n",
    "sub_strand_name_counter = Counter()\n",
    "\n",
    "# Iterate through each strand to count grades, subjects, and strand names\n",
    "for strand in strands:\n",
    "    grade_counter[strand.grade] += 1\n",
    "    subject_counter[strand.subject] += 1\n",
    "    strand_name_counter[strand.strand_name] += 1\n",
    "    \n",
    "    # Iterate through each sub_strand within a strand to count sub_strand names\n",
    "    for sub_strand in strand.sub_strands:\n",
    "        sub_strand_name_counter[sub_strand.sub_strand_name] += 1\n",
    "\n",
    "# Print the summary statistics\n",
    "print(\"Grade Counts:\", dict(grade_counter))\n",
    "print(\"Subject Counts:\", dict(subject_counter))\n",
    "print(\"Strand Name Counts:\", dict(strand_name_counter))\n",
    "print(\"Sub-Strand Name Counts:\", dict(sub_strand_name_counter))"
   ]
  },
  {
   "cell_type": "code",
   "execution_count": 18,
   "metadata": {},
   "outputs": [
    {
     "data": {
      "text/plain": [
       "Counter()"
      ]
     },
     "execution_count": 18,
     "metadata": {},
     "output_type": "execute_result"
    }
   ],
   "source": [
    "grade_counter"
   ]
  },
  {
   "cell_type": "code",
   "execution_count": 12,
   "metadata": {},
   "outputs": [
    {
     "ename": "NameError",
     "evalue": "name 'df_merged' is not defined",
     "output_type": "error",
     "traceback": [
      "\u001b[0;31m---------------------------------------------------------------------------\u001b[0m",
      "\u001b[0;31mNameError\u001b[0m                                 Traceback (most recent call last)",
      "Cell \u001b[0;32mIn[12], line 1\u001b[0m\n\u001b[0;32m----> 1\u001b[0m \u001b[43mdf_merged\u001b[49m\u001b[38;5;241m.\u001b[39mhead(\u001b[38;5;241m1\u001b[39m)\n",
      "\u001b[0;31mNameError\u001b[0m: name 'df_merged' is not defined"
     ]
    }
   ],
   "source": [
    "# df_merged.head(1)"
   ]
  },
  {
   "cell_type": "code",
   "execution_count": null,
   "metadata": {},
   "outputs": [],
   "source": [
    "# grade: [Grade Level from folder_name_x ]\n",
    "# subject: [Subject Name from folder_name_x]\n",
    "# sub_strand: [Name of each sub-strand within a strand. Found in details_x]\n",
    "# specific_learning_outcomes: [List of learning outcomes for each sub-strand. Found in details_x]\n",
    "# key_inquiry_question: [Key questions for each sub-strand. Found in details_x]]\n",
    "# suggested_learning_experiences: [List of suggested activities and experiences. Found in details_x]\n",
    "# assessment_rubrics: Array of objects, each representing an assessment indicator with detailed rubrics. For each indicator, include:\n",
    "# indicator_name: Name of the indicator.\n",
    "# rubrics: Array of objects detailing the achievement levels (Exceeds, Meets, Approaches, Below Expectations), with a level key and a statement key describing the criteria for each level."
   ]
  }
 ],
 "metadata": {
  "kernelspec": {
   "display_name": ".venv",
   "language": "python",
   "name": "python3"
  },
  "language_info": {
   "codemirror_mode": {
    "name": "ipython",
    "version": 3
   },
   "file_extension": ".py",
   "mimetype": "text/x-python",
   "name": "python",
   "nbconvert_exporter": "python",
   "pygments_lexer": "ipython3",
   "version": "3.10.12"
  }
 },
 "nbformat": 4,
 "nbformat_minor": 2
}
