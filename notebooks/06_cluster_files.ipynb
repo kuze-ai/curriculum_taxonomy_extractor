{
 "cells": [
  {
   "cell_type": "code",
   "execution_count": 6,
   "metadata": {},
   "outputs": [],
   "source": [
    "import linktransformer as lt\n"
   ]
  },
  {
   "cell_type": "code",
   "execution_count": 10,
   "metadata": {},
   "outputs": [],
   "source": [
    "from dotenv import load_dotenv\n",
    "load_dotenv()\n",
    "import os\n",
    "import pandas as pd"
   ]
  },
  {
   "cell_type": "code",
   "execution_count": 5,
   "metadata": {},
   "outputs": [],
   "source": [
    "# folder_path = \"/home/njui/kn_workspace/curriculum_taxonomy_extractor/data/processed/CBC Math/Grade 4 Curriculum designs Maths CSV\""
   ]
  },
  {
   "cell_type": "code",
   "execution_count": 15,
   "metadata": {},
   "outputs": [],
   "source": [
    "import os\n",
    "import chardet\n",
    "import pandas as pd\n",
    "\n",
    "# Specify multiple folder paths here\n",
    "folder_paths = [\n",
    "    \"../data/processed/cbc_math/Grade 3 Curriculum designs Maths CSV\",\n",
    "    \"../data/processed/cbc_math/Grade 4 Curriculum designs Maths CSV\",\n",
    "    \"../data/processed/cbc_math/Grade 6 Curriculum designs Maths CSV\",\n",
    "    # Add more paths as needed\n",
    "]\n",
    "\n",
    "# Initialize lists to store the data\n",
    "file_names = []\n",
    "file_paths = []\n",
    "folder_names = []\n",
    "file_details = []\n",
    "indicator_files = []\n",
    "read_status= []\n",
    "\n",
    "# Keywords to check in the CSV contents\n",
    "key_words = [\"meets expectations\", \"below expectations\"]\n",
    "\n",
    "# Iterate through each specified folder path\n",
    "for folder_path in folder_paths:\n",
    "    for root, dirs, files in os.walk(folder_path):\n",
    "        for file in files:\n",
    "            # Construct the full file path\n",
    "            full_file_path = os.path.join(root, file)\n",
    "            file_names.append(file)\n",
    "            file_paths.append(full_file_path)\n",
    "            folder_name = os.path.basename(root)\n",
    "            folder_names.append(folder_name)\n",
    "\n",
    "            # Read the CSV file and convert it to a JSON string\n",
    "            try:\n",
    "                with open(full_file_path, 'rb') as file:\n",
    "                    result = chardet.detect(file.read())\n",
    "                    encoding = result['encoding']\n",
    "                df_temp = pd.read_csv(full_file_path, encoding=encoding)\n",
    "                details = df_temp.to_json()\n",
    "                file_details.append(details)\n",
    "                \n",
    "                # Check if any of the key words are in the CSV\n",
    "                indicator = any(word in df_temp.to_string().lower() for word in key_words)\n",
    "                indicator_files.append(indicator)\n",
    "                read_status.append(True)\n",
    "            except Exception as e:\n",
    "                file_details.append({'error': str(e)})\n",
    "                read_status.append(False)\n",
    "                indicator_files.append('')  # Default to False in case of error\n",
    "\n",
    "# Create a dataframe with the collected data\n",
    "df = pd.DataFrame({\n",
    "    'file_name': file_names,\n",
    "    'file_path': file_paths,\n",
    "    'folder_name': folder_names,\n",
    "    'details': file_details,\n",
    "    'indicator_status': indicator_files,\n",
    "    'read_status': read_status\n",
    "})\n"
   ]
  },
  {
   "cell_type": "code",
   "execution_count": 18,
   "metadata": {},
   "outputs": [],
   "source": [
    "# df.head(10)"
   ]
  },
  {
   "cell_type": "code",
   "execution_count": 17,
   "metadata": {},
   "outputs": [
    {
     "name": "stdout",
     "output_type": "stream",
     "text": [
      "[ True]\n"
     ]
    }
   ],
   "source": [
    "distinct_read_status = df['read_status'].unique()\n",
    "print(distinct_read_status)"
   ]
  },
  {
   "cell_type": "code",
   "execution_count": 19,
   "metadata": {},
   "outputs": [],
   "source": [
    "df_grouped = df.groupby('indicator_status')\n",
    "\n",
    "# Get the DataFrames for each group\n",
    "df_rubrics = df_grouped.get_group(True)\n",
    "df_strands = df_grouped.get_group(False)\n"
   ]
  },
  {
   "cell_type": "code",
   "execution_count": 40,
   "metadata": {},
   "outputs": [],
   "source": [
    "# df_strands.head"
   ]
  },
  {
   "cell_type": "code",
   "execution_count": 20,
   "metadata": {},
   "outputs": [
    {
     "name": "stdout",
     "output_type": "stream",
     "text": [
      "No base organization specified, if there is an error, it is likely because of that.\n",
      "Trying to append the model : sentence-transformers/all-MiniLM-L6-v2 and linktransformers/all-MiniLM-L6-v2. Check your path otherwise!\n"
     ]
    },
    {
     "name": "stdout",
     "output_type": "stream",
     "text": [
      "Trying sentence-transformers/all-MiniLM-L6-v2...\n",
      "No base organization specified, if there is an error, it is likely because of that.\n",
      "Trying to append the model : sentence-transformers/all-MiniLM-L6-v2 and linktransformers/all-MiniLM-L6-v2. Check your path otherwise!\n",
      "Trying sentence-transformers/all-MiniLM-L6-v2...\n",
      "2024-03-05 16:26:21 - HTTP Request: POST https://api.openai.com/v1/embeddings \"HTTP/1.1 200 OK\"\n",
      "2024-03-05 16:26:22 - HTTP Request: POST https://api.openai.com/v1/embeddings \"HTTP/1.1 200 OK\"\n",
      "2024-03-05 16:26:22 - HTTP Request: POST https://api.openai.com/v1/embeddings \"HTTP/1.1 200 OK\"\n",
      "2024-03-05 16:26:22 - HTTP Request: POST https://api.openai.com/v1/embeddings \"HTTP/1.1 200 OK\"\n",
      "2024-03-05 16:26:23 - HTTP Request: POST https://api.openai.com/v1/embeddings \"HTTP/1.1 200 OK\"\n",
      "2024-03-05 16:26:23 - HTTP Request: POST https://api.openai.com/v1/embeddings \"HTTP/1.1 200 OK\"\n",
      "2024-03-05 16:26:24 - HTTP Request: POST https://api.openai.com/v1/embeddings \"HTTP/1.1 200 OK\"\n",
      "2024-03-05 16:26:25 - HTTP Request: POST https://api.openai.com/v1/embeddings \"HTTP/1.1 200 OK\"\n",
      "2024-03-05 16:26:25 - HTTP Request: POST https://api.openai.com/v1/embeddings \"HTTP/1.1 200 OK\"\n",
      "2024-03-05 16:26:26 - HTTP Request: POST https://api.openai.com/v1/embeddings \"HTTP/1.1 200 OK\"\n",
      "2024-03-05 16:26:26 - HTTP Request: POST https://api.openai.com/v1/embeddings \"HTTP/1.1 200 OK\"\n",
      "2024-03-05 16:26:27 - HTTP Request: POST https://api.openai.com/v1/embeddings \"HTTP/1.1 200 OK\"\n",
      "2024-03-05 16:26:27 - HTTP Request: POST https://api.openai.com/v1/embeddings \"HTTP/1.1 200 OK\"\n",
      "2024-03-05 16:26:27 - HTTP Request: POST https://api.openai.com/v1/embeddings \"HTTP/1.1 200 OK\"\n",
      "2024-03-05 16:26:28 - HTTP Request: POST https://api.openai.com/v1/embeddings \"HTTP/1.1 200 OK\"\n",
      "2024-03-05 16:26:29 - HTTP Request: POST https://api.openai.com/v1/embeddings \"HTTP/1.1 200 OK\"\n",
      "2024-03-05 16:26:30 - HTTP Request: POST https://api.openai.com/v1/embeddings \"HTTP/1.1 200 OK\"\n",
      "2024-03-05 16:26:30 - HTTP Request: POST https://api.openai.com/v1/embeddings \"HTTP/1.1 200 OK\"\n",
      "2024-03-05 16:26:30 - HTTP Request: POST https://api.openai.com/v1/embeddings \"HTTP/1.1 200 OK\"\n",
      "2024-03-05 16:26:31 - HTTP Request: POST https://api.openai.com/v1/embeddings \"HTTP/1.1 200 OK\"\n",
      "2024-03-05 16:26:31 - HTTP Request: POST https://api.openai.com/v1/embeddings \"HTTP/1.1 200 OK\"\n",
      "2024-03-05 16:26:32 - HTTP Request: POST https://api.openai.com/v1/embeddings \"HTTP/1.1 200 OK\"\n",
      "2024-03-05 16:26:32 - HTTP Request: POST https://api.openai.com/v1/embeddings \"HTTP/1.1 200 OK\"\n",
      "2024-03-05 16:26:33 - HTTP Request: POST https://api.openai.com/v1/embeddings \"HTTP/1.1 200 OK\"\n",
      "2024-03-05 16:26:33 - HTTP Request: POST https://api.openai.com/v1/embeddings \"HTTP/1.1 200 OK\"\n",
      "2024-03-05 16:26:34 - HTTP Request: POST https://api.openai.com/v1/embeddings \"HTTP/1.1 200 OK\"\n",
      "2024-03-05 16:26:34 - HTTP Request: POST https://api.openai.com/v1/embeddings \"HTTP/1.1 200 OK\"\n",
      "2024-03-05 16:26:34 - HTTP Request: POST https://api.openai.com/v1/embeddings \"HTTP/1.1 200 OK\"\n"
     ]
    }
   ],
   "source": [
    "# Using the lt.merge function to perform a semantic merge\n",
    "df_merged = lt.merge(\n",
    "    df1=df_strands, \n",
    "    df2=df_rubrics, \n",
    "    on=['file_name','folder_name','details'], \n",
    "    merge_type='1:1',\n",
    "    model='all-MiniLM-L6-v2',\n",
    "    left_on=None, \n",
    "    right_on=None, \n",
    "    suffixes=('_x', '_y'), \n",
    "    use_gpu=False, \n",
    "    batch_size=128, \n",
    "    openai_key=os.getenv('OPENAI_API_KEY')  # Assuming you've set your API key in the environment\n",
    ")\n"
   ]
  },
  {
   "cell_type": "code",
   "execution_count": 22,
   "metadata": {},
   "outputs": [
    {
     "data": {
      "text/plain": [
       "(48, 15)"
      ]
     },
     "execution_count": 22,
     "metadata": {},
     "output_type": "execute_result"
    }
   ],
   "source": [
    "df_merged.shape"
   ]
  },
  {
   "cell_type": "code",
   "execution_count": 32,
   "metadata": {},
   "outputs": [],
   "source": [
    "df_merged.to_csv('../data/processed/df_merged_math_cbc.csv', index=False)\n"
   ]
  },
  {
   "cell_type": "code",
   "execution_count": 11,
   "metadata": {},
   "outputs": [],
   "source": [
    "df_merged = pd.read_csv('../data/processed/df_merged_math_cbc.csv')"
   ]
  },
  {
   "cell_type": "code",
   "execution_count": 4,
   "metadata": {},
   "outputs": [],
   "source": [
    "######### Structured output from details_x and details_y\n",
    "\n",
    "from pydantic import BaseModel\n",
    "from typing import List\n",
    "\n",
    "# from llama_index.program.openai import OpenAIPydanticProgram\n",
    "\n"
   ]
  },
  {
   "cell_type": "code",
   "execution_count": 3,
   "metadata": {},
   "outputs": [],
   "source": [
    "from pydantic import BaseModel\n",
    "from typing import List\n",
    "\n",
    "from llama_index.program.openai import OpenAIPydanticProgram"
   ]
  },
  {
   "cell_type": "code",
   "execution_count": 7,
   "metadata": {},
   "outputs": [],
   "source": [
    "from llama_index.llms.openai import OpenAI"
   ]
  },
  {
   "cell_type": "code",
   "execution_count": 5,
   "metadata": {},
   "outputs": [],
   "source": [
    "from pydantic import BaseModel\n",
    "from typing import List\n",
    "\n",
    "class Rubric(BaseModel):\n",
    "    \"\"\"\n",
    "    A rubric outlines specific criteria used to assess a student's performance on tasks related to a sub-strand. Each rubric includes levels of expectations such as 'Exceeds Expectations', 'Meets Expectations', 'Approaches Expectations', and 'Below Expectations', providing clear benchmarks for assessment.\n",
    "    \"\"\"\n",
    "    indicator_name: str\n",
    "    exceeds_expectations: str\n",
    "    meets_expectations: str\n",
    "    approaches_expectations: str\n",
    "    below_expectations: str\n",
    "\n",
    "class SubStrand(BaseModel):\n",
    "    \"\"\"\n",
    "    A sub-strand is a component of a broader curriculum strand that focuses on a specific topic or set of skills within the subject area. It includes specific learning outcomes that students are expected to achieve, key inquiry questions to guide exploration and understanding, suggested learning experiences to achieve these outcomes, and rubrics for evaluating student progress.\n",
    "    \"\"\"\n",
    "    sub_strand_name: str\n",
    "    specific_learning_outcomes: str\n",
    "    key_inquiry_questions: str\n",
    "    suggested_learning_experiences: str\n",
    "    # rubrics: List[Rubric]\n",
    "\n",
    "class Strand(BaseModel):\n",
    "    \"\"\"\n",
    "    Represents a key component of the curriculum for a specific grade and subject area. A strand is comprised of multiple sub-strands, each addressing different topics or areas of knowledge within the subject. This model organizes the curriculum content by grade, subject, and the names of the strands and includes the detailed breakdown of sub-strands for comprehensive curriculum coverage.\n",
    "    \"\"\"\n",
    "    grade: str\n",
    "    subject: str\n",
    "    strand_name: str\n",
    "    sub_strands: List[SubStrand]\n"
   ]
  },
  {
   "cell_type": "code",
   "execution_count": 12,
   "metadata": {},
   "outputs": [],
   "source": [
    "program = OpenAIPydanticProgram.from_defaults(\n",
    "    output_cls=Strand,  # The class we're aiming to fill with GPT-3's response\n",
    "    llm=OpenAI(temperature=0, model=\"gpt-3.5-turbo\"),  # Adjust model as needed\n",
    "    prompt_template_str=\"\"\"\\\n",
    "        Given the details from a curriculum document in JSON format, extract the relevant information to fill out the structure of educational content. The JSON data contains details about curriculum strands, sub-strands, and their respective learning outcomes, inquiry questions, suggested learning experiences, and rubrics for assessment.\n",
    "\n",
    "        For the grade and subject, extract them from the folder names. For sub-strands, look for sections within the strand. For each sub-strand, identify its specific learning outcomes, key inquiry questions, and suggested learning experiences. Finally, detail the rubrics for evaluating the sub-strand's learning outcomes.\n",
    "\n",
    "        Grade and Subject from folder name: {input_folder_name}\n",
    "        Strand and Sub-Strand details in JSON: {input_details_x}\n",
    "        Rubrics in JSON: {input_details_y}\n",
    "\n",
    "        Structure the extracted information as follows:\n",
    "        - Grade:\n",
    "        - Subject:\n",
    "        - Strand Name:\n",
    "        - List of Sub-Strands, each with:\n",
    "            - Sub-Strand Name:\n",
    "            - Specific Learning Outcomes:\n",
    "            - Key Inquiry Questions:\n",
    "            - Suggested Learning Experiences:\n",
    "            - Rubrics: (List, detailing indicators and expectations levels)\n",
    "\n",
    "        Please provide the structured output based on the provided information.\n",
    "        \"\"\",\n",
    "    verbose=True,\n",
    "    allow_multiple=True\n",
    ")"
   ]
  },
  {
   "cell_type": "code",
   "execution_count": 13,
   "metadata": {},
   "outputs": [
    {
     "name": "stdout",
     "output_type": "stream",
     "text": [
      "Function call: Strand with args: {\"grade\":\"Grade 3\",\"subject\":\"Mathematics\",\"strand_name\":\"Measurement\",\"sub_strands\":[{\"sub_strand_name\":\"Time\",\"specific_learning_outcomes\":\"By the end of the sub-strand, the learner should be able to:\\n\\na. Identify the minute as a unit of measuring time,\\nb. Read and tell time using the digital clock,\\nc. Read and tell time using ‘past’ and ‘to’ the hour using the clock face,\\nd. Write time using ‘past’ and ‘to’ the hour,\\ne. Estimate time in hours,\\nf. Add and subtract time involving hours and minutes without conversion in real life\",\"key_inquiry_questions\":\"How do we convert hours to minutes\",\"suggested_learning_experiences\":\"- Learners to discuss the divisions on a clock face and what each division represents.\\n- Learners to read time on a digital clock\\n- Learners in pairs/groups to discuss the relationship between hours and minutes using a clock face.\\n- Learners in pairs/groups to read, tell and write time using ‘past’ and ‘to’ the hour.\\n- Learners in pairs/groups to estimate time in hours.\\n- Learners in pairs/groups to add and subtract time involving hours and minutes without conversion in real life situations.\"}]}\n",
      "Function call: Strand with args: {\"grade\":\"Grade 3\",\"subject\":\"Mathematics\",\"strand_name\":\"Measurement\",\"sub_strands\":[{\"sub_strand_name\":\"Capacity\",\"specific_learning_outcomes\":\"By the end of the sub-strand, the learner should be able to:\\n- Measure capacity in litres,\\n- Add and subtract capacity in litres,\\n- Estimate capacity up to 5 litres.\",\"key_inquiry_questions\":\"What can we use to measure capacity?\",\"suggested_learning_experiences\":\"- Learners in pairs/groups measure capacity of different containers in litres.\\n- Learners to add and subtract capacity in litres in real-life situations.\\n- Learners to estimate capacity up to 5 litres and measure to confirm.\\n- Learners play digital games involving capacity.\",\"rubrics\":[{\"expectation_level\":\"Exceeds Expectations\",\"indicators\":\"Correctly measures capacity in litres, adds and subtracts capacity in litres in real-life experiences and estimates capacity up to 5 litres and beyond.\"},{\"expectation_level\":\"Meets Expectations\",\"indicators\":\"Correctly measures capacity in litres, adds and subtracts capacity in litres in real-life experiences and estimates capacity up to 5 litres.\"},{\"expectation_level\":\"Approaches Expectations\",\"indicators\":\"Inconsistently measures capacity in litres, adds and subtracts capacity in litres in real-life experiences and estimates capacity up to 5 litres.\"},{\"expectation_level\":\"Below Expectations\",\"indicators\":\"Major inaccuracies in measuring capacity in litres, adding and subtracting capacity in litres in real-life experiences and estimating capacity up to 5 litres.\"}]}]}\n",
      "Function call: Strand with args: {\"grade\":\"Grade 3\",\"subject\":\"Mathematics\",\"strand_name\":\"Measurement\",\"sub_strands\":[{\"sub_strand_name\":\"Mass\",\"specific_learning_outcomes\":\"By the end of the sub-strand, the learner should be able to:\\n- Measure mass in kilograms,\\n- Add and subtract mass in kilograms,\\n- Estimate mass up to 5 kilograms.\",\"key_inquiry_questions\":\"How can you make a 1kg mass using a beam balance?\\nCore competencies to be developed: communication and collaboration, imagination and creativity, critical thinking and problem solving, self-\",\"suggested_learning_experiences\":\"- Learners to measure mass in kilograms using a beam balance.\\n- Learners to make masses of 1kg using sand/soil by measuring against the kilogram standard unit.\\n- Learners to add and subtract mass in kilograms in real-life situations.\\n- Learners to use a 5kg mass to compare other masses.\\n- Learners to estimate mass up to 5kg and measure to confirm.\\n- Learners to play digital games involving mass.\"}]}\n",
      "Function call: Strand with args: {\"grade\":\"Grade 3\",\"subject\":\"Mathematics\",\"strand_name\":\"Numbers\",\"sub_strands\":[{\"sub_strand_name\":\"Addition\",\"specific_learning_outcomes\":\"By the end of the sub-strand, the learner should be able to:\\n\\na. Add a 3-digit number to up to a 2-digit number without regrouping with sum not exceeding 1000,\\nb. Add a 3-digit number to up to a 2-digit number with single regrouping with sum not exceeding 1000,\\nc. Add three single digit numbers with sum up to 27,\\nd. Add two 3-digit numbers without regrouping,\\ne. Add two 3-digit numbers with single regrouping with sum not exceeding 1000,\\nf. Work out missing numbers in patterns involving addition up to 1000,\\ng. Create number patterns involving addition up to 1000.\",\"key_inquiry_questions\":\"? How do you arrange numbers when adding vertically?\\n? How do you identify the first two numbers to add when adding three single digit numbers?\\n? How can you get the next number in a given pattern?\",\"suggested_learning_experiences\":\"? Learners to add up to two 3-digit numbers without and with regrouping with sum not exceeding 1000.\\n? Learners to practice adding horizontally and vertically.\\n? Learners in pairs to come up with different ways of adding 3 single digit numbers.\\n? Learners to play digital games involving addition.\\n? Learners to create and work out missing numbers in patterns involving addition up to 1000.\"}]}\n",
      "Function call: Strand with args: {\"grade\":\"Grade 3\",\"subject\":\"Mathematics\",\"strand_name\":\"Measurement\",\"sub_strands\":[{\"sub_strand_name\":\"Money\",\"specific_learning_outcomes\":\"By the end of the sub-strand, the learner should be able to:\\n- Identify Kenyan currency notes up to sh.1000,\\n- Count money in different denominations up to sh.1000,\\n- Add and subtract money involving up to sh.1000,\\n- Carry out shopping activities involving change and balance,\\n- Relate money to goods and services up to sh.1000,\\n- Differentiate between needs and wants,\\n- Appreciate spending and saving of money in real life situations.\",\"key_inquiry_questions\":\"What is the difference between needs and wants?\",\"suggested_learning_experiences\":\"- Learners in pairs/groups to sort out Kenyan currency notes according to their value and features up to sh.1000.\\n- Learners in pairs/groups to practice addition and subtraction of money in real life situations up to sh.1000.\\n- Learners in pairs/groups to practice giving change and balance using imitation money up to sh.1000 in shopping activities.\\n- Learners in pairs/groups to share own experiences in relation to shopping activities.\\n- Learners in pairs/groups to discuss items they cannot do without and those that are necessary but they can do without.\\n- Learners in pairs/groups to classify needs and wants.\\n- Learners to play digital games involving money.\"}]}\n",
      "Function call: Strand with args: {\"grade\":\"Grade 3\",\"subject\":\"Mathematics\",\"strand_name\":\"Numbers\",\"sub_strands\":[{\"sub_strand_name\":\"Division\",\"specific_learning_outcomes\":\"By the end of the sub-strand, the learner should be able to:\\n\\na) Represent division as repeated subtraction up to 5 times,\\nb) Show relationship between multiplication and division using mathematical sentences up to 9 x 10 = 90.\",\"key_inquiry_questions\":\"1) How can we divide numbers using subtraction?\\n2) How can we use the multiplication table to work out division questions?\",\"suggested_learning_experiences\":\"- Learners to take away from a group a specific number of objects at a time until all are finished and then count the number of small groups formed.\\n- Learners to represent division as repeated subtraction up to 5 times.\\n- Learners to discuss the relationship between division and multiplication using the multiplication table.\\n- Learners in pairs/groups to practice how to divide numbers related to multiplication of up to 9 x 10 = 90.\\n- Learners to play digital games\"}]}\n",
      "Function call: Strand with args: {\"grade\":\"Grade 3\",\"subject\":\"Mathematics\",\"strand_name\":\"Numbers\",\"sub_strands\":[{\"sub_strand_name\":\"Multiplication\",\"specific_learning_outcomes\":\"By the end of the sub-strand, the learner should be able to:\\n- Multiply single digit numbers by numbers 1-10 in different contexts.\",\"key_inquiry_questions\":\"1) How can you work out multiplication using repeated addition?\\n2) How can we get the answer to a multiplication question using the multiplication table?\",\"suggested_learning_experiences\":\"- Learners in pairs/groups to multiply single digit numbers by numbers 1-10 using:\\n  - groups of objects\\n  - repeated addition\\n  - multiplication table.\\n- Learners to play digital games involving multiplication.\",\"rubrics\":[{\"expectation_level\":\"Exceeds Expectations\",\"indicator\":\"Correctly multiplies single digit numbers by numbers 1-10 and beyond.\"},{\"expectation_level\":\"Meets Expectations\",\"indicator\":\"Correctly multiplies single digit numbers by numbers 1-10.\"},{\"expectation_level\":\"Approaches Expectations\",\"indicator\":\"Inconsistently multiplies single digit numbers by numbers 1-10.\"},{\"expectation_level\":\"Below Expectations\",\"indicator\":\"Major inaccuracies in multiplying single digit numbers by numbers 1-10.\"}]}]}\n",
      "Function call: Strand with args: {\"grade\":\"Grade 3\",\"subject\":\"Mathematics\",\"strand_name\":\"Numbers\",\"sub_strands\":[{\"sub_strand_name\":\"Whole Numbers (20 lessons)\",\"specific_learning_outcomes\":\"By the end of the sub-strand, the learner should be able to:\\na. Count numbers forward and backward from 1-1000,\\nb. Identify place value up to thousands,\\nc. Read numbers 1-1000 in symbols,\\nd. Read and write numbers 1-100 in words,\\ne. Identify missing numbers in number patterns up to 1000,\\nf. Appreciate number patterns as they skip on a number line.\",\"key_inquiry_questions\":\"How would you get the total number of people in a group?\",\"suggested_learning_experiences\":\"? Learners in pairs/groups to count in 2’s and 5’s forward and backward starting from any point.\\n? Learners in pairs/groups to count their fingers and toes in 2’s and 10’s forward and backward starting from any point.\\n? Learners in pairs/groups to discuss place value up to thousands.\\n? Learners in pairs/groups to compete reading numbers 1-1000 in symbols.\\n? Learners to read and write numbers 1-100 in words.\\n? Learners to play digital games involving whole numbers.\\n? Learners in pairs/groups to make number patterns up to 1000 and share with other groups.\"}]}\n",
      "Function call: Strand with args: {\"grade\":\"Grade 3\",\"subject\":\"Mathematics\",\"strand_name\":\"Geometry\",\"sub_strands\":[{\"sub_strand_name\":\"Position and Direction\",\"specific_learning_outcomes\":\"By the end of the sub-strand, the learner should be able to:\\n- Move along a straight line from a point,\\n- Turn to the right from a point,\\n- Turn to the left from a point.\",\"key_inquiry_questions\":\"What do you do when you get to a road junction?\",\"suggested_learning_experiences\":\"- Learners in pairs/groups to move along a straight line from a given point.\\n- Learners in pairs/groups to move straight along the outside of their classroom and then turn to the right or left.\\n- Learners in pairs practice moving along a straight line and turning left or right.\\n- Learners to play digital games on movement.\"}]}\n",
      "Function call: Strand with args: {\"grade\":\"Grade 3\",\"subject\":\"Mathematics\",\"strand_name\":\"Geometry\",\"sub_strands\":[{\"sub_strand_name\":\"Shapes\",\"specific_learning_outcomes\":\"By the end of the sub-strand, the learner should be able to:\\n- Make patterns involving rectangles, circles, triangles, ovals and squares.\\n- Appreciate making patterns involving rectangles, circles, triangles, ovals and squares.\",\"key_inquiry_questions\":\"What shapes can you identify in your school?\",\"suggested_learning_experiences\":\"- Learners to sort and group items of different shapes.\\n- Learners in pairs/groups to discuss the types of lines making various shapes.\\n- Learners to identify and name the different shapes found in their environment.\\n- Learners to make patterns using the five shapes.\\n- Learners in groups to make patterns, colour them and share with other groups.\\n- Learners to play digital games involving shapes.\"}]}\n",
      "Function call: Strand with args: {\"grade\":\"Grade 3\",\"subject\":\"Mathematics\",\"strand_name\":\"Numbers\",\"sub_strands\":[{\"sub_strand_name\":\"Fractions\",\"specific_learning_outcomes\":\"By the end of the sub-strand the learner should be able to:\\n- identify 1/2, 1/4, and 1/8 as part of a whole.\\n- identify 1/2, 1/4, and 1/8 as part of a group.\",\"key_inquiry_questions\":\"How can you represent a half, a quarter, or an eighth of a group\",\"suggested_learning_experiences\":\"- Learners in pairs/groups to make circular cut-outs.\\n- Learners in pairs/groups to fold circular cut-outs into 2 equal parts and identify one part as 1/2 of the whole.\\n- Learners in pairs/groups to make rectangular cut-outs and fold them into 4 equal parts to get a quarter of a whole and identify each part as 1/4 of the whole.\\n- Learners in pairs/groups to make rectangular cut-outs and fold to get 8 equal parts and identify one part as 1/8 of the whole.\\n- Learners in pairs/groups to divide a number of objects into 2 equal groups and identify each of the small groups as 1/2 of the whole group.\\n- Learners in pairs/groups to divide a number of objects into 4 equal groups and identify each of the small groups as 1/4 of the whole group.\\n- Learners in pairs/groups to divide a number of objects into 8 equal groups and identify each of the small groups as 1/8 of the whole group.\\n- Learners to play digital games involving 1/2, 1/4, and 1/8.\"}]}\n",
      "Function call: Strand with args: {\"grade\":\"Grade 3\",\"subject\":\"Mathematics\",\"strand_name\":\"Measurement\",\"sub_strands\":[{\"sub_strand_name\":\"Length\",\"specific_learning_outcomes\":\"By the end of the sub-strand, the learner should be able to:\\n- Measure length in metres,\\n- Add and subtract length in metres,\\n- Estimate length up to 20 metres.\",\"key_inquiry_questions\":\"1) How do you measure the chalkboard using a metre stick?\\n2) How do you get the total length in metres of the 4 classroom walls?\\n3) How do you measure the distance between the flag post and the staffroom using a 5 metres long string?\",\"suggested_learning_experiences\":\"- Learners in pairs/groups to use metre sticks to measure various distances and record their results.\\n- Learners to prepare 5 metres long strings with knots at intervals of one metre to measure long distances.\\n- Learners in groups to measure the lengths of the 4 walls in their classroom and add the lengths.\\n- Learners to measure the length of the chalkboard and the wall it is fixed and work out the difference in length.\\n- Learners to work out questions involving addition and subtraction of length in metres based on real-life situations.\\n- Learners in pairs/groups to estimate distances around the school up to 20 metres and measure to confirm.\\n- Learners to take videos of others measuring length then playback and discuss.\"}]}\n",
      "Function call: Strand with args: {\"grade\":\"Grade 3\",\"subject\":\"Mathematics\",\"strand_name\":\"Numbers\",\"sub_strands\":[{\"sub_strand_name\":\"Number Concept\",\"specific_learning_outcomes\":\"By the end of the sub-strand, the learner should be able to:\\n- Use ordinal numbers to identify position from 1-20.\",\"key_inquiry_questions\":\"In which position were you when you came to class in the morning?\",\"suggested_learning_experiences\":\"- Learners in pairs/groups to arrange different items in order of size starting with the smallest.\\n- Learners to identify the position of an object from a reference point using first, second up to 20th.\\n- Learners in groups to run for a distance and each to identify their position using the words first, second up to 20th position.\\n- Learners in pairs/groups to relate numbers 1-20 to positions first, second up to 20th using concrete objects.\\n- Learners to play digital games involving position 1st - 20th.\"}]}\n",
      "Function call: Strand with args: {\"grade\":\"Grade 4\",\"subject\":\"Mathematics\",\"strand_name\":\"3.0 GEOMETRY\",\"sub_strands\":[{\"sub_strand_name\":\"3.1 POSITION AND DIRECTION (4 Lessons)\",\"specific_learning_outcomes\":\"By the end of the sub strand, the learner should be able to: a) demonstrate a clockwise and an anti-clockwise turn in the environment, b) demonstrate a quarter turn, half turn and full turn in the environment, c) identify quarter, half and full turns in the environment, d) use IT devices for learning and enjoyment, e) appreciate use of position and direction in real life situations.\",\"key_inquiry_questions\":\"How can you change your position?\",\"suggested_learning_experiences\":\"Learners in groups/pairs/individually to demonstrate a clockwise turn. Learners in groups/pairs/individually to demonstrate an anti-clockwise turn. Learners in groups/pairs/individually to demonstrate a quarter turn in both directions. Learners in groups/pairs/individually to demonstrate a half turn. Learners in groups/pairs/individually to demonstrate a full turn. Learners in groups/pairs/individually to play digital games involving position and direction.\"}]}\n",
      "Function call: Strand with args: {\"grade\":\"Grade 4\",\"subject\":\"Mathematics\",\"strand_name\":\"Area\",\"sub_strands\":[{\"sub_strand_name\":\"AREA\",\"specific_learning_outcomes\":\"By the end of the sub strand, the learner should be able to: compare area of given surfaces by a) direct comparison, calculate area of squares and b) rectangles by counting unit squares, calculate area of squares and c) rectangles as a product of number of rows and columns, use IT devices for learning and d) enjoyment, appreciate use of rows and columns in e) calculating area of squares and rectangles in real life situations.\",\"key_inquiry_questions\":\"How can you work out area of different surfaces?\",\"suggested_learning_experiences\":\"Learners in pairs/groups to compare area of two surfaces directly by placing one surface on the other. Learners in pairs/groups to use different unit square cut outs to cover a given surface. Learners in pairs/groups to count the number of unit square cut outs used to cover the surface. Learners in pairs/groups to establish that area of a rectangle or a square is same as number of rows multiplied by number of columns. Learners in pairs/groups to work out area of squares and rectangles by multiplying number of rows by number of columns. Learners in pairs/groups play digital games involving area of rectangles and squares.\",\"rubrics\":[{\"indicator\":\"Compare area of surfaces.\",\"exceeds_expectations\":\"Compares area of surfaces correctly and with ease.\",\"meets_expectations\":\"Compares area of surfaces correctly.\",\"approaches_expectations\":\"Inconsistently compares area of surfaces.\",\"below_expectations\":\"Little evidence in comparing area of surfaces.\"},{\"indicator\":\"Calculate area of squares and rectangles through counting.\",\"exceeds_expectations\":\"Calculates area of squares and rectangles through counting correctly and with ease.\",\"meets_expectations\":\"Calculate area of squares and rectangles through counting correctly.\",\"approaches_expectations\":\"Inconsistently calculates area of squares and rectangles through counting.\",\"below_expectations\":\"Little evidence in calculating area of squares and rectangles through counting.\"},{\"indicator\":\"Calculate area of squares and rectangles as product of number of rows and columns.\",\"exceeds_expectations\":\"Calculates area of squares and rectangles as product of number of rows and columns correctly and with ease.\",\"meets_expectations\":\"Calculates area of squares and rectangles as product of number of rows and columns correctly.\",\"approaches_expectations\":\"Inconsistently calculates area of squares and rectangles as product of number of rows and columns.\",\"below_expectations\":\"Little evidence in calculating area of squares and rectangles as product of number of rows and columns.\"},{\"indicator\":\"Use IT devices for learning and enjoyment.\",\"exceeds_expectations\":\"Uses IT devices for learning and enjoyment fast and efficiently.\",\"meets_expectations\":\"Uses IT devices for learning and enjoyment efficiently.\",\"approaches_expectations\":\"Inconsistently uses IT devices for learning and enjoyment.\",\"below_expectations\":\"Little evidence in using IT devices for learning and enjoyment.\"}]}]}\n",
      "Function call: Strand with args: {\"grade\":\"Grade 4\",\"subject\":\"Mathematics\",\"strand_name\":\"Numbers\",\"sub_strands\":[{\"sub_strand_name\":\"Whole Numbers (20 Lessons)\",\"specific_learning_outcomes\":\"By the end of the sub strand, the learner should be able to: use place value and total value of a) digits up to tens of thousands in daily life situations, read and write numbers up to 10,000 b) in symbols in real life situations, read and write numbers up to 1,000 in c) words in day to day activities, order numbers up to 1,000 in different d) situations, round off numbers up to 1,000 to the e) nearest ten in different situations, identify factors/divisors of numbers f) up to 50 in different contexts, identify multiples of numbers up to g) 100 in different situations, use even and odd numbers up to 100 h) in different situations, represent Hindu Arabic numerals i) using Roman numerals up to ‘X’ in different situations, j) make patterns involving even and odd numbers in day to day life experiences, use IT devices for learning and k) leisure, l) appreciate use of numbers in real life situations.\",\"key_inquiry_questions\":\"1. What do you consider when writing numbers in words? 2. How can you find the place value of a digit in a number? 3. How can you find the total value of a digit in a number?\",\"suggested_learning_experiences\":\"Learners in pairs/groups to identify • place value of up to tens of thousands using place value apparatus. Learners in pairs/groups to identify • total values of digits up to ten thousand. Learners in pairs/groups/ • individually to read numbers up to 10,000 in symbols in real life situations. Learners in pairs/groups/ • individually to read and write numbers up to 1,000 in words from a number chart. Learners in pairs to arrange numbers • up to 1,000 in order from smallest to largest and largest to smallest using number cards and share with other groups. Learners in • pairs/groups/individually round off numbers up to 1,000 to the nearest ten and share with other groups. Learners in • pairs/groups/individually to identify factors/divisors of numbers up to 50 and share with other groups. Learners in pairs/groups to identify • multiples of numbers up to 100 and share with other groups. Learners in pairs/groups to identify even and odd numbers up to 100 and share with other groups. Learners in pairs/groups to represent • Hindu Arabic numerals using Roman numerals up to ‘X’ using number charts. Learners in pairs/groups to make • patterns involving even and odd numbers and share with other groups. Learners in pairs/groups to visit • mathematical sites in IT devices and play digital games.\"}]}\n",
      "Function call: Strand with args: {\"grade\":\"Grade 4\",\"subject\":\"Mathematics\",\"strand_name\":\"Time\",\"sub_strands\":[{\"sub_strand_name\":\"2.6 TIME\",\"specific_learning_outcomes\":\"By the end of the sub strand, the learner should be able to: \\na) read and tell time in a.m. and p.m. in real life situations,\\nb) estimate time using a.m and p.m. in real life situations,\\nc) convert units of time in real life situations,\\nd) record time durations in hours and minutes in real life situations,\\ne) work out time duration in real life situations,\\nf) use IT devices for learning and enjoyment,\\ng) appreciate time in real life situations.\",\"key_inquiry_questions\":\"1. How can you tell time? \\n2. How can you find out time taken to do an activity?\",\"suggested_learning_experiences\":\"Learners in pairs/groups to read and tell time in a.m. and p.m. using digital and analogue clocks in real life situations. Learners in pairs/groups to estimate time of the day using the shadow. Learners in pairs/groups to convert hours to minutes and minutes to hours in real life situations. Learners in pairs/groups to convert hours to days and days to hours in real life situations. Learners in pairs/groups to convert days to weeks and weeks to days in real life situations. Learners in pairs/groups to measure and record duration of events in hours and minutes using digital and analogue clocks. Learners in pairs/groups to work out addition involving units of time in real life situations. Learners in pairs/groups to work out subtraction involving units of time in real life situations. Learners in pairs/groups/individually to play digital games involving time.\"}]}\n",
      "Function call: Strand with args: {\"grade\":\"Grade 4\",\"subject\":\"Mathematics\",\"strand_name\":\"MEASUREMENT\",\"sub_strands\":[{\"sub_strand_name\":\"LENGTH\",\"specific_learning_outcomes\":\"By the end of the sub strand, the learner should be able to: identify the centimetre as a unit of measuring length in real life situations, measure length in centimetres in real life situations, estimate and measure length in centimetres in real life situations, establish the relationship between metres and centimetres practically, convert metres to centimetres and centimetres to metres in real life situation, work out perimeter of plane figures in different contexts, work out addition involving length in metres and centimetres in real life situations, work out subtraction involving length in metres and centimetres in real life situations, work out multiplication involving metres and centimetres in real life situations, work out division involving metres and centimetres in real life situations, use IT devices for learning and enjoyment, appreciate use of metres and centimetres in measuring distance in real life.\",\"key_inquiry_questions\":\"1. How can you measure distance? 2. Why do we measure distance in real life?\",\"suggested_learning_experiences\":\"Learners in pairs/groups to identify the centimetre and mark out lengths of 1 centimetre using a ruler. Learners in pairs/groups to measure the length of a given object in centimetres using a metre ruler or a tape measure. Learners in pairs/groups/individually to estimate the length of a given object in centimetres. Learners to measure actual length of the estimated length in centimetres. Learners in pairs/groups to measure length in metres and centimetres and establish the relationship between the units. Learners in pairs/groups use the relationship between centimetres and metres in real life situations. Learners in pairs/groups/individually to convert metres into centimetres and centimetres into metres in real life situations. Learners in pairs/groups to work out perimeter of plane figures in different contexts. Learners in pairs/groups to work out addition and subtraction involving metres and centimetres in real life situations. Learners in pairs/groups to work out multiplication involving metres and centimetres in real life situations. Learners in pairs/groups to work out division involving metres and centimetres in real life situations. Learners in pairs/groups to play digital games involving length.\"}]}\n",
      "Function call: Strand with args: {\"grade\":\"Grade 4\",\"subject\":\"Mathematics\",\"strand_name\":\"2-D Shapes\",\"sub_strands\":[{\"sub_strand_name\":\"3.3 2-D SHAPES\",\"specific_learning_outcomes\":\"By the end of the sub strand, the learner should be able to:\\na) identify different shapes in the environment,\\nb) identify line of symmetry practically\\nc) make patterns using different shapes,\\nd) identify properties of 2-D shapes practically,\\ne) use IT devices for learning and enjoyment,\\nf) appreciate using shapes in real life situations.\",\"key_inquiry_questions\":\"1. How can you identify a 2-D shape?\\n2. How can you make patterns using shapes?\",\"suggested_learning_experiences\":\"\\n- Learners in pairs/groups/individually to identify shapes in the environment.\\n- Learners in pairs/groups to identify line of symmetry by folding the shape into two equal parts and identify the fold line as line of symmetry.\\n- Learners in pairs/groups/individually to make patterns using squares, rectangles, and triangles.\\n- Learners in pairs/groups to identify properties of a square practically.\\n- Learners in pairs/groups to identify properties of a rectangle practically.\\n- Learners in pairs/groups to identify properties of a triangle practically.\\n- Learners in pairs/groups to use IT devices to learn more about 2-D shapes and make patterns.\"}]}\n",
      "Function call: Strand with args: {\"grade\":\"Grade 4\",\"subject\":\"Mathematics\",\"strand_name\":\"FRACTIONS\",\"sub_strands\":[{\"sub_strand_name\":\"1.6 FRACTIONS\",\"specific_learning_outcomes\":\"By the end of the sub strand, the learner should be able to: represent a fraction with a) denominators not exceeding 12 as part of a whole and as part of a group in real life situations, b) represent and write fractions whose denominators do not exceed 12 in real life situations, c) identify the numerator and denominator in a fraction in real life situations, d) identify different types of fractions in real life, e) convert improper fractions to mixed fractions in different situations, f) convert mixed fractions to improper fractions in different contexts, g) use IT devices for learning and enjoyment, h) appreciate application of fractions in real life situations.\",\"key_inquiry_questions\":\"1. When do you use fractions in real life? 2. How can you represent fractions?\",\"suggested_learning_experiences\":\"Learners in pairs/groups to represent fractions as part of a whole and as part of a group using concrete objects. Learners in pairs/groups to discuss the top and bottom numbers in a fraction and share with other groups. Learners in pairs/groups to write fractions represented as part of whole or part of a group. Learners in pairs/groups to represent fractions as part of a whole or part of a group using cut outs, counters or clock face. Learners in pairs/groups/ individually to represent proper, improper and mixed fractions as part of a whole or as part of a group using paper cut outs or counters. Learners in pairs/groups to convert improper fractions to mixed fractions. Learners in pairs/groups to convert mixed fractions to improper fractions. Learners in pairs/groups /individually to play digital games involving fractions.\"}]}\n",
      "Function call: Strand with args: {\"grade\":\"Grade 4\",\"subject\":\"Capacity\",\"strand_name\":\"Capacity\",\"sub_strands\":[{\"sub_strand_name\":\"2.5 CAPACITY\",\"specific_learning_outcomes\":\"By the end of the sub strand, the learner\\nshould be able to:\\na) measure capacity in litres in real life\\nsituations,\\nb) measure capacity in \\frac{1}{2} litres and \\frac{1}{4}\\nlitres in real life situations,\\nc) Add and subtract capacity involving\\nlitres in real life situations,\\nd) use IT devices for learning and\\nenjoyment,\\ne) appreciate use of the litre as a unit of\\nmeasuring capacity in real life\\nsituations.\",\"key_inquiry_questions\":\"How can you \\nmeasure capacity in \\nreal life situations?\",\"suggested_learning_experiences\":\"\\bullet Learners in pairs/groups to measure\\ncapacity of containers using a 1 litre\\ncontainer in real life situations.\\n\\bullet Learners in pairs/groups/individually\\nto make \\frac{1}{2} litre and \\frac{1}{4} litre containers\\nthrough filling and emptying using a\\n1 litre container.\\n\\bullet Learners in pairs/groups to use \\frac{1}{2} litre\\nand \\frac{1}{4} litre containers to measure\\ncapacity of other containers.\\n\\bullet Learners in pairs/groups to add\\ncapacity involving litres in real life\\nsituations.\\n\\bullet Learners in pairs/groups to subtract\\ncapacity involving litres in real life\\nsituations.\\n\\bullet Learner in pairs/groups to play digital\\ngames involving capacity\"}]}\n",
      "Function call: Strand with args: {\"grade\":\"Grade 4\",\"subject\":\"Mathematics\",\"strand_name\":\"Volume\",\"sub_strands\":[{\"sub_strand_name\":\"Volume\",\"specific_learning_outcomes\":\"By the end of the sub strand, the learner should be able to: \\n- work out volume of cubes and cuboids in real life situations, \\n- use IT devices for learning and enjoyment, \\n- appreciate use of piling method in working out volume in real life.\",\"key_inquiry_questions\":\"How can you work out volume of cubes and cuboids?\",\"suggested_learning_experiences\":\"Learners in pairs/groups/individually to pile cubes. Learners in pairs/groups/individually to count the piles of cubes to determine the volume. Learners in pairs/groups to pile cuboids. Learners in pairs/groups/individually to count the piles of cuboids to determine the volume. Learners in pairs/groups/individuals to use IT devices to play games.\"}]}\n",
      "Function call: Strand with args: {\"grade\":\"Grade 4\",\"subject\":\"Mathematics\",\"strand_name\":\"Multiplication\",\"sub_strands\":[{\"sub_strand_name\":\"1.4 MULTIPLICATION\",\"specific_learning_outcomes\":\"By the end of the sub strand, the learner should be able to: \\na) multiply up to a 2-digit number by multiples of 10 in different situations, \\nb) multiply up to a 2-digit number by a 2-digit number without and with regrouping in real life situations, \\nc) estimate products by rounding off numbers to the nearest ten in real life situations, \\nd) Create patterns involving multiplication with product not exceeding 100 in real life situations, \\ne) use IT devices for learning and enjoyment, \\nf) appreciate application of multiplication of numbers in real life.\",\"key_inquiry_questions\":\"1. When do you use multiplication in real life?\\n2. How do you create patterns involving multiplication?\",\"suggested_learning_experiences\":\"Learners in pairs/groups to multiply up to a 2-digit number by multiples of 10 in different situations. Leaners in pairs/groups to \\n• multiply up to a 2-digit numbers by a 2-digit number without and with regrouping in real life situations. Learners pairs/groups/ \\n• individually to estimate and work out answers by rounding off numbers to the nearest ten with product not exceeding 1,000 in real life situations. Learners in pairs/groups to create \\n• patterns involving multiplication with product not exceeding 100. Learners pairs/groups/ \\n• individually to play digital games on multiplication.\"}]}\n",
      "Function call: Strand with args: {\"grade\":\"Grade 4\",\"subject\":\"Science\",\"strand_name\":\"MASS\",\"sub_strands\":[{\"sub_strand_name\":\"2.3 MASS\",\"specific_learning_outcomes\":\"By the end of the sub strand, the learner should be able to: a) use a kilogram mass to measure masses of different objects practically, b) use ½ kg and ¼ kg masses to measure masses of different objects practically, c) add mass involving kilograms in real life situations, d) subtract mass involving kilograms in real life situations, e) use IT devices for learning and enjoyment, f) appreciate measuring mass of different objects.\",\"key_inquiry_questions\":\"How can you measure mass in kg?\",\"suggested_learning_experiences\":\"Learners in pairs/groups to use one kilogram masses to measure masses of given objects using a beam balance. Learners in pairs/groups make a ½ kg mass and use it to measure mass of given objects using a beam balance. Learners in pairs/groups make a ¼ kg mass and use it to measure mass of given objects using a beam balance and an electronic balance. Learners in pairs/groups add mass involving kilograms (kg) in real life situations. Learners in pairs/groups subtract mass involving kilograms (kg) in real life situations. Learners in pairs/groups play digital games involving mass.\"}]}\n",
      "Function call: Strand with args: {\"grade\":\"Grade 4\",\"subject\":\"Mathematics\",\"strand_name\":\"MONEY\",\"sub_strands\":[{\"sub_strand_name\":\"Convert shillings into cents and cents into shillings in different contexts\",\"specific_learning_outcomes\":\"By the end of the sub strand, the learner should be able to: \\na) convert shillings into cents and cents into shillings in different contexts,\\nb) participate in shopping activities involving money practically,\\nc) determine needs and wants in real life situations,\\nd) practice savings in real life,\\ne) work out questions involving money in real life situations,\\nf) identify money people pay to the county government for provision of services,\\ng) use IT devices for learning and enjoyment,\\nh) appreciate the use of money in real life.\",\"key_inquiry_questions\":\"How can you save money?\",\"suggested_learning_experiences\":\"Learners in pairs/groups/individually to convert shillings into cents and cents into shillings using real/ imitation money in different contexts.\\n• Learners in pairs/group to role play shopping activities involving giving change and balance using real/ imitation money.\\n• Learners in pairs/groups to discuss and prioritize needs and wants.\\n• Learners in pairs/groups to discuss meaning of saving.\\n• Learners in pairs/groups to discuss savings at home.\\n• Learners in pairs/groups to discuss how to work out questions involving money in real life situations.\\n• Learners in pairs/groups to discuss market fee, cess, parking fee and business permit as money people pay to county government for provision of services.\\n• Learners in pairs/groups/ individually to play digital games involving money.\"}]}\n",
      "Function call: Strand with args: {\"grade\":\"Grade 4\",\"subject\":\"Mathematics\",\"strand_name\":\"DATA HANDLING\",\"sub_strands\":[{\"sub_strand_name\":\"DATA (8 Lessons)\",\"specific_learning_outcomes\":\"By the end of the sub strand, the\\nlearner should be able to:\\na) represent data involving real life\\nsituations using frequency tables,\\nb) work out questions involving\\nfrequency tables representing real\\nlife situations,\\nc) identify where frequency tables are\\nused in real life,\\nd) use IT devices for learning and\\nenjoyment,\\ne) appreciate use of frequency tables\\nin representing data in real life\\nsituations.\",\"key_inquiry_questions\":\"How can you represent \\ndata?\",\"suggested_learning_experiences\":\" Learners in groups to collect and\\nrecord data involving real life\\nsituations using tally marks.\\n• Learners in pairs/groups/\\nindividually to represent data\\ncollected from real life situations\\nusing frequency tables.\\n• Learners in pairs/\\ngroups/individually to interpret\\nfrequency tables representing\\nreal life situations.\\n• Learners in\\npairs/groups/individually to\\nwork out questions involving\\nfrequency tables representing\\nreal life situations.\\n• Learners in pairs/ groups to\\ndiscuss where frequency tables\\nare used.\\n• Learners in\\npairs/groups/individually to use\\nIT devices and learn more on\\ndata collection.\",\"rubrics\":[{\"indicator\":\"Represent data using \\nfrequency tables.\",\"exceeds_expectations\":\"Represents data using \\nfrequency tables correctly \\nand with ease.\",\"meets_expectations\":\"Represents data using \\nfrequency tables correctly.\",\"approaches_expectations\":\"Inconsistently represents \\ndata using frequency tables.\",\"below_expectations\":\"Little evidence data in using \\nfrequency tables.\"},{\"indicator\":\"Interpret frequency tables.\",\"exceeds_expectations\":\"Interprets frequency tables \\ncorrectly and with ease.\",\"meets_expectations\":\"Interprets frequency tables \\ncorrectly.\",\"approaches_expectations\":\"Inconsistently interprets \\nfrequency tables.\",\"below_expectations\":\"Little evidence in \\ninterpreting frequency \\ntables.\"},{\"indicator\":\"Uses IT devices for learning \\nand enjoyment.\",\"exceeds_expectations\":\"Uses IT devices for learning \\nand enjoyment fast and \\nefficiently.\",\"meets_expectations\":\"Uses IT devices for learning \\nand enjoyment efficiently.\",\"approaches_expectations\":\"Inconsistently uses IT \\ndevices for learning and \\nenjoyment.\",\"below_expectations\":\"Little evidence in using IT \\ndevices for learning and \\nenjoyment.\"}]}]}\n",
      "Function call: Strand with args: {\"grade\":\"Grade 4\",\"subject\":\"Math\",\"strand_name\":\"ALGEBRA\",\"sub_strands\":[{\"sub_strand_name\":\"USE OF LETTERS (6 Lessons)\",\"specific_learning_outcomes\":\"By the end of the sub strand, the learner should be able to:\\na) represent the unknown in real life situations using letters,\\nb) form algebraic expressions to represent real life situations,\\nc) simplify algebraic expressions representing real life situations,\\nd) use IT devices for learning and enjoyment,\\ne) appreciate the use of algebraic expressions.\",\"key_inquiry_questions\":\"How can you simplify algebraic expressions?\",\"suggested_learning_experiences\":\"\\n• Learners in pairs/groups/individually to represent the unknown in real life situations using letters.\\n• Learners in pairs/groups/individually to form algebraic expressions to represent real life situations.\\n• Learners in pairs/groups/individuals to simplify algebraic expressions representing real life situations.\\n• Learners in pairs/groups/individually to play digital games involving algebraic expressions.\"}]}\n",
      "Function call: Strand with args: {\"grade\":\"Grade 4\",\"subject\":\"Mathematics\",\"strand_name\":\"Subtraction\",\"sub_strands\":[{\"sub_strand_name\":\"1.3 SUBTRACTION\",\"specific_learning_outcomes\":\"By the end of the sub strand, the learner should be able to: subtract up to 4-digit numbers without regrouping in real life situations, subtract up to 4-digit numbers with regrouping in real life situations, estimate difference by rounding off numbers to the nearest ten in real life situations, create patterns involving subtraction from up to 10,000, use IT devices for learning and enjoyment, appreciate application of subtraction of numbers in real life situations.\",\"key_inquiry_questions\":\"1. When do you use subtraction in real life? 2. How do you estimate the difference of given numbers? 3. How do you create patterns involving subtraction?\",\"suggested_learning_experiences\":\"Learners in pairs/groups to subtract numbers up to 4-digit numbers without regrouping in real life situations. Learners in pairs/groups/ individually to subtract up to 4-digit numbers with regrouping in real life situations. Learners in pairs/groups to estimate and work out difference by rounding off the numbers to the nearest ten in real life situations. Learners in pairs/groups to create patterns involving subtraction of numbers from up to 10,000. Learners in pairs/groups/ individually to play digital games involving subtraction.\"}]}\n",
      "Function call: Strand with args: {\"grade\":\"Grade 4\",\"subject\":\"Mathematics\",\"strand_name\":\"Addition\",\"sub_strands\":[{\"sub_strand_name\":\"1.2 ADDITION (8 Lessons)\",\"specific_learning_outcomes\":\"By the end of the sub strand, the learner should be able to: add up to two 4-digit numbers with a) single regrouping up to a sum of 10,000 in different situations, add up to two 4-digit numbers with b) double regrouping up to a sum of 10,000 in real life situations, estimate sum by rounding off numbers c) to the nearest ten in different situations, create patterns involving addition up to d) a sum of 10,000 in real life situations, use IT devices for learning and e) enjoyment, appreciate application of addition of f) numbers in real life situations.\",\"key_inquiry_questions\":\"1. When do you use addition in real life? 2. What do you consider when estimating answers in addition? 3. How do you form number patterns in addition?\",\"suggested_learning_experiences\":\"Learners in pairs/groups to add up to • two 4-digit numbers with single regrouping up to a sum of 10,000 in different situations. Learners in pairs/groups add up to • two 4-digit numbers with double regrouping up to a sum of 10,000 in real life situations. Learners in pairs/groups to estimate • sum by rounding off numbers to be added to the nearest ten in different situations. Learners in pairs/groups to create • patterns involving addition up to a sum of 10,000. Learners in pairs/groups to play • digital games involving addition.\"}]}\n",
      "Function call: Strand with args: {\"grade\":\"Grade 4\",\"subject\":\"Mathematics\",\"strand_name\":\"Decimals\",\"sub_strands\":[{\"sub_strand_name\":\"1.7 DECIMALS\",\"specific_learning_outcomes\":\"By the end of the sub strand, the learner\\nshould be able to:\\na) identify a tenth and a hundredth in\\nreal life situations,\\nb) represent decimals using decimal\\nnotation in given situations,\\nc) identify place value of decimals up\\nto hundredths in real life,\\nd) order decimals up to hundredths in\\ncomputation\\ne) use IT devices for learning and\\nleisure,\\nf) appreciate use of decimals in real\\nlife situations. \",\"key_inquiry_questions\":\"How can you use decimals in real life\\nsituations?\",\"suggested_learning_experiences\":\"Learners in pairs/groups to discuss where tenths and\\nhundredths are used in real life\\nsituations.\\n• Learners in pairs/groups to\\nrepresent decimals using place\\nvalue charts.\\n• Learners in pairs/groups to\\nrepresent tenths and hundredths\\nusing place value charts.\\n• Learners in pairs/groups /\\nindividually to write tenths and\\nhundredths using decimal\\nnotation on a place value chart.\\n• Learners in pairs/groups\\n/individually to order given\\ndecimals in ascending and\\ndescending order.\\n• Learners in pairs/groups/\\nindividually to play digital games\\ninvolving decimals.\",\"rubrics\":[{\"indicator\":\"Identify a tenth and a hundredth.\",\"exceeds_expectations\":\"Identifies a tenth and a hundredth and beyond correctly.\",\"meets_expectations\":\"Identifies a tenth and a hundredth correctly.\",\"approaches_expectations\":\"Inconsistently identifies a tenth and a hundredth.\",\"below_expectations\":\"Little evidence in identifying a tenth and a hundredth.\"},{\"indicator\":\"Represent decimals using decimal notation.\",\"exceeds_expectations\":\"Represents decimals using decimal notation correctly and with ease.\",\"meets_expectations\":\"Represents decimals using decimal notation correctly.\",\"approaches_expectations\":\"Inconsistently represents decimals using decimal notation.\",\"below_expectations\":\"Little evidence in representing decimals using decimal notation.\"},{\"indicator\":\"Identify place value of decimals up to hundredths.\",\"exceeds_expectations\":\"Identifies place value of decimals up to hundredths and beyond correctly.\",\"meets_expectations\":\"Identifies place value of decimals up to hundredths correctly.\",\"approaches_expectations\":\"Inconsistently identifies place value of decimals up to hundredths.\",\"below_expectations\":\"Little evidence in identifying place value of decimals up to hundredths.\"},{\"indicator\":\"Order decimals up to hundredths.\",\"exceeds_expectations\":\"Orders decimals to hundredths and beyond correctly.\",\"meets_expectations\":\"Orders decimals up to hundredths correctly.\",\"approaches_expectations\":\"Inconsistently orders decimals up to hundredths.\",\"below_expectations\":\"Little evidence in ordering decimals up to hundredths.\"},{\"indicator\":\"Use IT devices for learning and leisure.\",\"exceeds_expectations\":\"Uses IT devices for learning and leisure fast and efficiently.\",\"meets_expectations\":\"Uses IT devices for learning and leisure efficiently.\",\"approaches_expectations\":\"Inconsistently uses IT devices for learning and leisure.\",\"below_expectations\":\"Little evidence in using IT devices for learning and leisure.\"}]}]}\n",
      "Function call: Strand with args: {\"grade\":\"Grade 4\",\"subject\":\"Mathematics\",\"strand_name\":\"Geometry\",\"sub_strands\":[{\"sub_strand_name\":\"ANGLES\",\"specific_learning_outcomes\":\"By the end of the sub strand, the learner should be able to:\\n- identify angles in the environment,\\n- identify different types of angles in the environment,\\n- compare angles practically,\\n- use IT devices for learning and enjoyment,\\n- appreciate use of angles in real life situations.\",\"key_inquiry_questions\":\"Where can you find angles in the environment?\",\"suggested_learning_experiences\":\"- Learners in pairs/groups/individually to identify angles in the environment.\\n- Learners in pairs/groups to identify right angles in the environment.\\n- Learners in pairs/groups to identify acute angles in the environment.\\n- Learners in pairs/groups to identify obtuse angles in the environment.\\n- Learners in pairs/groups to identify reflex angles in the environment.\\n- Learners in pairs/groups to compare angles using a right angle.\\n- Learners in pairs/groups/individually to play digital games and learn more about angles.\"}]}\n",
      "Function call: Strand with args: {\"grade\":\"Grade 4\",\"subject\":\"Mathematics\",\"strand_name\":\"Division\",\"sub_strands\":[{\"sub_strand_name\":\"1.5 DIVISION\",\"specific_learning_outcomes\":\"By the end of the sub strand, the learner should be able to: divide up to a 2-digit number by a) 1-digit number without remainder in different situations, divide up to a 2-digit number by a b) 1-digit number with remainder in real life situations, use relationship between c) multiplication and division to work out problems in real life situations, d) use IT devices for learning and leisure e) appreciate application of division of numbers in real life situations.\",\"key_inquiry_questions\":\"1. When do you use division in real life? 2. How can you estimate quotient?\",\"suggested_learning_experiences\":\"Learners in pairs/groups to divide up to a 2-digit number by 1-digit number without remainder using counters. Learners in pairs/groups to divide a 2-digit number by a 1-digit number with remainder using counters. Learners in pairs/groups to divide a 2-digit number by a 1- digit number using the long form of division. Learners in pairs/groups to divide a 2-digit number by a 1-digit number using own strategies. Learners in pairs/groups to use relationship between multiplication and division in working out problems. Learners pairs/groups/individually to play digital games involving division.\"}]}\n",
      "Function call: Strand with args: {\"grade\":\"Grade 6\",\"subject\":\"Mathematics\",\"strand_name\":\"Numbers\",\"sub_strands\":[{\"sub_strand_name\":\"Division\",\"specific_learning_outcomes\":\"By the end of the Sub Strand the learner should be able to;\\na) Divide up to a 4-digit number by up to a 3-digit number where the dividend is greater than the divisor in real life situations,\\nb) Estimate quotients by rounding off the dividend and divisor to the nearest ten in real life situations,\\nc) Perform combined operations involving addition, subtraction, multiplication and division in different situations,\\nd) Use IT devices for learning more on division of whole numbers and for enjoyment\\n e) appreciate use of division of whole numbers in real life.\",\"key_inquiry_questions\":\"1. How can you estimate quotients?\\n2. Where is division used in real life?\\n3. How can you work out questions involving combined operations?\",\"suggested_learning_experiences\":\"\\n• Learners in pairs/groups or as individuals to divide up to a 4-digit number by up to a 3-digit number where the dividend is greater than the divisor using;- relationship between multiplication and division- long method.\\n • Learners in pairs/groups or as individuals work out quotients by rounding the dividend and divisor to the nearest ten. \\n• Work out questions involving two, three or four operations. \\n• Learners play digital games involving division.\"}]}\n",
      "Function call: Strand with args: {\"grade\":\"Grade 6\",\"subject\":\"Mathematics\",\"strand_name\":\"Data Handling\",\"sub_strands\":[{\"sub_strand_name\":\"Bar Graphs\",\"specific_learning_outcomes\":\"By the end of the Sub Strand, the learner should be able to;\\na) Collect and represent data from real life situations using tables,\\nb) Represent data from real life situations through piling,\\nc) Represent data from real life situations using bar graphs,\\nd) Interpret information from bar graphs,\\ne) Use IT devices for learning more on bar graphs and for leisure,\\nf) Appreciate use of bar graphs in real life.\",\"key_inquiry_questions\":\"How can bar graphs be used in real life situations?\",\"suggested_learning_experiences\":\"\\n• Learners in pairs/groups or as individuals are guided to collect data and organise it in a frequency table. \\n• Learners in pairs/groups or as individuals to represent information through piling similar objects like matchboxes vertically. \\n• Learners in pairs/groups to represent information by drawing bar graphs. \\n• Learners in pairs/groups to discuss information represented on bar graphs. \\n• Learners in pairs/groups or as individuals to use IT devices to learn more on representing data using bar graphs.\",\"rubrics\":[{\"indicator\":\"Collecting and representing data using tables\",\"exceeds_expectations\":\"Collects and represents data using tables accurately and with ease\",\"meets_expectations\":\"Collects and represents data using tables accurately\",\"approaches_expectations\":\"Inconsistently collects and represents data using tables\",\"below_expectations\":\"Little evidence in collecting and representing data using tables\"},{\"indicator\":\"Representing data through piling\",\"exceeds_expectations\":\"Represents data through piling accurately and with ease\",\"meets_expectations\":\"Represents data through piling accurately\",\"approaches_expectations\":\"Inconsistently represents data through piling\",\"below_expectations\":\"Little evidence in representing data through piling\"},{\"indicator\":\"Representing data using bar graphs\",\"exceeds_expectations\":\"Represents data using bar graphs accurately and with ease\",\"meets_expectations\":\"Represents data using bar graphs accurately\",\"approaches_expectations\":\"Inconsistently represents data using bar graphs\",\"below_expectations\":\"Little evidence in representing data using bar graphs\"},{\"indicator\":\"Interpreting information from bar graphs\",\"exceeds_expectations\":\"Interprets information from bar graphs accurately and with ease\",\"meets_expectations\":\"Interprets information from bar graphs accurately\",\"approaches_expectations\":\"Inconsistently interprets information from bar graphs\",\"below_expectations\":\"Little evidence in interpreting information from bar graphs\"},{\"indicator\":\"Using IT devices to learn more about bar graphs\",\"exceeds_expectations\":\"Uses IT devices to learn more about bar graphs efficiently and with ease\",\"meets_expectations\":\"Uses IT devices to learn more about bar graphs efficiently\",\"approaches_expectations\":\"Inconsistently uses IT devices to learn more about bar graphs\",\"below_expectations\":\"Little evidence in using IT devices to learn more about bar graphs\"}]}]}\n",
      "Function call: Strand with args: {\"grade\":\"Grade 6\",\"subject\":\"Mathematics\",\"strand_name\":\"Measurement\",\"sub_strands\":[{\"sub_strand_name\":\"Capacity\",\"specific_learning_outcomes\":\"By the end of the Sub Strand, the learner should be able to;\\na) Identify the relationship among cubic centimetres (cm3), mililitres and litres in real life,\\nb) Convert litres to mililitres in different situations,\\nc) Convert capacity in millilitres to litres in different situations,\\nd) Use IT devices for more learning on capacity and for enjoyment,\\ne) Appreciate use of cm3 and litres in measuring capacity in real life.\",\"key_inquiry_questions\":\"1. How can we measure capacity?\\n2. Where is capacity applicable in real life?\",\"suggested_learning_experiences\":\"\\n• Learners in pairs/groups or as individuals to identify the relationship between cm3, mililitres and litres through measuring practically.\\n• Learners in pairs/groups or as individuals to measure capacity in millilitres and litres.\\n• Learners in pairs/groups or as individuals to convert capacity in litres to millilitres.\\n• Learners in pairs/groups or as individuals to convert capacity in millilitres to litres.\\n• Learners in pairs/groups or as individuals to play digital games involving capacity.\"}]}\n",
      "Function call: Strand with args: {\"grade\":\"Grade 6\",\"subject\":\"Mathematics\",\"strand_name\":\"2.0 MEASUREMENT\",\"sub_strands\":[{\"sub_strand_name\":\"2.2 Area (6 Lessons)\",\"specific_learning_outcomes\":\"By the end of the Sub Strand, the learner should be able to;\\na) Work out area of triangles in square centimetres (cm2) in different situations,\\nb) Work out area of combined shapes involving squares, rectangles and triangles in cm2 in different situations,\\nc) Use IT devices for learning more on area and for enjoyment,\\nd) Appreciate the use of cm2 in working out area in real life\",\"key_inquiry_questions\":\"Where is area used in real life?\",\"suggested_learning_experiences\":\"\\n• Learners in pairs/groups or as individuals are guided to establish that the area of a triangle is equal to a half of the area of a rectangle or a square when the rectangle or the square is divided by a diagonal. \\n• Learners in pairs/groups work out the area of triangles in cm2 using the relationship between a rectangle and a triangle (Area of a triangle is equal to ½ area of a rectangle or square. A = ½ (Lx W). \\n• Learners in pairs/groups or as individuals to come up with own combined shapes involving rectangles squares, \\n• triangles and ask other groups/pairs to determine the area. \\n• Learners in pairs/groups to play digital games involving area.\"}]}\n",
      "Function call: Strand with args: {\"grade\":\"Grade 6\",\"subject\":\"Mathematics\",\"strand_name\":\"Measurement\",\"sub_strands\":[{\"sub_strand_name\":\"Money (8 lessons)\",\"specific_learning_outcomes\":\"By the end of the Sub Strand, the learner should be able to;\\na) Prepare a simple budget,\\nb) Work out profit and loss in real life situations,\\nc) Identify types of taxes in different situations, \\nd) Use IT devices to learn about profit and loss,\\ne) Appreciate profit and loss in real life situations.\",\"key_inquiry_questions\":\"1. Why is it important to prepare a budget?\\n2. How can you make profit in a business?\",\"suggested_learning_experiences\":\"\\n• Learners in pairs/groups or as individuals to prepare price lists.\\n • Learners in pairs/groups or as individuals to discuss factors to consider when preparing a simple budget\\n • Learners in pairs/groups or as individuals to prepare a budget.\\n • Learners in pairs/groups or as individuals to discuss the meaning of profit and loss in real life situations and share with other groups.\\n • Learners in pairs/groups or as individuals work out questions involving profit and loss.\\n • Learners in pairs/groups or as individuals to discuss income and value added tax (VAT) as types of taxes. \\n• Learners in pairs/groups to use IT devices to play digital games\"}]}\n",
      "Function call: Strand with args: {\"grade\":\"Grade 6\",\"subject\":\"Mathematics\",\"strand_name\":\"Measurements\",\"sub_strands\":[{\"sub_strand_name\":\"Time\",\"specific_learning_outcomes\":\"By the end of the sub-strand, the learner should be able to;\\na) Identify time in a.m. And p.m. In day to day life experiences,\\nb) Write time in a.m. And p.m. In day to day life experiences,\\nc) Relate time in a.m. And p.m. To the 24h clock system,\\nd) Convert time from 12h to 24h and 24h to 12h system,\\ne) Interpret travel timetable in different situations,\\nf) Use IT devices for learning more on reading time and for leisure,\\ng) Appreciate use of time in both 12h and 24h systems\",\"key_inquiry_questions\":\"How can you read and tell time?\",\"suggested_learning_experiences\":\"\\n• Learners in pairs/groups or as individuals are guided to identify time in a.m. and p.m. from digital and analogue clocks.\\n • Learners in pairs/groups or as individuals to write time in a.m. and p.m. from digital and analogue clocks.\\n • Learners in pairs/groups or as individuals to relate time in a.m. and p.m. to the 24h clock system using a chart.\\n • Learners in pairs/groups or as individuals to convert time from the 12h to 24h system and 24h to 12h using a chart.\\n • Learners in pairs/groups or as individuals to interpret travel timetables. \\n• Learners in pairs/groups or as individuals to determine time durations using travel timetables.\\n • Learners in pairs/groups or as individuals to play digital games involving time on 12h and 24 h systems.\",\"rubrics\":[{\"indicator\":\"Identifying time in a.m. and p.m.\",\"exceeds_expectations\":\"Identifies time in a.m. and p.m. accurately and with ease\",\"meets_expectations\":\"Identifies time in a.m. and p.m. accurately\",\"approaches_expectations\":\"Inconsistently identifies time in a.m. and p.m.\",\"below_expectations\":\"Little evidence in identifying time in a.m. and p.m.\"},{\"indicator\":\"Writing time in a.m. and p.m.\",\"exceeds_expectations\":\"Writes time in a.m. and p.m. accurately and with ease\",\"meets_expectations\":\"Writes time in a.m. and p.m. accurately\",\"approaches_expectations\":\"Inconsistently writes time in a.m. and p.m.\",\"below_expectations\":\"Little evidence in writing time in a.m. and p.m.\"},{\"indicator\":\"Relating time in a.m. and p.m. to the 24h clock system\",\"exceeds_expectations\":\"Relates time in a.m. and p.m. to the 24h clock system accurately and with ease\",\"meets_expectations\":\"Relates time in a.m. and p.m. to the 24h clock system accurately\",\"approaches_expectations\":\"Inconsistently relates time in a.m. and p.m. to the 24hour-clock system\",\"below_expectations\":\"Little evidence in relating time in a.m. and p.m. to the 24h clock system\"},{\"indicator\":\"Converting time from 12h to 24h and 24h to 12h system\",\"exceeds_expectations\":\"Converts time from 12h to 24h and 24h to 12h system accurately and with ease\",\"meets_expectations\":\"Converts time from 12h to 24h and 24h to 12h system accurately\",\"approaches_expectations\":\"Inconsistently converts time from 12h to 24h and 24h to 12h system,\",\"below_expectations\":\"Little evidence in converting time from 12h to 24h and 24h to 12h system,\"},{\"indicator\":\"Interpreting travel timetables\",\"exceeds_expectations\":\"Interprets travel timetables accurately and with ease\",\"meets_expectations\":\"Interprets travel timetables accurately\",\"approaches_expectations\":\"Inconsistently interprets travel timetables\",\"below_expectations\":\"Little evidence in interpreting travel timetables\"},{\"indicator\":\"Using IT devices for learning more on reading time\",\"exceeds_expectations\":\"Uses IT devices for learning more on reading time efficiently and with ease\",\"meets_expectations\":\"Uses IT devices for learning more on reading time efficiently\",\"approaches_expectations\":\"Inconsistently uses IT devices for learning more on reading time\",\"below_expectations\":\"Little evidence in using IT devices for learning more on reading time\"}]}]}\n",
      "Function call: Strand with args: {\"grade\":\"Grade 6\",\"subject\":\"Mathematics\",\"strand_name\":\"Measurement\",\"sub_strands\":[{\"sub_strand_name\":\"Mass\",\"specific_learning_outcomes\":\"By the end of the Sub Strand, the learner should be able to;\\na) Identify the tonne as a unit for measuring mass in real life,\\nb) Identify items measured in tonnes in real life,\\nc) Identify the relationship between the kilogram and the tonne practically,\\nd) Estimate mass in tonnes in different situations,\\ne) Convert kilograms to tonnes and tonnes to kilograms in real life situations,\\nf) Add tonnes and kilograms in real life situations,\\n g) Subtract tonnes and kilograms in real life situations,\\n h) Multiply tonnes and kilograms by whole numbers in real life situations,\\n i) Divide tonnes and kilograms by whole numbers in real life situations,\\n j) Use IT devices for learning more on mass and for enjoyment,\\nk) Appreciate use of the kilogram and tonne in measuring mass.\",\"key_inquiry_questions\":\"1. How can we measure large amounts of mass?\\n2. In what situations would the tonne be more applicable to use when measuring mass?\",\"suggested_learning_experiences\":\"\\n• Learners in pairs/groups/or as individuals are guided to identify the tonne as a unit of measuring mass through discussions.\\n • Learners in pairs/groups/or as individuals to discuss items whose mass may be measured in tonnes \\n• Leaners in pairs/groups or as individuals to identify the relationship between the kilogram and the tonne (1000kg = 1 tonne).\\n • Learners in pairs estimate mass of objects in tonnes. \\n• Learners in pairs/groups or as individuals to convert kilograms to tonnes and tonnes to kilograms in real life situations.\\n • Learners in pairs/groups or as individuals to determine mass of items in tonnes and kilograms using different operations in real life situations. \\n• Learners in pairs/groups/individuals to play digital games involving mass\"}]}\n",
      "Function call: Strand with args: {\"grade\":\"Grade 6\",\"subject\":\"Mathematics\",\"strand_name\":\"Numbers\",\"sub_strands\":[{\"sub_strand_name\":\"Multiplication\",\"specific_learning_outcomes\":\"By the end of the Sub Strand, the learner should be able to;\\na) Multiply up to a 4-digit number by a 2-digit number in real life situations,\\nb) Estimate products by rounding off numbers being multiplied to the nearest ten in real life situations,\\nc) Make patterns involving multiplication of numbers not exceeding 10,000 in different situations,\\nd) Use IT devices for learning more on multiplication and for enjoyment,\\ne) Appreciate use of multiplication in real life.\",\"key_inquiry_questions\":\"1. Where is multiplication used in real life situations?\\n2. How can you estimate products of numbers?\\n3. How can you form patterns involving multiplication?\",\"suggested_learning_experiences\":\"\\n• Learners in pairs/groups or as individuals to multiply up to a 4-digit number by a 2-digit number using; \\n- fact families \\n- skip counting \\n- multiplication chart \\n- expanded form\\n - IT devices.\\n • Learners in pairs/groups or as individuals to estimate products using;\\n- rounding off factors \\n- compatibility of numbers\\n- own strategies.\\n • Learners in pairs/groups or as individuals to make patterns involving multiplication with products not exceeding 10,000 using number cards.\\n • Learners in pairs/groups or as individuals to play digital games involving multiplication.\"}]}\n",
      "Function call: Strand with args: {\"grade\":\"Grade 6\",\"subject\":\"Mathematics\",\"strand_name\":\"Geometry\",\"sub_strands\":[{\"sub_strand_name\":\"Angles\",\"specific_learning_outcomes\":\"By the end of the Sub Strand, the learner should be able to;\\na) identify angles on a straight line in different situations,\\nb) measure angles on a straight line in different situations,\\nc) determine the sum of angles in a triangle practically,\\nd) use IT devices for learning more on angles and for enjoyment,\\ne) appreciate use of angles in real life.\",\"key_inquiry_questions\":\"Where can you use angles in real life?\",\"suggested_learning_experiences\":\"\\n• Learners in pairs/groups or as individuals to identify angles on a straight line practically.\\n• Learners in pairs/groups or as individuals to measure angles on a straight line in degrees\\n• Learners in pairs/groups or as individuals to practically establish that the sum of angles in a triangle is equal to two (2) right angles.\\n• Learners in pairs/groups or as individuals to play digital games involving angles.\"}]}\n",
      "Function call: Strand with args: {\"grade\":\"Grade 6\",\"subject\":\"Mathematics\",\"strand_name\":\"Geometry\",\"sub_strands\":[{\"sub_strand_name\":\"Lines\",\"specific_learning_outcomes\":\"By the end of the sub-strand, the learner should be able to;\\na) Construct parallel lines in different situations,\\nb) Bisect lines through construction,\\nc) Construct perpendicular lines in different situations,\\nd) Use IT devices for more learning on lines and leisure\\ne) Appreciate use of lines in daily life.\",\"key_inquiry_questions\":\"1. Why do we need to construct lines?\\n2. How can you construct a line?\",\"suggested_learning_experiences\":\"\\n• Learners in pairs/groups or as individuals to construct parallel lines using geometrical instruments.\\n• Learners in pairs/groups or as individuals to bisect lines using geometrical instruments.\\n• Learners in pairs/groups or as individuals to construct perpendicular lines using geometrical instruments.\\n• Learners in pairs/groups or as individuals to play digital games.\",\"rubrics\":[{\"indicator\":\"Constructing parallel lines\",\"exceeds_expectations\":\"Constructs parallel lines accurately and with ease\",\"meets_expectations\":\"Constructs parallel lines accurately\",\"approaches_expectations\":\"Inconsistently constructs parallel lines\",\"below_expectations\":\"Little evidence in constructing parallel lines\"},{\"indicator\":\"Bisecting lines through construction\",\"exceeds_expectations\":\"Bisects lines through construction accurately and with ease\",\"meets_expectations\":\"Bisects lines through construction accurately\",\"approaches_expectations\":\"Inconsistently bisects lines through construction\",\"below_expectations\":\"Little evidence in bisecting lines through construction\"},{\"indicator\":\"Constructing perpendicular lines\",\"exceeds_expectations\":\"Constructs perpendicular lines accurately and with ease\",\"meets_expectations\":\"Constructs perpendicular lines accurately\",\"approaches_expectations\":\"Inconsistently constructs perpendicular lines\",\"below_expectations\":\"Little evidence in constructing perpendicular lines\"},{\"indicator\":\"Using IT devices for more learning on lines\",\"exceeds_expectations\":\"Uses IT devices for more learning on lines efficiently and with ease\",\"meets_expectations\":\"Uses IT devices for more learning on lines efficiently\",\"approaches_expectations\":\"Inconsistently uses IT devices for more learning on lines\",\"below_expectations\":\"Little evidence in using IT devices for more learning on lines\"}]}]}\n",
      "Function call: Strand with args: {\"grade\":\"Grade 6\",\"subject\":\"Mathematics\",\"strand_name\":\"Geometry\",\"sub_strands\":[{\"sub_strand_name\":\"3-D Objects\",\"specific_learning_outcomes\":\"By the end of the Sub Strand, the learner should be able to;\\na) Identify vertices, faces and edges in 3-D objects,\\nb) Use IT devices for learning more on 3-D objects and for enjoyment,\\nc) Appreciate use of 3-D objects in real life.\",\"key_inquiry_questions\":\"Where can we use 3-D objects?\",\"suggested_learning_experiences\":\" \\n• Learners in pairs/groups or as individuals are guided to identify 3-D objects in the environment.\\n • Learners in pairs/groups to identify cubes, cuboids, cylinders and pyramids in the environment.\\n • Learners in pairs and groups to identify vertices, faces and edges of cubes, cuboids, cylinders and pyramids in different situations.\\n • Learners in pairs/groups or as individuals to play digital games.\",\"rubrics\":[{\"indicator\":\"Identifying vertices, faces and edges in 3-D objects\",\"exceeds_expectations\":\"Identifies vertices, faces and edges in 3-D objects correctly and with ease\",\"meets_expectations\":\"Identifies vertices, faces and edges in 3-D objects correctly\",\"approaches_expectations\":\"Inconsistently identifies vertices, faces and edges in 3-D objects\",\"below_expectations\":\"Little evidence in identifying vertices, faces and edges in 3-D objects\"},{\"indicator\":\"Using IT devices for learning more on 3-D objects\",\"exceeds_expectations\":\"Uses IT devices for learning more on 3-D objects efficiently and with ease\",\"meets_expectations\":\"Uses IT devices for learning more on 3-D objects efficiently\",\"approaches_expectations\":\"Inconsistently uses IT devices for learning more on 3-D objects\",\"below_expectations\":\"Little evidence in using IT devices for learning more on 3-D objects\"}]}]}\n",
      "Function call: Strand with args: {\"grade\":\"Grade 6\",\"subject\":\"Mathematics\",\"strand_name\":\"Numbers\",\"sub_strands\":[{\"sub_strand_name\":\"Fractions\",\"specific_learning_outcomes\":\"By the end of the Sub Strand, the learner should be able to;\\na) Identify LCM of given numbers in different situations,\\nb) Add fractions using LCM in different situations,\\nc) Subtract fractions using LCM in different situations,\\nd) Add mixed numbers in different situations,\\ne) Subtract mixed numbers in different situations,\\nf) Identify reciprocal of fractions for use in different situations,\\ng) Work out squares of fractions in different situations,\\nh) Convert fractions to equivalent fractions with denominator 100 in different situations,\\ni) Identify percentage as a fraction for use in different situations,\\nj) Convert fractions to percentages in different situations,\\nk) Convert percentages to fractions in different situations,\\nl) use IT devices for learning more on fractions,\\nm) appreciate use of fractions in real life\",\"key_inquiry_questions\":\"1. Where are squares and fractions used in real life?\\n2. Where are percentages used in our day to day lives?\",\"suggested_learning_experiences\":\"\\n• Learners in pairs/groups or as individuals to identify LCM of numbers given from number cards.\\n• Learners in pairs/groups to add and subtract fractions using LCM by listing multiples.\\n• Learners in pairs/groups or as individuals to add and subtract mixed fractions by converting the fractions to improper fractions.\\n• Learners in pairs/groups or as individuals to add and subtract mixed fractions by adding and subtracting whole number and fraction parts separately.\\n• Learners in pairs/groups or as individuals to multiply fractions by whole numbers to get one.\\n• Learners in pairs/groups or as individuals to discuss the results and identify the reciprocal of a fraction.\\n• Learners in pairs/groups or as individuals to work out squares of fractions through multiplication practically.\\n• Learners in pairs/groups or as individuals to convert fractions to equivalent fractions with denominator 100 through multiplication.\\n• Learners in pairs/groups or as individuals to identify a percentage as a fraction with denominator 100\\n• Learners in pairs/groups to discuss real-life situations where percentages are used.\\n• Learners in pairs/groups or as individuals to convert fractions to percentages and percentages to fractions.\\n• Learners to play digital games involving fractions.\"}]}\n",
      "Function call: Strand with args: {\"grade\":\"Grade 6\",\"subject\":\"Mathematics\",\"strand_name\":\"Algebra\",\"sub_strands\":[{\"sub_strand_name\":\"Inequalities\",\"specific_learning_outcomes\":\"By the end of the Sub Strand, the learner should be able to;\\na) Form simple inequalities in one unknown involving real life situations,\\nb) Simplify simple inequalities in one unknown involving real life situations,\\nc) Use IT devices to simplify inequalities and play digital games involving inequalities.\\nd) Appreciate use of algebraic expressions in real life.\",\"key_inquiry_questions\":\"Where are algebraic expressions used?\",\"suggested_learning_experiences\":\"\\n• Learners in pairs/groups or as individuals to discuss meaning of algebraic inequality symbols ‘ > ‘ and ‘ < ‘\\n• Learners in pairs/groups or as individuals to form algebraic inequalities in one unknown using different operations.\\n• Learners in pairs/groups or as individuals to simplify algebraic inequalities in one unknown.\\n• Learners in pairs/groups or as individuals to use IT devices to simplify algebraic inequalities and play digital games.\"}]}\n",
      "Function call: Strand with args: {\"grade\":\"Grade 6\",\"subject\":\"Mathematics\",\"strand_name\":\"Numbers\",\"sub_strands\":[{\"sub_strand_name\":\"Decimals\",\"specific_learning_outcomes\":\"By the end of the Sub Strand, the learner should be able to;\\na) Identify decimals up to ten thousandths in different situations,\\nb) Round off decimals in different situations,\\nc) Convert decimals to fractions in different situations,\\nd) Convert fractions to decimals in different situations,\\ne) Convert decimals to percentages in different situations,\\nf) Convert percentages to decimals in different situations,\\ng) Add decimals up to 4-decimal places in different situations,\\nh) Subtract decimals up to 4-decimal places in different situations,\\ni) Use IT devices for more learning on decimals and leisure,\\nj) Appreciate the use of decimals in real-life situations.\",\"key_inquiry_questions\":\"Where are decimals applicable in real life?\",\"suggested_learning_experiences\":\"\\n• Learners in pairs/groups or as individuals to identify place value of decimals up to ten thousandths using place value apparatus.\\n• Learners in pairs/groups or as individuals to relate place value of decimals up to ten thousandths to the number of decimal places.\\n• Learners in pairs/groups or as individuals to round off decimals to a given number of decimal places.\\n• Learners in pairs/groups or as individuals to convert decimals to fractions using a square/rectangular grid.\\n• Learners in pairs/groups or as individuals to convert fractions to decimals using a square/rectangular grid.\\n• Learners in pairs/groups or as individuals to convert decimals to percentages and percentages to decimals.\\n• Learners in pairs/groups or as individuals to add decimals up to 4-decimal places using place value apparatus.\\n• Learners in pairs/groups or as individuals to subtract decimals up to 4-decimal places using place value apparatus.\\n• Learners in pairs/groups or as individuals to play digital games involving decimals.\",\"rubrics\":[{\"indicator\":\"Identifying decimals up to ten thousandths\",\"exceeds_expectations\":\"Identifies decimals up to ten thousandths correctly and with ease\",\"meets_expectations\":\"Identifies decimals up to ten thousandths correctly\",\"approaches_expectations\":\"Inconsistently identifies decimals up to ten thousandths\",\"below_expectations\":\"Little evidence in identifying decimals up to ten thousandths\"},{\"indicator\":\"Rounding off decimals\",\"exceeds_expectations\":\"Rounds off decimals correctly and with ease\",\"meets_expectations\":\"Rounds off decimals correctly\",\"approaches_expectations\":\"Inconsistently rounds off decimals\",\"below_expectations\":\"Little evidence in rounding off decimals\"},{\"indicator\":\"Converting decimals to fractions\",\"exceeds_expectations\":\"Converts decimals to fractions correctly and with ease\",\"meets_expectations\":\"Converts decimals to fractions correctly\",\"approaches_expectations\":\"Inconsistently converts decimals to fractions\",\"below_expectations\":\"Little evidence in converting decimals to fractions\"},{\"indicator\":\"Converting fractions to decimals\",\"exceeds_expectations\":\"Converts fractions to decimals correctly and with ease\",\"meets_expectations\":\"Converts fractions to decimals correctly\",\"approaches_expectations\":\"Inconsistently converts fractions to decimals\",\"below_expectations\":\"Little evidence in converting fractions to decimals\"},{\"indicator\":\"Converting decimals to percentages\",\"exceeds_expectations\":\"Converts decimals to percentages correctly and with ease\",\"meets_expectations\":\"Converts decimals to percentages correctly\",\"approaches_expectations\":\"Inconsistently converts decimals to percentages\",\"below_expectations\":\"Little evidence in converting decimals to percentages\"},{\"indicator\":\"Converting percentages to decimals\",\"exceeds_expectations\":\"Converts percentages to decimals efficiently and with ease\",\"meets_expectations\":\"Converts percentages to decimals correctly\",\"approaches_expectations\":\"Inconsistently converts percentages to decimals\",\"below_expectations\":\"Little evidence in converting percentages to decimals\"},{\"indicator\":\"Adding decimals up to 4-decimal places\",\"exceeds_expectations\":\"Adds decimals up to 4-decimal places correctly and with ease\",\"meets_expectations\":\"Adds decimals up to 4-decimal places correctly\",\"approaches_expectations\":\"Inconsistently adds decimals up to 4-decimal places\",\"below_expectations\":\"Little evidence in adding decimals up to 4-decimal places\"},{\"indicator\":\"Subtracting decimals up to 4-decimal places\",\"exceeds_expectations\":\"Subtracts decimals up to 4-decimal places correctly and with ease\",\"meets_expectations\":\"Subtracts decimals up to 4-decimal places correctly\",\"approaches_expectations\":\"Inconsistently subtracts decimals up to 4-decimal places\",\"below_expectations\":\"Little evidence in subtracting decimals up to 4-decimal places\"},{\"indicator\":\"Using IT devices for more learning on decimals and leisure\",\"exceeds_expectations\":\"Uses IT devices for more learning on decimals and leisure efficiently and with ease\",\"meets_expectations\":\"Uses IT devices for more learning on decimals and leisure correctly\",\"approaches_expectations\":\"Inconsistently uses IT devices for more learning on decimals and leisure\",\"below_expectations\":\"Little evidence in using IT devices for more learning on decimals and leisure\"}]}]}\n",
      "Function call: Strand with args: {\"grade\":\"Grade 6\",\"subject\":\"Mathematics\",\"strand_name\":\"Measurement\",\"sub_strands\":[{\"sub_strand_name\":\"Length\",\"specific_learning_outcomes\":\"By the end of the Sub Strand, the learner should be able to;\\na) Use the millimetre (mm) as a unit of measuring length in different situations,\\nb) Establish the relationship between the millimetre and centimetre in different situations,\\nc) Convert centimetres to millimetres in different situations,\\nd) Convert millimetres to centimetres in different situations,\\ne) add centimetres and millimetres in different situations,\\nf) Subtract centimetres and millimetres in different situations,\\n g) Multiply centimetres and millimetres by whole numbers in real life situations,\\n h) Divide centimetres and millimetres by whole numbers in real life situations,\\n i) Measure the circumference of a circle practically,\\n j) Identify the relationship between circumference and diameter in different situations,\\n k) Use IT devices for learning more on length and for enjoyment,\\n l) Appreciate use of length in real life situations\",\"key_inquiry_questions\":\"1. Why do we measure distances in day to day life?\\n2. What do we use to measure length in real life?\",\"suggested_learning_experiences\":\" \\n• Learners in pairs/groups or as individuals to identify the millimetre as a unit of measuring length using a ruler.\\n • Learners in pairs/groups or as individuals to measure length in millimetres using a ruler.\\n • Leaners in pairs/groups or as individuals to measure a given length in cm and mm to establish the relationship between mm and cm. \\n• Learners in pairs/groups or as individuals to convert mm to cm and cm to mm when measuring lengths of different objects. \\n • Learners to choose appropriate units to measure lengths of different objects.\\n • Learners in pairs/groups or as individuals determine lengths in mm and cm in addition, subtraction, multiplication and division. \\n• Learners in pairs/groups or as individuals to work out the circumference, diameter and radius of a circle practically.\\n • Learners in pairs/groups or as individuals to measure the circumference of a circle practically.\\n • Learners in pairs/groups or as individuals to divide circumference by diameter to get pi (?).\\n • Leaners in pairs/groups or as individuals to play digital games involving length in mm and cm.\"}]}\n",
      "Function call: Strand with args: {\"grade\":\"Grade 6\",\"subject\":\"Mathematics\",\"strand_name\":\"Numbers\",\"sub_strands\":[{\"sub_strand_name\":\"Whole numbers\",\"specific_learning_outcomes\":\"By the end of the Sub Strand, the learner should be able to;\\na) Use place value and total value of digits up to millions in real life,\\nb) Use numbers up to millions in symbols in real life,\\nc) Read, write and relate numbers up to 100,000 in words in real life,\\nd) Order numbers up to 100,000 in real life situations,\\ne) round off numbers up to 100,000 to the nearest thousand in different situations,\\nf) Apply squares of whole numbers up to 100 in different situations,\\ng) Apply square roots of perfect squares up to 10,000 in different situations,\\nh) Use IT devices for learning more on whole numbers and for enjoyment,\\ni) appreciate use of whole numbers in real life situations.\",\"key_inquiry_questions\":\"1. How can you work out squares of numbers?\\n2. How can you work out square roots of numbers?\\n3. Where are squares and square roots used in real life?\",\"suggested_learning_experiences\":\"\\n• Learners in pairs/groups or as individuals to identify place value of digits up to millions using place value apparatus.\\n• Learners in pairs/groups or as individuals to identify total value of digits up to millions using place value apparatus. \\n• Learners in pairs/groups or as individuals to read numbers up to hundreds of thousands millions in symbols from number charts/cards.\\n• Learners in pairs/groups or as individuals to form different numbers by rearranging digits of a given number.\\n• Learners in pairs/groups thousand from number cards and share with other groups.\\n• Learners in pairs/groups or as individuals to multiply a given number by itself and identify the answer as the square of the number.\\n• Learners in pairs/groups or as individuals to identify the square root of a given number as a value which when multiplied by itself results in the given number.\\n• Learners in pairs/groups or as individuals to play digital games involving whole numbers.\"}]}\n"
     ]
    }
   ],
   "source": [
    "strands = []\n",
    "# Assuming `df_merged` is loaded and `program` is configured as shown earlier\n",
    "\n",
    "for index, row in df_merged.iterrows():\n",
    "    grade, subject = row['folder_name_x'].split()[:2]  # Simplified extraction, adjust as necessary\n",
    "    input_details_x = row['details_x']\n",
    "    input_details_y = row['details_y']\n",
    "    \n",
    "    # # Construct the input for the model\n",
    "    # formatted_input = prompt_template_str.format(\n",
    "    #     input_folder_name=f\"{grade} {subject}\",\n",
    "    #     input_details_x=input_details_x,\n",
    "    #     input_details_y=input_details_y\n",
    "    # )\n",
    "    \n",
    "    # Execute the program (This step is theoretical in this context)\n",
    "    strand = program(input_folder_name=f\"{grade} {subject}\",input_details_x=input_details_x,input_details_y=input_details_y )  # Modify as per actual function call syntax\n",
    "    strands.append(strand)\n"
   ]
  },
  {
   "cell_type": "code",
   "execution_count": 14,
   "metadata": {},
   "outputs": [
    {
     "data": {
      "text/plain": [
       "[Strand(grade='Grade 3', subject='Mathematics', strand_name='Measurement', sub_strands=[SubStrand(sub_strand_name='Time', specific_learning_outcomes='By the end of the sub-strand, the learner should be able to:\\n\\na. Identify the minute as a unit of measuring time,\\nb. Read and tell time using the digital clock,\\nc. Read and tell time using ‘past’ and ‘to’ the hour using the clock face,\\nd. Write time using ‘past’ and ‘to’ the hour,\\ne. Estimate time in hours,\\nf. Add and subtract time involving hours and minutes without conversion in real life', key_inquiry_questions='How do we convert hours to minutes', suggested_learning_experiences='- Learners to discuss the divisions on a clock face and what each division represents.\\n- Learners to read time on a digital clock\\n- Learners in pairs/groups to discuss the relationship between hours and minutes using a clock face.\\n- Learners in pairs/groups to read, tell and write time using ‘past’ and ‘to’ the hour.\\n- Learners in pairs/groups to estimate time in hours.\\n- Learners in pairs/groups to add and subtract time involving hours and minutes without conversion in real life situations.')])]"
      ]
     },
     "execution_count": 14,
     "metadata": {},
     "output_type": "execute_result"
    }
   ],
   "source": [
    "# strands[0]"
   ]
  },
  {
   "cell_type": "code",
   "execution_count": 12,
   "metadata": {},
   "outputs": [
    {
     "ename": "NameError",
     "evalue": "name 'df_merged' is not defined",
     "output_type": "error",
     "traceback": [
      "\u001b[0;31m---------------------------------------------------------------------------\u001b[0m",
      "\u001b[0;31mNameError\u001b[0m                                 Traceback (most recent call last)",
      "Cell \u001b[0;32mIn[12], line 1\u001b[0m\n\u001b[0;32m----> 1\u001b[0m \u001b[43mdf_merged\u001b[49m\u001b[38;5;241m.\u001b[39mhead(\u001b[38;5;241m1\u001b[39m)\n",
      "\u001b[0;31mNameError\u001b[0m: name 'df_merged' is not defined"
     ]
    }
   ],
   "source": [
    "# df_merged.head(1)"
   ]
  },
  {
   "cell_type": "code",
   "execution_count": null,
   "metadata": {},
   "outputs": [],
   "source": [
    "# grade: [Grade Level from folder_name_x ]\n",
    "# subject: [Subject Name from folder_name_x]\n",
    "# sub_strand: [Name of each sub-strand within a strand. Found in details_x]\n",
    "# specific_learning_outcomes: [List of learning outcomes for each sub-strand. Found in details_x]\n",
    "# key_inquiry_question: [Key questions for each sub-strand. Found in details_x]]\n",
    "# suggested_learning_experiences: [List of suggested activities and experiences. Found in details_x]\n",
    "# assessment_rubrics: Array of objects, each representing an assessment indicator with detailed rubrics. For each indicator, include:\n",
    "# indicator_name: Name of the indicator.\n",
    "# rubrics: Array of objects detailing the achievement levels (Exceeds, Meets, Approaches, Below Expectations), with a level key and a statement key describing the criteria for each level."
   ]
  }
 ],
 "metadata": {
  "kernelspec": {
   "display_name": ".venv",
   "language": "python",
   "name": "python3"
  },
  "language_info": {
   "codemirror_mode": {
    "name": "ipython",
    "version": 3
   },
   "file_extension": ".py",
   "mimetype": "text/x-python",
   "name": "python",
   "nbconvert_exporter": "python",
   "pygments_lexer": "ipython3",
   "version": "3.10.12"
  }
 },
 "nbformat": 4,
 "nbformat_minor": 2
}
