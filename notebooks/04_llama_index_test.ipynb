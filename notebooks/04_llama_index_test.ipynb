{
 "cells": [
  {
   "cell_type": "code",
   "execution_count": 1,
   "metadata": {},
   "outputs": [
    {
     "data": {
      "text/plain": [
       "True"
      ]
     },
     "execution_count": 1,
     "metadata": {},
     "output_type": "execute_result"
    }
   ],
   "source": [
    "## Load dotenv\n",
    "from dotenv import load_dotenv\n",
    "load_dotenv()\n"
   ]
  },
  {
   "cell_type": "code",
   "execution_count": 2,
   "metadata": {},
   "outputs": [],
   "source": [
    "import logging\n",
    "import sys\n",
    "\n",
    "logging.basicConfig(stream=sys.stdout, level=logging.INFO)"
   ]
  },
  {
   "cell_type": "code",
   "execution_count": 3,
   "metadata": {},
   "outputs": [],
   "source": [
    "from llama_index import (\n",
    "    SimpleDirectoryReader,\n",
    "    ServiceContext,\n",
    "    KnowledgeGraphIndex,\n",
    ")\n",
    "from llama_index.graph_stores import SimpleGraphStore\n",
    "\n",
    "from llama_index.llms import OpenAI\n",
    "from IPython.display import Markdown, display"
   ]
  },
  {
   "cell_type": "code",
   "execution_count": null,
   "metadata": {},
   "outputs": [],
   "source": [
    "\"/home/njui/kn_workspace/curriculum_taxonomy_extractor/grade_6_math_13_to_17.pdf\""
   ]
  },
  {
   "cell_type": "code",
   "execution_count": null,
   "metadata": {},
   "outputs": [],
   "source": [
    "## load pdf file to llama index\n",
    "file_name = \"../data/interim/\"\n",
    "documents = SimpleDirectoryReader(input_files=[file_name]).load_data()"
   ]
  },
  {
   "cell_type": "code",
   "execution_count": null,
   "metadata": {},
   "outputs": [],
   "source": [
    "llm= OpenAI(temperature=0,model=\"gpt-3.5-turbo\")\n",
    "service_context = ServiceContext.from_defaults(llm=llm, chunk_size=512)"
   ]
  },
  {
   "cell_type": "code",
   "execution_count": null,
   "metadata": {},
   "outputs": [],
   "source": []
  },
  {
   "cell_type": "code",
   "execution_count": null,
   "metadata": {},
   "outputs": [],
   "source": []
  },
  {
   "cell_type": "code",
   "execution_count": null,
   "metadata": {},
   "outputs": [],
   "source": []
  },
  {
   "cell_type": "code",
   "execution_count": null,
   "metadata": {},
   "outputs": [],
   "source": []
  },
  {
   "cell_type": "code",
   "execution_count": null,
   "metadata": {},
   "outputs": [],
   "source": []
  },
  {
   "cell_type": "code",
   "execution_count": null,
   "metadata": {},
   "outputs": [],
   "source": []
  },
  {
   "cell_type": "code",
   "execution_count": null,
   "metadata": {},
   "outputs": [],
   "source": []
  },
  {
   "cell_type": "code",
   "execution_count": null,
   "metadata": {},
   "outputs": [],
   "source": [
    "from llama_index.storage.storage_context import StorageContext\n",
    "\n",
    "graph_store = SimpleGraphStore()\n",
    "storage_context = StorageContext.from_defaults(graph_store=graph_store)\n",
    "\n",
    "# NOTE: can take a while!\n",
    "index = KnowledgeGraphIndex.from_documents(\n",
    "    documents,\n",
    "    max_triplets_per_chunk=2,\n",
    "    storage_context=storage_context,\n",
    "    service_context=service_context,\n",
    ")"
   ]
  },
  {
   "cell_type": "code",
   "execution_count": null,
   "metadata": {},
   "outputs": [],
   "source": [
    "query_engine = index.as_query_engine(\n",
    "    include_text=False, response_mode=\"tree_summarize\"\n",
    ")\n",
    "response = query_engine.query(\n",
    "    \"How many subjects are here?\",\n",
    ")"
   ]
  },
  {
   "cell_type": "code",
   "execution_count": null,
   "metadata": {},
   "outputs": [],
   "source": [
    "response"
   ]
  },
  {
   "cell_type": "code",
   "execution_count": null,
   "metadata": {},
   "outputs": [],
   "source": [
    "#### Using Nebula Graph\n",
    "\n",
    "import logging\n",
    "import sys\n",
    "\n",
    "\n",
    "from llama_index import (\n",
    "    KnowledgeGraphIndex,\n",
    "    ServiceContext,\n",
    "    SimpleDirectoryReader,\n",
    ")\n",
    "from llama_index.storage.storage_context import StorageContext\n",
    "from llama_index.graph_stores import NebulaGraphStore\n",
    "from llama_index.llms import OpenAI\n",
    "\n",
    "from IPython.display import Markdown, display\n",
    "\n",
    "\n",
    "# define LLM\n",
    "# NOTE: at the time of demo, text-davinci-002 did not have rate-limit errors\n",
    "llm = OpenAI(temperature=0, model=\"gpt-3.5-turbo\")\n",
    "service_context = ServiceContext.from_defaults(llm=llm)"
   ]
  },
  {
   "cell_type": "code",
   "execution_count": null,
   "metadata": {},
   "outputs": [],
   "source": [
    "from nebula3.gclient.net import ConnectionPool\n",
    "from nebula3.Config import Config\n",
    "\n",
    "# Connection Configuration\n",
    "config = Config()\n",
    "config.max_connection_pool_size = 10\n",
    "connection_pool = ConnectionPool()\n",
    "\n",
    "# Initialize connection pool\n",
    "if not connection_pool.init([('172.17.0.1', 9669)], config):\n",
    "    print(\"Failed to connect to Nebula Graph!\")\n",
    "    exit(1)\n",
    "\n",
    "# Creating a session\n",
    "with connection_pool.session_context('root', 'nebula') as session:\n",
    "    # Create a space with VID type\n",
    "    print(\"Creating space with VID type...\")\n",
    "    # create_space_command = \"CREATE SPACE curriculum_graph (partition_num=10, replica_factor=1, vid_type=FIXED_STRING(30));\"\n",
    "    create_space_command = \"CREATE SPACE curriculum_graph (partition_num=10, replica_factor=1, vid_type=FIXED_STRING(3000));\"\n",
    "    # session.execute(create_space_command)\n",
    "    result = session.execute(create_space_command)\n",
    "    if not result.is_succeeded():\n",
    "        print(\"Failed to create space:\", result.error_msg())\n",
    "        exit(1)\n",
    "\n",
    "    # Validate the creation of the space\n",
    "    print(\"Validating space creation...\")\n",
    "    show_spaces_command = \"SHOW SPACES;\"\n",
    "    result = session.execute(show_spaces_command)\n",
    "    if result.is_succeeded():\n",
    "        print(\"Available Spaces: \", result)\n",
    "\n",
    "# Close the connection pool\n",
    "connection_pool.close()\n"
   ]
  },
  {
   "cell_type": "code",
   "execution_count": null,
   "metadata": {},
   "outputs": [],
   "source": [
    "from nebula3.gclient.net import ConnectionPool\n",
    "from nebula3.Config import Config\n",
    "\n",
    "# Connection Configuration\n",
    "config = Config()\n",
    "config.max_connection_pool_size = 10\n",
    "connection_pool = ConnectionPool()\n",
    "\n",
    "# Initialize connection pool\n",
    "if not connection_pool.init([('172.17.0.1', 9669)], config):\n",
    "    print(\"Failed to connect to Nebula Graph!\")\n",
    "    exit(1)\n",
    "\n",
    "# Creating a session\n",
    "with connection_pool.session_context('root', 'nebula') as session:\n",
    "    # Create space with VID type\n",
    "    # create_space_command = \"CREATE SPACE curriculum_graph (partition_num=10, replica_factor=1, vid_type=FIXED_STRING(3000));\"\n",
    "    # session.execute(create_space_command)\n",
    "    \n",
    "    use_space_command = \"USE curriculum_graph;\"\n",
    "    result  = session.execute(use_space_command)\n",
    "    ## show if space is loaded from result\n",
    "    if result.is_succeeded():\n",
    "        print(\"Space loaded: \", result)\n",
    "    # Create tags with properties\n",
    "    create_subject_tag = \"CREATE TAG Subject(name string, grade string);\"\n",
    "    create_strand_tag = \"CREATE TAG Strand(name string);\"\n",
    "    create_substrand_tag = \"CREATE TAG SubStrand(name string);\"\n",
    "    create_learningoutcome_tag = \"CREATE TAG LearningOutcome(description string);\"\n",
    "    create_assessment_rubrics_tag = \"CREATE TAG AssessmentRubrics(indicator_name string, exceeds_expectations string, meets_expectations string, approaches_expectations string, below_expectations string);\"\n",
    "\n",
    "\n",
    "\n",
    "    session.execute(create_subject_tag)\n",
    "    session.execute(create_strand_tag)\n",
    "    session.execute(create_substrand_tag)\n",
    "    session.execute(create_learningoutcome_tag)\n",
    "    session.execute(create_assessment_rubrics_tag)\n",
    "    # Create edge types with properties\n",
    "    create_subjecttostrand_edge = \"CREATE EDGE SubjectToStrand(importance string, sequence_order string, time_allocation string);\"\n",
    "    create_strandtosubstrand_edge = \"CREATE EDGE StrandToSubStrand(importance string, sequence_order string, time_allocation string);\"\n",
    "    create_substrandtolearningoutcome_edge = \"CREATE EDGE SubStrandToLearningOutcome(importance string, sequence_order string, time_allocation string);\"\n",
    "    create_rubricstosubstrand_edge = \"CREATE EDGE RubricsToSubStrand(relevance string, application string);\"\n",
    "\n",
    "\n",
    "    session.execute(create_subjecttostrand_edge)\n",
    "    session.execute(create_strandtosubstrand_edge)\n",
    "    session.execute(create_substrandtolearningoutcome_edge)\n",
    "    session.execute(create_rubricstosubstrand_edge)\n",
    "    # Validate the creation of the schema\n",
    "    print(\"Validating schema creation...\")\n",
    "    show_tags_command = \"SHOW TAGS;\"\n",
    "    show_edges_command = \"SHOW EDGES;\"\n",
    "    tags_result = session.execute(show_tags_command)\n",
    "    edges_result = session.execute(show_edges_command)\n",
    "    print(\"Available Tags: \", tags_result)\n",
    "    print(\"Available Edges: \", edges_result)\n",
    "\n",
    "# Close the connection pool\n",
    "connection_pool.close()\n"
   ]
  },
  {
   "cell_type": "code",
   "execution_count": null,
   "metadata": {},
   "outputs": [],
   "source": [
    "# Nebula Graph Store Configuration\n",
    "space_name = \"curriculum_graph\"\n",
    "edge_types = [\"SubjectToStrand\", \"StrandToSubStrand\", \"SubStrandToLearningOutcome\", \"RubricsToSubStrand\"]\n",
    "rel_prop_names = [\"importance\", \"sequence_order\", \"time_allocation\", \"relevance,application\"]\n",
    "tags = [\"Subject\", \"Strand\", \"SubStrand\", \"LearningOutcome\",\"AssessmentRubrics\"]\n",
    "\n",
    "# Define properties for each tag\n",
    "tag_prop_names = [\"name,grade\",\"name\",\"name\",\"description\",\"indicator_name,exceeds_expectations,meets_expectations,approaches_expectations,below_expectations\"]\n",
    "\n",
    "# Initialize the Nebula Graph Store\n",
    "graph_store = NebulaGraphStore(\n",
    "    space_name=space_name,\n",
    "    edge_types=edge_types,\n",
    "    rel_prop_names=rel_prop_names,\n",
    "    tags=tags,\n",
    "    tag_prop_names=tag_prop_names,\n",
    ")\n",
    "\n",
    "# Create a storage context\n",
    "storage_context = StorageContext.from_defaults(graph_store=graph_store)\n"
   ]
  },
  {
   "cell_type": "code",
   "execution_count": null,
   "metadata": {},
   "outputs": [],
   "source": [
    "# ## load pdf file to llama index\n",
    "# file_name = \"../data/interim/GRADE 4 CURRICULUM DESIGNS- Volume 3.pdf\"\n",
    "# documents = SimpleDirectoryReader(input_files=[file_name]).load_data(num_workers=5)"
   ]
  },
  {
   "cell_type": "code",
   "execution_count": null,
   "metadata": {},
   "outputs": [],
   "source": [
    "## load json file in llama index\n",
    "from llama_index import download_loader\n",
    "import json\n",
    "file_name = \"../data/interim/GRADE 6 CURRICULUM DESIGNS- MATHEMATICS_processed.json\"\n",
    "## read json file\n",
    "with open(file_name, 'r', encoding='utf-8') as f:\n",
    "    json_data = json.load(f)\n",
    "\n",
    "\n",
    "JsonDataReader = download_loader(\"JsonDataReader\")\n",
    "loader = JsonDataReader()\n",
    "documents = loader.load_data(json_data)"
   ]
  },
  {
   "cell_type": "code",
   "execution_count": null,
   "metadata": {},
   "outputs": [],
   "source": [
    "def extract_triplets_from_curriculum(data):\n",
    "    triplets = []\n",
    "    print(data)\n",
    "    for item in data:\n",
    "        subject = item['subject']\n",
    "        strand = item['strand']\n",
    "        substrand = item['sub_strand']\n",
    "        grade = item['grade']\n",
    "        # Triplets for subject, strand, and substrand\n",
    "        # triplets.append((grade, 'contains_subject', subject))\n",
    "        triplets.append((subject, 'SubjectToStrand', strand))\n",
    "        triplets.append((strand, 'StrandToSubStrand', substrand))\n",
    "\n",
    "        # Processing assessment rubrics\n",
    "        for assessment in item['assessment_rubrics']:\n",
    "            indicator = assessment['indicator_name']\n",
    "            triplets.append((substrand, 'RubricsToSubStrand', indicator))\n",
    "\n",
    "            # Processing each rubric level\n",
    "            for rubric in assessment['rubrics']:\n",
    "                level = rubric['level']\n",
    "                statement = rubric['statement']\n",
    "                rubric_detail = f\"{level}: {statement}\"\n",
    "                triplets.append((indicator, 'has_rubric_level', rubric_detail))\n",
    "\n",
    "    return triplets\n"
   ]
  },
  {
   "cell_type": "code",
   "execution_count": null,
   "metadata": {},
   "outputs": [],
   "source": [
    "kg_index = KnowledgeGraphIndex.from_documents(\n",
    "    documents,\n",
    "    storage_context=storage_context,\n",
    "    max_triplets_per_chunk=10,\n",
    "    service_context=service_context,\n",
    "    space_name=space_name,\n",
    "    edge_types=edge_types,\n",
    "    rel_prop_names=rel_prop_names,\n",
    "    tags=tags,\n",
    "    tag_prop_names=tag_prop_names,\n",
    "    show_progress=True,\n",
    "    max_object_length= 100000,\n",
    "    # kg_triplet_extract_fn=extract_triplets_from_curriculum,\n",
    "    include_embeddings=True,\n",
    ")"
   ]
  },
  {
   "cell_type": "code",
   "execution_count": null,
   "metadata": {},
   "outputs": [],
   "source": [
    "from llama_index.query_engine import KnowledgeGraphQueryEngine\n",
    "\n",
    "from llama_index.storage.storage_context import StorageContext\n",
    "from llama_index.graph_stores import NebulaGraphStore\n",
    "\n",
    "query_engine = KnowledgeGraphQueryEngine(\n",
    "    storage_context=storage_context,\n",
    "    service_context=service_context,\n",
    "    llm=llm,\n",
    "    verbose=True,\n",
    ")"
   ]
  },
  {
   "cell_type": "code",
   "execution_count": null,
   "metadata": {},
   "outputs": [],
   "source": [
    "response = query_engine.query(\n",
    "    \"Share with me the substrands that depend on knowing this from the rubrics \\\"Correctly and consistently multiplies up to a 4-digit\\\"\",\n",
    ")\n",
    "display(Markdown(f\"<b>{response}</b>\"))\n"
   ]
  },
  {
   "cell_type": "code",
   "execution_count": null,
   "metadata": {},
   "outputs": [],
   "source": []
  }
 ],
 "metadata": {
  "kernelspec": {
   "display_name": ".venv",
   "language": "python",
   "name": "python3"
  },
  "language_info": {
   "codemirror_mode": {
    "name": "ipython",
    "version": 3
   },
   "file_extension": ".py",
   "mimetype": "text/x-python",
   "name": "python",
   "nbconvert_exporter": "python",
   "pygments_lexer": "ipython3",
   "version": "3.10.12"
  }
 },
 "nbformat": 4,
 "nbformat_minor": 2
}
