{
 "cells": [
  {
   "cell_type": "code",
   "execution_count": 3,
   "metadata": {},
   "outputs": [
    {
     "name": "stdout",
     "output_type": "stream",
     "text": [
      "Combined JSON saved to: /home/njui/kn_workspace/curriculum_taxonomy_extractor/data/interim/math/math/grade_1/combined_curriculum.json\n"
     ]
    }
   ],
   "source": [
    "import os\n",
    "import pandas as pd\n",
    "\n",
    "def csv_to_json_with_filename(csv_file_path, output_directory):\n",
    "    # Read CSV and convert to JSON (as a list of dicts)\n",
    "    df = pd.read_csv(csv_file_path)\n",
    "    data_dicts = df.to_dict(orient='records')\n",
    "    \n",
    "    # Include the file name in each record\n",
    "    file_name = os.path.basename(csv_file_path)\n",
    "    for record in data_dicts:\n",
    "        record['source_file'] = file_name[:-4]  # Remove '.csv' from the file name\n",
    "    \n",
    "    # Return the modified list of dictionaries\n",
    "    return data_dicts\n",
    "\n",
    "def combine_csv_to_json(input_directory, output_json_path):\n",
    "    all_curriculum_data = []\n",
    "\n",
    "    # Ensure the output directory exists\n",
    "    os.makedirs(os.path.dirname(output_json_path), exist_ok=True)\n",
    "\n",
    "    # Iterate over CSV files in the input directory\n",
    "    for csv_file in os.listdir(input_directory):\n",
    "        if csv_file.endswith('.csv'):\n",
    "            full_file_path = os.path.join(input_directory, csv_file)\n",
    "            curriculum_data = csv_to_json_with_filename(full_file_path, input_directory)\n",
    "            all_curriculum_data.extend(curriculum_data)\n",
    "    \n",
    "    # Save combined data to a JSON file\n",
    "    pd.DataFrame(all_curriculum_data).to_json(output_json_path, orient='records', indent=4)\n",
    "\n",
    "    print(f\"Combined JSON saved to: {output_json_path}\")\n",
    "\n",
    "# Example usage\n",
    "input_directory = \"/home/njui/kn_workspace/curriculum_taxonomy_extractor/data/interim/math/math/grade_1\"\n",
    "output_json_path = \"/home/njui/kn_workspace/curriculum_taxonomy_extractor/data/interim/math/math/grade_1/combined_curriculum.json\"\n",
    "combine_csv_to_json(input_directory, output_json_path)\n",
    "\n",
    "# # Specify the directory containing your CSV files\n",
    "# directory_path = \"/home/njui/kn_workspace/curriculum_taxonomy_extractor/data/interim/math/math/grade_1\"\n",
    "# combine_csv_to_json(directory_path)\n"
   ]
  },
  {
   "cell_type": "code",
   "execution_count": null,
   "metadata": {},
   "outputs": [],
   "source": []
  }
 ],
 "metadata": {
  "kernelspec": {
   "display_name": ".venv",
   "language": "python",
   "name": "python3"
  },
  "language_info": {
   "codemirror_mode": {
    "name": "ipython",
    "version": 3
   },
   "file_extension": ".py",
   "mimetype": "text/x-python",
   "name": "python",
   "nbconvert_exporter": "python",
   "pygments_lexer": "ipython3",
   "version": "3.10.12"
  }
 },
 "nbformat": 4,
 "nbformat_minor": 2
}
