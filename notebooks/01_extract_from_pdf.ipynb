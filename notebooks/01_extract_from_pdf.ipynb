{
 "cells": [
  {
   "cell_type": "code",
   "execution_count": 2,
   "metadata": {},
   "outputs": [],
   "source": [
    "# import pandas as pd\n",
    "import pdfplumber\n",
    "import re\n"
   ]
  },
  {
   "cell_type": "code",
   "execution_count": null,
   "metadata": {},
   "outputs": [],
   "source": []
  },
  {
   "cell_type": "code",
   "execution_count": 93,
   "metadata": {},
   "outputs": [],
   "source": [
    "# Function to extract strands and sub-strands with page numbers in smaller segments\n",
    "def extract_strands_sub_strands_with_page_segmented(pdf_path, start_page, end_page):\n",
    "    extracted_data = []\n",
    "    \n",
    "    with pdfplumber.open(pdf_path) as pdf:\n",
    "        for page_number in range(start_page, min(end_page, len(pdf.pages))):\n",
    "            try:\n",
    "                page = pdf.pages[page_number]\n",
    "                tables = page.extract_tables()\n",
    "                for table in tables:\n",
    "                    if \"Strand\" in table[0] and \"Sub Strand\" in table[0]:\n",
    "                        for row in table[1:]:\n",
    "                            if row[0] and row[1]:\n",
    "                                extracted_data.append({\n",
    "                                    \"page_number\": page_number + 1,\n",
    "                                    \"strand\": row[0],\n",
    "                                    \"sub_strand\": row[1]\n",
    "                                })\n",
    "            except Exception as e:\n",
    "                print(f\"Error processing page {page_number + 1}: {e}\")\n",
    "\n",
    "    return extracted_data\n",
    "\n",
    "# Example usage: Process the PDF in segments\n",
    "pdf_path = '../data/raw/GRADE 6 CURRICULUM DESIGNS- MATHEMATICS.pdf'\n",
    "# pdf_path = '../data/raw/GRADE 6 CURRICULUM DESIGNS- HOME SCIENCE.pdf'\n",
    "total_pages = 100  # Assuming the total number of pages in the PDF\n",
    "segment_size = 10  # Number of pages to process at a time\n",
    "\n",
    "all_strands_sub_strands = []\n",
    "for start_page in range(0, total_pages, segment_size):\n",
    "    extracted_data = extract_strands_sub_strands_with_page_segmented(pdf_path, start_page, start_page + segment_size)\n",
    "    all_strands_sub_strands.extend(extracted_data)\n",
    "\n",
    "\n"
   ]
  },
  {
   "cell_type": "code",
   "execution_count": 94,
   "metadata": {},
   "outputs": [
    {
     "data": {
      "text/plain": [
       "[{'page_number': 13,\n",
       "  'strand': '1.0\\nNUMBERS',\n",
       "  'sub_strand': '1.1 Whole\\nnumbers\\n(20 Lessons)'},\n",
       " {'page_number': 18,\n",
       "  'strand': '1.0\\nNUMBERS',\n",
       "  'sub_strand': '1.2\\nMultiplication\\n(6 Lessons)'},\n",
       " {'page_number': 21,\n",
       "  'strand': '1.0\\nNUMBERS',\n",
       "  'sub_strand': '1.3 Division\\n(6 Lessons)'},\n",
       " {'page_number': 24,\n",
       "  'strand': '1.0\\nNUMBERS',\n",
       "  'sub_strand': '1.4 Fractions\\n(12 Lessons)'},\n",
       " {'page_number': 29,\n",
       "  'strand': '1.0\\nNUMBERS',\n",
       "  'sub_strand': '1.5 Decimals\\n(12 Lessons)'},\n",
       " {'page_number': 34,\n",
       "  'strand': '2.0 MEA-\\nSUREMENT',\n",
       "  'sub_strand': '2.1 Length\\n(14 Lessons)'},\n",
       " {'page_number': 40,\n",
       "  'strand': '2.0 MEA-\\nSUREMENT',\n",
       "  'sub_strand': '2.2 Area\\n(6 Lessons)'},\n",
       " {'page_number': 43,\n",
       "  'strand': '2.0 MEA-\\nSUREMENT',\n",
       "  'sub_strand': '2.3 Capacity\\n(6 Lessons)'},\n",
       " {'page_number': 46,\n",
       "  'strand': '2.0 MEA-\\nSUREMENT',\n",
       "  'sub_strand': '2.4 Mass\\n(14 Lessons)'},\n",
       " {'page_number': 51,\n",
       "  'strand': '2.0 MEA-\\nSUREMENTS',\n",
       "  'sub_strand': '2.5 Time\\n(10 Lessons)'},\n",
       " {'page_number': 55,\n",
       "  'strand': '2.0 MEA-\\nSUREMENT',\n",
       "  'sub_strand': '2.6 Money\\n(8 lessons)'},\n",
       " {'page_number': 58,\n",
       "  'strand': '3.0\\nGEOMETRY',\n",
       "  'sub_strand': '3.1 Lines\\n(6 Lessons)'},\n",
       " {'page_number': 61,\n",
       "  'strand': '3.0\\nGEOMETRY',\n",
       "  'sub_strand': '3.2 Angles\\n(6 Lessons)'},\n",
       " {'page_number': 64,\n",
       "  'strand': '3.0\\nGEOMETRY',\n",
       "  'sub_strand': '3.3 3-D\\nObjects\\n(6 Lessons)'},\n",
       " {'page_number': 66,\n",
       "  'strand': '4.0 DATA\\nHANDLING',\n",
       "  'sub_strand': '4.1 Bar\\nGraphs\\n(10 Lessons)'},\n",
       " {'page_number': 69,\n",
       "  'strand': '5.0 ALGEBRA',\n",
       "  'sub_strand': '5.1\\nInequalities\\n(8 Lessons)'},\n",
       " {'page_number': 71, 'strand': 'NUMBERS', 'sub_strand': 'Whole numbers'},\n",
       " {'page_number': 71, 'strand': 'MEASUREMENT', 'sub_strand': 'Length'},\n",
       " {'page_number': 71, 'strand': 'GEOMETRY', 'sub_strand': 'Lines'},\n",
       " {'page_number': 71, 'strand': 'DATA HANDLING', 'sub_strand': 'Bar graphs'}]"
      ]
     },
     "execution_count": 94,
     "metadata": {},
     "output_type": "execute_result"
    }
   ],
   "source": [
    "all_strands_sub_strands"
   ]
  },
  {
   "cell_type": "code",
   "execution_count": 92,
   "metadata": {},
   "outputs": [
    {
     "name": "stdout",
     "output_type": "stream",
     "text": [
      "Error processing page 31: sequence item 1: expected str instance, NoneType found\n",
      "Error processing page 44: sequence item 1: expected str instance, NoneType found\n",
      "Error processing page 67: sequence item 1: expected str instance, NoneType found\n",
      "[{'page_number': 13, 'strand': '1.0\\nNUMBERS', 'sub_strand': '1.1 Whole\\nnumbers\\n(20 Lessons)', 'rubric_start_page': 15}, {'page_number': 18, 'strand': '1.0\\nNUMBERS', 'sub_strand': '1.2\\nMultiplication\\n(6 Lessons)', 'rubric_start_page': 20}, {'page_number': 21, 'strand': '1.0\\nNUMBERS', 'sub_strand': '1.3 Division\\n(6 Lessons)', 'rubric_start_page': 23}, {'page_number': 24, 'strand': '1.0\\nNUMBERS', 'sub_strand': '1.4 Fractions\\n(12 Lessons)', 'rubric_start_page': 27}, {'page_number': 29, 'strand': '1.0\\nNUMBERS', 'sub_strand': '1.5 Decimals\\n(12 Lessons)', 'rubric_start_page': None}, {'page_number': 34, 'strand': '2.0 MEA-\\nSUREMENT', 'sub_strand': '2.1 Length\\n(14 Lessons)', 'rubric_start_page': 37}, {'page_number': 40, 'strand': '2.0 MEA-\\nSUREMENT', 'sub_strand': '2.2 Area\\n(6 Lessons)', 'rubric_start_page': None}, {'page_number': 43, 'strand': '2.0 MEA-\\nSUREMENT', 'sub_strand': '2.3 Capacity\\n(6 Lessons)', 'rubric_start_page': None}, {'page_number': 46, 'strand': '2.0 MEA-\\nSUREMENT', 'sub_strand': '2.4 Mass\\n(14 Lessons)', 'rubric_start_page': 48}, {'page_number': 51, 'strand': '2.0 MEA-\\nSUREMENTS', 'sub_strand': '2.5 Time\\n(10 Lessons)', 'rubric_start_page': 53}, {'page_number': 55, 'strand': '2.0 MEA-\\nSUREMENT', 'sub_strand': '2.6 Money\\n(8 lessons)', 'rubric_start_page': 57}, {'page_number': 58, 'strand': '3.0\\nGEOMETRY', 'sub_strand': '3.1 Lines\\n(6 Lessons)', 'rubric_start_page': 59}, {'page_number': 61, 'strand': '3.0\\nGEOMETRY', 'sub_strand': '3.2 Angles\\n(6 Lessons)', 'rubric_start_page': 62}, {'page_number': 64, 'strand': '3.0\\nGEOMETRY', 'sub_strand': '3.3 3-D\\nObjects\\n(6 Lessons)', 'rubric_start_page': 65}, {'page_number': 66, 'strand': '4.0 DATA\\nHANDLING', 'sub_strand': '4.1 Bar\\nGraphs\\n(10 Lessons)', 'rubric_start_page': None}, {'page_number': 69, 'strand': '5.0 ALGEBRA', 'sub_strand': '5.1\\nInequalities\\n(8 Lessons)', 'rubric_start_page': 70}, {'page_number': 71, 'strand': 'NUMBERS', 'sub_strand': 'Whole numbers', 'rubric_start_page': None}, {'page_number': 71, 'strand': 'MEASUREMENT', 'sub_strand': 'Length', 'rubric_start_page': None}, {'page_number': 71, 'strand': 'GEOMETRY', 'sub_strand': 'Lines', 'rubric_start_page': None}, {'page_number': 71, 'strand': 'DATA HANDLING', 'sub_strand': 'Bar graphs', 'rubric_start_page': None}]\n"
     ]
    }
   ],
   "source": [
    "## Page extraction with rubric page [NOT WORKING]\n",
    "def extract_strands_sub_strands_with_page_segmented(pdf_path, start_page, end_page):\n",
    "    extracted_data = []\n",
    "    rubric_headers = [\"Indicators\", \"Exceeds Expectations\", \"Meets Expectations\", \"Approaches Expectations\", \"Below Expectations\"]\n",
    "    \n",
    "    with pdfplumber.open(pdf_path) as pdf:\n",
    "        for page_number in range(start_page, min(end_page, len(pdf.pages))):\n",
    "            try:\n",
    "                page = pdf.pages[page_number]\n",
    "                tables = page.extract_tables()\n",
    "                for table in tables:\n",
    "                    # Check if the table is for Strand and Sub Strand\n",
    "                    if \"Strand\" in ' '.join(table[0]) and \"Sub Strand\" in ' '.join(table[0]):\n",
    "                        for row in table[1:]:\n",
    "                            if row[0] and row[1]:\n",
    "                                strand_data = {\n",
    "                                    \"page_number\": page_number + 1,\n",
    "                                    \"strand\": row[0],\n",
    "                                    \"sub_strand\": row[1],\n",
    "                                    \"rubric_start_page\": None  # Default value\n",
    "                                }\n",
    "                                extracted_data.append(strand_data)\n",
    "\n",
    "                    # Check each cell in the first row for rubric headers\n",
    "                    for cell in table[0]:\n",
    "                        if any(header in cell for header in rubric_headers):\n",
    "                            if extracted_data:\n",
    "                                extracted_data[-1][\"rubric_start_page\"] = page_number + 1\n",
    "                                break\n",
    "            except Exception as e:\n",
    "                print(f\"Error processing page {page_number + 1}: {e}\")\n",
    "\n",
    "    return extracted_data\n",
    "\n",
    "# Example usage: Process the PDF in segments\n",
    "pdf_path = '../data/raw/GRADE 6 CURRICULUM DESIGNS- MATHEMATICS.pdf'\n",
    "total_pages = 100  # Assuming the total number of pages in the PDF\n",
    "segment_size = 10  # Number of pages to process at a time\n",
    "\n",
    "all_strands_sub_strands = []\n",
    "for start_page in range(0, total_pages, segment_size):\n",
    "    extracted_data = extract_strands_sub_strands_with_page_segmented(pdf_path, start_page, start_page + segment_size)\n",
    "    all_strands_sub_strands.extend(extracted_data)\n",
    "\n",
    "# Displaying a portion of the extracted data for review\n",
    "print(all_strands_sub_strands)  # Displaying the first 5 entries for brevity\n"
   ]
  },
  {
   "cell_type": "code",
   "execution_count": 13,
   "metadata": {},
   "outputs": [
    {
     "name": "stdout",
     "output_type": "stream",
     "text": [
      "[{'page_number': 15, 'strand': '1.0 Healthy\\nLiving', 'sub_strand': '1.1\\nAdolescence\\n(13-19\\nyears)\\n(3 lessons)'}, {'page_number': 20, 'strand': '1.0 Healthy\\nLiving', 'sub_strand': '1.2 Accessories\\nand cosmetics\\n(3 lessons)'}, {'page_number': 23, 'strand': '1.0 Healthy\\nLiving', 'sub_strand': '1.4 Non-\\nCommunicable\\nDiseases and\\ndisorders\\n(8 lessons)'}, {'page_number': 28, 'strand': '2.0 Consumer\\nEducation', 'sub_strand': '2.1\\nBudgeting\\n(3 lessons)'}, {'page_number': 31, 'strand': '3.0 Foodsa\\nand Nutrition', 'sub_strand': '3.1 Food\\nNutrients\\nMinerals\\n(iodine and\\niron)\\n(3 lessons)'}, {'page_number': 35, 'strand': '3.0 Foods\\nand Nutrition', 'sub_strand': '3.2 Nutritional\\ndeficiencies\\nand disorders\\n(6 lessons)'}, {'page_number': 39, 'strand': '3.0 Foods\\nand Nutrition', 'sub_strand': '3.3\\nPreservation\\nand storage of\\nMeat\\n(6 lessons)'}, {'page_number': 43, 'strand': '3.0 Foods\\nand\\nNutrition', 'sub_strand': '3.4\\nPreservation\\nof Fruits and\\nVegetables\\n(4 lessons)'}, {'page_number': 48, 'strand': '3.0 Foods and\\nNutrition', 'sub_strand': '3.5\\nCooking\\nEquipment\\n(4 lessons)'}, {'page_number': 51, 'strand': '3.0 Foods and\\nNutrition', 'sub_strand': '3.6 Planning\\nmeals for a\\nfamily\\n(4 lessons)'}, {'page_number': 55, 'strand': '3.0 Foods\\nand\\nNutrition', 'sub_strand': '1.7\\nStewing\\n(6 lessons)'}, {'page_number': 59, 'strand': '3.0 Foods and\\nNutrition', 'sub_strand': '3.8 Baking\\n(Rubbed-in\\nmethod)\\n(6 lessons)'}, {'page_number': 63, 'strand': '4.0 Clothing', 'sub_strand': '4.1 Tools\\nand\\nequipment\\n(3 lessons)'}, {'page_number': 67, 'strand': '4.0 CLOTHING', 'sub_strand': '4.2 Fabric\\nconstruction\\n4.2.1\\nWeaving\\n(6 lessons)'}, {'page_number': 71, 'strand': '4.0 CLOTHING', 'sub_strand': '4.2.2\\nKnitting\\n(6 lessons)'}, {'page_number': 75, 'strand': '4.0 CLOTHING', 'sub_strand': '4.1.3\\nCrocheting\\n(6 lessons)'}, {'page_number': 79, 'strand': '4.0 Clothing', 'sub_strand': '1.3 Repair and\\nmaintenance\\nof Pockets\\n(6 lessons)'}, {'page_number': 82, 'strand': '5.0 Laundry\\nWork', 'sub_strand': '5.1 Special\\ntreatment\\nin laundry\\nwork\\n(7 lessons)'}, {'page_number': 87, 'strand': '5.0 Laundry\\nWork', 'sub_strand': '5.2 A woollen\\nor acrylic\\narticle\\n(3 lessons)'}, {'page_number': 91, 'strand': '5.0 Laundry\\nWork', 'sub_strand': '5.3\\nLaundering a\\nloose coloured\\nitem\\n(3 lessons)'}, {'page_number': 95, 'strand': '1.0', 'sub_strand': 'HEALTHY LIVING'}, {'page_number': 95, 'strand': '2.0', 'sub_strand': 'FOODS AND\\nNUTRITION'}]\n"
     ]
    }
   ],
   "source": [
    "# Displaying a portion of the extracted data\n",
    "print(all_strands_sub_strands)  # Displaying the first 5 entries\n"
   ]
  },
  {
   "cell_type": "code",
   "execution_count": 82,
   "metadata": {},
   "outputs": [],
   "source": [
    "## NOT WORKING\n",
    "# def is_rubric_table(table):\n",
    "#     headers = [\"Indicators\", \"Exceeds Expectations\", \"Meets Expectations\", \"Approaches Expectations\", \"Below Expectations\"]\n",
    "#     return any(header in ' '.join(table[0]) for header in headers)\n",
    "\n",
    "# def extract_rubric_data(table):\n",
    "#     rubrics = []\n",
    "#     for row in table[1:]:\n",
    "#         indicator_name = row[0].replace('\\n', ' ').strip()\n",
    "#         rubric_entries = [\n",
    "#             {\"level\": \"Exceeds Expectations\", \"statement\": row[1].replace('\\n', ' ').strip()},\n",
    "#             {\"level\": \"Meets Expectations\", \"statement\": row[2].replace('\\n', ' ').strip()},\n",
    "#             {\"level\": \"Approaches Expectations\", \"statement\": row[3].replace('\\n', ' ').strip()},\n",
    "#             {\"level\": \"Below Expectations\", \"statement\": row[4].replace('\\n', ' ').strip()}\n",
    "#         ]\n",
    "#         rubrics.append({\"indicator_name\": indicator_name, \"rubrics\": rubric_entries})\n",
    "#     return rubrics\n"
   ]
  },
  {
   "cell_type": "code",
   "execution_count": 98,
   "metadata": {},
   "outputs": [],
   "source": [
    "## WORKING\n",
    "complete_data = None\n",
    "def extract_additional_info(pdf_path, all_strands_sub_strands):\n",
    "    with pdfplumber.open(pdf_path) as pdf:\n",
    "        for index, strand_info in enumerate(all_strands_sub_strands):\n",
    "            start_page = strand_info[\"page_number\"]\n",
    "            end_page = all_strands_sub_strands[index + 1][\"page_number\"] if index + 1 < len(all_strands_sub_strands) else len(pdf.pages) + 1\n",
    "            outcomes, experiences, questions = [], [], []\n",
    "            values, community_service, pcis, links_to_subjects, additional_community_service = [], [], [], [], []\n",
    "            skip_remaining_tables = False  # Flag to skip remaining tables once \"Indicators\" is found\n",
    "\n",
    "            for page_number in range(start_page, end_page):\n",
    "                if skip_remaining_tables:\n",
    "                    break  # Move to the next strand_info if \"Indicators\" was found in previous tables\n",
    "\n",
    "                page = pdf.pages[page_number - 1]\n",
    "                tables = page.extract_tables()\n",
    "\n",
    "                for table in tables:\n",
    "                    for row in table:\n",
    "                        row_text = ' '.join(filter(None, row))  # Combine all non-empty cells in the row\n",
    "\n",
    "                        if \"Indicators\" in row_text:\n",
    "                            skip_remaining_tables = True\n",
    "                            break  # Skip to the next strand_info\n",
    "                        for cell in row:\n",
    "                            if cell:\n",
    "                                if \"Values:\" in cell:\n",
    "                                    values.append(cell.split(\"Values:\")[1].strip())\n",
    "                                elif \"Suggested Community Service Learning Activities:\" in cell:\n",
    "                                    community_service.append(cell.split(\"Suggested Community Service Learning Activities:\")[1].strip())\n",
    "                                elif \"PCIs:\" in cell:\n",
    "                                    pcis.append(cell.split(\"PCIs:\")[1].strip())\n",
    "                                elif \"Links to other subjects:\" in cell:\n",
    "                                    links_to_subjects.append(cell.split(\"Links to other subjects:\")[1].strip())\n",
    "                                elif \"Suggested Community Service Learning Activities:\" in cell:\n",
    "                                    additional_community_service.append(cell.split(\"Suggested Community Service Learning Activities:\")[1].strip())\n",
    "\n",
    "                        # Extract other standard information if the row has 5 columns\n",
    "                        if len(row) >= 5:\n",
    "                            outcomes.append(row[2].replace('\\n', ' ').strip() if row[2] else '')\n",
    "                            experiences.append(row[3].replace('\\n', ' ').strip() if row[3] else '')\n",
    "                            questions.append(row[4].replace('\\n', ' ').strip() if row[4] else '')\n",
    "\n",
    "            # Add the collected data to the strand_info\n",
    "            strand_info.update({\n",
    "                \"specific_learning_outcomes\": outcomes,\n",
    "                \"suggested_learning_experiences\": experiences,\n",
    "                \"key_inquiry_questions\": questions,\n",
    "                \"values\": values,\n",
    "                \"community_service_activities\": community_service,\n",
    "                \"pcis\": pcis,\n",
    "                \"links_to_other_subjects\": links_to_subjects,\n",
    "                \"additional_community_service_activities\": additional_community_service\n",
    "            })\n",
    "\n",
    "    return all_strands_sub_strands\n",
    "\n",
    "# Extract and add additional information to the strands and sub_strands data\n",
    "complete_data = extract_additional_info(pdf_path, all_strands_sub_strands)\n"
   ]
  },
  {
   "cell_type": "code",
   "execution_count": 99,
   "metadata": {},
   "outputs": [
    {
     "name": "stdout",
     "output_type": "stream",
     "text": [
      "[{'page_number': 13, 'strand': '1.0\\nNUMBERS', 'sub_strand': '1.1 Whole\\nnumbers\\n(20 Lessons)', 'specific_learning_outcomes': ['Specific Learning Outcomes', 'By the end of the Sub Strand, the learner should be able to; a) Use place value and total value of digits up to millions in real life, b) Use numbers up to millions in symbols in real life, c) Read, write and relate numbers up to 100,000 in words in real life, d) Order numbers up to 100,000 in real life situations, e) round off numbers up to 100,000 to the nearest thousand in different situations, f) Apply squares of whole numbers up to 100 in different situations,', 'g) Apply square roots of perfect squares up to 10,000 in different situations, h) Use it devices for learning more on whole numbers and for enjoyment, i) appreciate use of whole numbers in real life situations.', ''], 'suggested_learning_experiences': ['Suggested Learning Experiences', '• Learners in pairs/groups or as individuals to identify place value of digits up to millions using place value apparatus. • Learners in pairs/groups or as individuals to identify total value of digits up to millions using place value apparatus. • Learners in pairs/groups or as individuals to read numbers up to hundreds of thousands millions in symbols from number charts/ cards. • Learners in pairs/groups or as individuals to form different numbers by rearranging digits of a given number.', '• Learners in pairs/groups thousand from number cards and share with other groups. • Learners in pairs/groups or as individuals to multiply a given number by itself and identify the answer as the square of the number. • Learners in pairs/groups or as individuals to identify the square root of a given number as a value which when multiplied by itself results in the given number. • Learners in pairs/groups or as individuals to play digital games involving whole numbers.', ''], 'key_inquiry_questions': ['Key Inquiry Questions', '1. How can you work out squares of numbers? 2. How can you work out square roots of numbers? 3. Where are squares and square roots used in real life?', '', ''], 'values': ['Respect for self and others as learners\\nwork in pairs/groups. Unity as learners work\\ntowards achieving set goals. Social cohesion\\nas learners work in groups irrespective of\\nbackgrounds.'], 'community_service_activities': [], 'pcis': ['Environmental education as learners establish the\\nnumber of seedlings in seedbeds. Career guidance in banking,\\nsales and purchasing.'], 'links_to_other_subjects': ['Language as they read and write\\nnumbers in words.'], 'additional_community_service_activities': []}, {'page_number': 18, 'strand': '1.0\\nNUMBERS', 'sub_strand': '1.2\\nMultiplication\\n(6 Lessons)', 'specific_learning_outcomes': ['Specific Learning Outcomes', 'By the end of the Sub Strand, the learner should be able to; a) Multiply up to a 4-digit number by a 2-digit number in real life situations, b) Estimate products by rounding off numbers being multiplied to the nearest ten in real life situations, c) Make patterns involving multiplication of numbers not exceeding 10,000 in different situations, d) Use it devices for learning more on multiplication and for enjoyment, e) Appreciate use of multiplication in real life.', '', '', '', ''], 'suggested_learning_experiences': ['Suggested Learning Experiences', '• Learners in pairs/groups or as individuals to multiply up to a 4-digit number by a 2-digit number using; - fact families - skip counting - multiplication chart - expanded form - IT devices. • Learners in pairs/groups or as individuals to estimate products using; - rounding off factors - compatibility of numbers - own strategies. • Learners in pairs/groups or as individuals to make patterns involving multiplication with products not exceeding 10,000 using number cards.', '• Learners in pairs/groups or as individuals to play digital games involving multiplication.', '', 'Values: Responsibility; as learners commit to working out answers of given tasks. Respect for self and others; as learners work in pairs/groups.', 'Suggested Community Service Learning Activities: Learners may assist in estimating the amount of animal feed/harvest/food for a meal. Learners may volunteer to assist in family/ communal business activities during stock taking.'], 'key_inquiry_questions': ['Key Inquiry Questions', '1. Where is multiplication used in real life situa- tions? 2. How can you estimate prod- ucts of num- bers? 3. How can you form patterns involving multiplica- tion?', '', '', '', ''], 'values': ['Responsibility; as learners commit to\\nworking out answers of given tasks. Respect for\\nself and others; as learners work in pairs/groups.'], 'community_service_activities': [], 'pcis': ['Self-esteem; as learners devise personal strategies to\\nestimate products in multiplication.\\nEducation for Sustainable Development; career as\\nstatisticians, bankers, researchers and in business.'], 'links_to_other_subjects': ['Languages as learners use\\nmathematical terms.\\nPHE; as learners skip count numbers when playing.\\nAgriculture; as learners estimate harvests, seeds or fertilizer\\nrequired for sowing or application.'], 'additional_community_service_activities': []}, {'page_number': 21, 'strand': '1.0\\nNUMBERS', 'sub_strand': '1.3 Division\\n(6 Lessons)', 'specific_learning_outcomes': ['Specific Learning Outcomes', 'By the end of the Sub Strand the learner should be able to; a) Divide up to a 4-digit number by up to a 3-digit number where the dividend is greater than the divisor in real life situations, b) Estimate quotients by rounding off the dividend and divisor to the nearest ten in real life situations, c) Perform combined operations involving addition, subtraction, multiplication and division in different situations, d) Use it devices for learning more on division of whole', 'numbers and for enjoyment e) appreciate use of division of whole numbers in real life.', '', '', ''], 'suggested_learning_experiences': ['Suggested Learning Experiences', '• Learners in pairs/groups or as individuals to divide up to a 4-digit number by up to a 3-digit number where the dividend is greater than the divisor using; - relationship between multiplication and division - long method. • Learners in pairs/groups or as individuals work out quotients by rounding the dividend and divisor to the nearest ten. • Work out questions involving two, three or four operations. • Learners play digital games involving division.', '', '', 'Values: Respect as learners analyse and accept each other’s quotient estimates. Honesty as learners fairly and accurately divide or share items during learning and daily life.', 'Suggested Community Service Learning Activities: Learners may help to fairly distribute food and other items during community events e.g. funerals, public rally or baraza.'], 'key_inquiry_questions': ['Key Inquiry Questions', '1. How can you estimate quotients? 2. Where is division used in real life? 3. How can you work out questions involving combined operations?', '', '', '', ''], 'values': ['Respect as learners analyse and accept\\neach other’s quotient estimates. Honesty as\\nlearners fairly and accurately divide or share\\nitems during learning and daily life.'], 'community_service_activities': [], 'pcis': ['Animal welfare as learners practise fair sharing during\\nanimal feeding chores.'], 'links_to_other_subjects': ['Languages as learners use\\nmathematical language in discussions.'], 'additional_community_service_activities': []}, {'page_number': 24, 'strand': '1.0\\nNUMBERS', 'sub_strand': '1.4 Fractions\\n(12 Lessons)', 'specific_learning_outcomes': ['Specific Learning Outcomes', 'By the end of the Sub Strand, the learner should be able to; a) Identify LCM of given numbers in different situations, b) Add fractions using LCM in different situations, c) Subtract fractions using LCM in different situations, d) Add mixed numbers in different situations, e) Subtract mixed numbers in different situations, f) Identify reciprocal of fractions for use in different situations, g) Work out squares of fractions in different situations,', 'h) Convert fractions to equivalent fractions with denominator 100 in different situations, i) Identify percentage as a fraction for use in different situations, j) Convert fractions to percentages in different situations, k) Convert percentages to fractions in different situations, l) use IT devices for learning more on fractions, m) appreciate use of fractions in real life.', '', '', '', ''], 'suggested_learning_experiences': ['Suggested Learning Experiences', '• Learners in pairs / groups or as individuals to identify LCM of numbers given from number cards. • Learners in pairs/groups to add and subtract fractions using LCM by listing multiples. • Learners in pairs/groups or as individuals to add and subtract mixed fractions by converting the fractions to improper fractions. • Learners in pairs/groups or as individuals to add and subtract mixed fractions by adding and subtracting whole number and fraction parts separately.', '• Learners in pairs/groups or as individuals to multiply fractions by whole numbers to get one. • Learners in pairs/groups or as individuals to discuss the results and identify the reciprocal of a fraction. • Learners in pairs/groups or as individuals to work out squares of fractions through multiplication practically. • Learners in pairs/ groups or as individuals to convert fractions to equivalent fractions with denominator 100 through multiplication. • Learners in pairs/groups or as individuals to identify a percentage as a fraction with denominator 100', '• Learners in pairs/ groups to discuss real life situations where percentages are used. • Learners in pairs/ groups or as individuals to convert fractions to percentages and percentages to fractions. • Learners to play digital games involving fractions.', '', 'Values: Unity as learners support each other in class when working out given questions. Love as learners share items with others and assist their loved ones.', 'Suggested Community Service Learning Activities: Learners help family/peers/ community members in sharing items in fractional parts.'], 'key_inquiry_questions': ['Key Inquiry Questions', '1. Where are squares and fractions used in real life? 2. Where are percentages used in our day to day lives?', '', '', '', '', ''], 'values': ['Unity as learners support each other in\\nclass when working out given questions. Love as\\nlearners share items with others and assist their\\nloved ones.'], 'community_service_activities': [], 'pcis': ['Life skills as learners relate fractions and percentages to\\nreal life. Social cohesion as learners share items at home and\\noutside school.'], 'links_to_other_subjects': ['Languages as learners acquire new\\nmathematical terms.'], 'additional_community_service_activities': []}, {'page_number': 29, 'strand': '1.0\\nNUMBERS', 'sub_strand': '1.5 Decimals\\n(12 Lessons)', 'specific_learning_outcomes': ['Specific Learning Outcomes', 'By the end of the Sub Strand, the learner should be able to; a) Identify decimals up to ten thousandths in different situations, b) round off decimals in different situations, c) Convert decimals to fractions in different situations, d) Convert fractions to decimals in different situations, e) Convert decimals to percentages in different situations, f) Convert percentages to decimals in different situations, g) add decimals up to 4-decimal places in different situations,', 'h) subtract decimals up to 4-decimal places in different situations, i) Use it devices for more learning on decimals and leisure, j) Appreciate use of decimals in real life situations.'], 'suggested_learning_experiences': ['Suggested Learning Experiences', '• Learners in pairs/groups or as individuals to identify place value of decimals up to ten thousandths using place value apparatus. • Learners in pairs/groups or as individuals to relate place value of decimals up to ten thousandths to number of decimal places. • Learners in pairs/groups or as individuals to round off decimals to a given number of decimal places. • Learners in pairs/ groups or as individuals to convert decimals to fractions using a square/ rectangular grid.', '• Learners in pairs/ groups or as individuals to convert fractions to decimals using a square/ rectangular grid. • Learners in pairs/ groups or as individuals to convert decimals to percentages and percentages to decimals. • Learners in pairs/groups or as individuals to add decimals up to 4-decimal places using place value apparatus. • Learners in pairs/groups or as individuals to subtract decimals up to 4- decimal places using place value apparatus. • Learners in pairs/groups or as individuals to play digital games involving decimals.'], 'key_inquiry_questions': ['Key Inquiry Questions', 'Where are decimals applicable in real life?', ''], 'values': ['Responsibility as learners take up\\ntheir roles in group tasks. Integrity as learners\\npractise fair play and honesty in measuring and\\nrecording their masses while making frequency\\ntables.'], 'community_service_activities': [], 'pcis': ['Life skills as learners work out word questions involving\\ndecimals in real life situations. Education for Sustainable\\nDevelopment: Careers in engineering, and surveying where\\ndecimals are used to ensure precision of values.'], 'links_to_other_subjects': ['Languages as learners acquire new\\nmathematical terms. Home Science as learners measure mass\\nof ingredients in decimals.'], 'additional_community_service_activities': []}, {'page_number': 34, 'strand': '2.0 MEA-\\nSUREMENT', 'sub_strand': '2.1 Length\\n(14 Lessons)', 'specific_learning_outcomes': ['Specific Learning Outcomes', 'By the end of the Sub Strand, the learner should be able to; a) Use the millimetre (mm) as a unit of measuring length in different situations, b) Establish the relationship between the millimetre and centimetre in different situations, c) Convert centimetres to millimetres in different situations, d) Convert millimetres to centimetres in different situations, e) add centimetres and millimetres in different situations, f) Subtract centimetres and millimetres in different situations,', 'g) Multiply centimetres and millimetres by whole numbers in real life situations, h) Divide centimetres and millimetres by whole numbers in real life situations, i) Measure the circumference of a circle practically, j) Identify the relationship between circumference and diameter in different situations, k) Use it devices for learning more on length and for enjoyment, l) Appreciate use of length in real life situations.', '', '', '', ''], 'suggested_learning_experiences': ['Suggested Learning Experiences', '• Learners in pairs/groups or as individuals to identify the millimetre as a unit of measuring length using a ruler. • Learners in pairs/ groups or as individuals to measure length in millimetres using a ruler. • Leaners in pairs/groups or as individuals to measure a given length in cm and mm to establish the relationship between mm and cm. • Learners in pairs/ groups or as individuals to convert mm to cm and cm to mm when measuring lengths of different objects.', '• Learners to choose appropriate units to measure lengths of different objects. • Learners in pairs/ groups or as individuals determine lengths in mm and cm in addition, subtraction, multiplication and division. • Learners in pairs/groups or as individuals to work out the circumference, diameter and radius of a circle practically. • Learners in pairs/ groups or as individuals to measure the circumference of a circle practically. • Learners in pairs/groups or as individuals to divide circumference by diameter to get pi (π).', '• Leaners in pairs/groups or as individuals to play digital games involving length in mm and cm.', '', 'Values: Respect as learners appreciate each other’s contribution in pairs/group discussion. Unity as learners work in teams.', 'Suggested Community Service Learning Activities:Learners assist family members and/or community in estimating and measuring different lengths.'], 'key_inquiry_questions': ['Key Inquiry Questions', '1. Why do we measure distances in day to day life? 2. What do we use to measure length in real life?', '', '', '', '', ''], 'values': ['Respect as learners appreciate each\\nother’s contribution in pairs/group discussion.\\nUnity as learners work in teams.'], 'community_service_activities': [], 'pcis': ['Life skills as learners relate estimation and measuring\\nlength to budgeting and actual expenditure in real life\\nsituations. Environmental education as learners’ measure\\nlength of different objects in the school compound. Education\\nfor Sustainable Development: Career in sports (athletics),\\ncivil engineering, tailoring.'], 'links_to_other_subjects': ['Languages as learners use new terms\\nin measurement of length. Hygiene and Nutrition as learners\\nhandle objects with care when measuring lengths of different\\nobjects in the school compound. PHE as learners measure\\nlengths of different field events and track events in the school\\nfield.'], 'additional_community_service_activities': []}, {'page_number': 40, 'strand': '2.0 MEA-\\nSUREMENT', 'sub_strand': '2.2 Area\\n(6 Lessons)', 'specific_learning_outcomes': ['Specific Learning Outcomes', 'By the end of the Sub Strand, the learner should be able to; a) Work out area of triangles in square centimetres (cm2) in different situations, b) Work out area of combined shapes involving squares, rectangles and triangles in cm2 in different situations, c) Use IT devices for learning more on area and for enjoyment, d) Appreciate the use of cm2 in working out area in real life', '', '', '', ''], 'suggested_learning_experiences': ['Suggested Learning Experiences', '• Learners in pairs/groups or as individuals are guided to establish that the area of a triangle is equal to a half of the area of a rectangle or a square when the rectangle or the square is divided by a diagonal. • Learners in pairs/groups work out the area of triangles in cm2 using the relationship between a rectangle and a triangle (Area of a triangle is equal to ½ area of a rectangle or square. A = ½ (Lx W). • Learners in pairs/groups or as individuals to come up with own combined shapes involving rectangles squares,', '• triangles and ask other groups/pairs to determine the area. • Learners in pairs/groups to play digital games involving area.', '', 'Values:Unity as each group tries to work out other group questions. Respect for rules and laws as learners adhere to given rules of calculating and converting area.', 'Suggested Community Service Learning Activities: Learners to assist family and/or community members on how to work out area of rooms in their house.'], 'key_inquiry_questions': ['Key Inquiry Questions', 'Where is area used in real life?', '', '', '', ''], 'values': ['Unity as each group tries to work out\\nother group questions.\\nRespect for rules and laws as learners adhere to\\ngiven rules of calculating and converting area.'], 'community_service_activities': [], 'pcis': ['Self-esteem as learners come up with own combined\\nshapes involving rectangles, squares and triangles.'], 'links_to_other_subjects': ['Language as learners come to terms\\nwith new words. Social Studies as learners explore their\\nenvironment to calculate area of fields.'], 'additional_community_service_activities': []}, {'page_number': 43, 'strand': '2.0 MEA-\\nSUREMENT', 'sub_strand': '2.3 Capacity\\n(6 Lessons)', 'specific_learning_outcomes': ['Specific Learning Outcomes', 'By the end of the Sub Strand, the learner should be able to; a) Identify the relationship among cubic centimetres (cm3), mililitres and litres in real life, b) Convert litres to mililitres in different situations, c) Convert capacity in millilitres to litres in different situations, d) Use it devices for more learning on capacity and for enjoyment, e) Appreciate use of cm3 and litres in measuring capacity in real life.'], 'suggested_learning_experiences': ['Suggested Learning Experiences', '• Learners in pairs/ groupsor as individuals to identify the relationship between cm3, mililitres and litres through measuring practically. • Learners in pairs/groups or as individuals to measure capacity in millilitres and litres. • Learners in pairs/groups or as individuals to convert capacity in litres to millilitres. • Learners in pairs/ groups or as individuals to convert capacity in millilitres to litres. • Learners in pairs/groups or as individuals to play digital games involving capacity.'], 'key_inquiry_questions': ['Key Inquiry Questions', '1. How can we measure capacity? 2. Where is capacity applicable in real life?'], 'values': ['Responsibility as learners take their\\nroles in turns to lead the groups. Unity as learners\\nmeasure capacity in groups.'], 'community_service_activities': [], 'pcis': ['Environmental education as learners conserve water\\nwhile measuring capacity of containers using water.'], 'links_to_other_subjects': ['Science and Technology as learners\\ntake accurate measurements of liquids'], 'additional_community_service_activities': []}, {'page_number': 46, 'strand': '2.0 MEA-\\nSUREMENT', 'sub_strand': '2.4 Mass\\n(14 Lessons)', 'specific_learning_outcomes': ['Specific Learning Outcomes', 'By the end of the Sub Strand, the learner should be able to; a) Identify the tonne as a unit for measuring mass in real life, b) Identify items measured in tonnes in real life, c) Identify the relationship between the kilogram and the tonne practically, d) Estimate mass in tonnes in different situations, e) Convert kilograms to tonnes and tonnes to kilograms in real life situations, f) Add tonnes and kilograms in real life situations,', 'g) subtract tonnes and kilograms in real life situations, h) multiply tonnes and kilograms by whole numbers in real life situations, i) Divide tonnes and kilograms by whole numbers in real life situations, j) Use it devices for learning more on mass and for enjoyment, k) Appreciate use of the kilogram and tonne in measuring mass.', '', ''], 'suggested_learning_experiences': ['Suggested Learning Experiences', '• Learners in pairs/ groups/ or as individuals are guided to identify the tonne as a unit of measuring mass though discussions. • Learners in pairs/groups/ or as individuals to discuss items whose mass may be measured in tonnes • Leaners in pairs/groups or as individuals to identify the relationship between the kilogram and the tonne (1000kg = 1 tonne). • Learners in pairs estimate mass of objects in tonnes. • Learners in pairs/groups or as individuals to convert kilograms to', '• tonnes and tonnes to kilograms in real life situations. • Learners in pairs/groups or as individuals to determine mass of items in tonnes and kilograms using different operations in real life situations. • Learners in pairs/groups/ individuals to play digital games involving mass.', '', 'Values: Integrity as learners purpose to use suitable measures. Honesty as learners appreciate fairness in measuring items in daily life.'], 'key_inquiry_questions': ['Key Inquiry Questions', '1. How can we measure large amounts of mass? 2. In what situations would the tonne be more applicable to use when measuring mass?', '', '', ''], 'values': ['Integrity as learners purpose to use\\nsuitable measures. Honesty as learners appreciate\\nfairness in measuring items in daily life.'], 'community_service_activities': [], 'pcis': ['Animal welfare education as learners talk about animal\\nfeeds in relation to mass of animals.\\nEnvironmental education as learners explore various objects\\nin their environment to appreciate the tonne as a unit for\\nmeasuring mass of heavy objects.'], 'links_to_other_subjects': ['Languages as learners acquire new\\nterms such as tonnes'], 'additional_community_service_activities': []}, {'page_number': 51, 'strand': '2.0 MEA-\\nSUREMENTS', 'sub_strand': '2.5 Time\\n(10 Lessons)', 'specific_learning_outcomes': ['Specific Learning Outcomes', 'By the end of the sub- strand, the learner should be able to; a) Identify time in a.m. And p.m. In day to day life experiences, b) Write time in a.m. And p.m. In day to day life experiences, c) Relate time in a.m. And p.m. To the 24h clock system, d) Convert time from 12h to 24h and 24h to 12h system, e) Interpret travel timetable in different situations, f) Use it devices for learning more on reading time and for leisure,', 'g) Appreciate use of time in both 12h and 24h systems.', '', '', ''], 'suggested_learning_experiences': ['Suggested Learning Experiences', '• Learners in pairs/groups or as individuals are guided to identify time in a.m. and p.m. from digital and analogue clocks. • Learners in pairs/groups or as individuals to write time in a.m. and p.m. from digital and analogue clocks. • Learners in pairs/groups or as individuals to relate time in a.m. and p.m. to the 24h clock system using a chart. • Learners in pairs/groups or as individuals to convert time from the 12h to 24h system and 24h to 12h using a chart. • Learners in pairs/groups or as individuals', 'to interpret travel timetables. • Learners in pairs/groups or as individuals to determine time durations using travel timetables. • Learners in pairs/groups or as individuals to play digital games involving time on 12h and 24 h systems.', '', 'Values: Integrity as learners observe time in various activities. Responsibility through dedication and commitment as learners appropriately use allocated time to perform tasks.', 'Suggested Community Service Learning Activities: Learners may assist in managing time in social activities or community functions. Learners could visit a health centre and discuss why observing time in administration of medicinal drugs is important.'], 'key_inquiry_questions': ['Key Inquiry Questions', 'How can you read and tell time?', '', '', '', ''], 'values': ['Integrity as learners observe time in\\nvarious activities.\\nResponsibility through dedication and\\ncommitment as learners appropriately use\\nallocated time to perform tasks.'], 'community_service_activities': [], 'pcis': ['Health education as learners maintain correct times\\nof taking drugs. Citizenship as learners practise good time\\nmanagement.'], 'links_to_other_subjects': ['Languages as learners discuss in\\npairs/groups. Home Science and Science as learn record time\\ntaken to perform given activities.'], 'additional_community_service_activities': []}, {'page_number': 55, 'strand': '2.0 MEA-\\nSUREMENT', 'sub_strand': '2.6 Money\\n(8 lessons)', 'specific_learning_outcomes': ['Specific Learning Outcome', 'By the end of the Sub Strand, the learner should be able to; a) Prepare a simple budget, b) Work out profit and loss in real life situations, c) Identify types of taxes in different situations, d) Use it devices to learn about profit and loss, e) Appreciate profit and loss in real life situations.', '', '', '', ''], 'suggested_learning_experiences': ['Suggested Learning Experiences', '• Learners in pairs/groups or as individuals to prepare price lists. • Learners in pairs/ groups or as individuals to discuss factors to consider when preparing a simple budget • Learners in pairs/groups or as individuals to prepare a budget. • Learners in pairs/groups or as individuals to discuss the meaning of profit and loss in real life situations and share with other groups. • Learners in pairs/groups or as individuals work out questions involving profit and loss. • Learners in pairs/groups or as individuals to', 'discuss income and value added tax (VAT) as types of taxes. • Learners in pairs/groups to use IT devices to play digital games.', '', 'Values: Honesty as leaners spend money as directed by family members. Responsibility as learners spend money according to budget. Integrity through fair play; as learners learn not to exploit or overcharge their clients or customers.', 'Suggested Community Service Learning Activities: Learners to discuss family budgeting with family members. Learners could visit a shopkeeper and learn how to charge profit on their goods. Learners may assist in selling goods and services in the family business.'], 'key_inquiry_questions': ['Key Inquiry Questions', '1. Why is it important to prepare a budget? 2. How can you make profit in a business?', '', '', '', ''], 'values': ['Honesty as leaners spend money as\\ndirected by family members.\\nResponsibility as learners spend money\\naccording to budget. Integrity through fair play;\\nas learners learn not to exploit or overcharge their\\nclients or customers.'], 'community_service_activities': [], 'pcis': ['Patriotism as leaners discuss importance of paying\\ntaxes. Personal hygiene as learners are advised to wash their\\nhands after handling money. Financial literacy as learners\\nappreciate honest ways of earning profits.'], 'links_to_other_subjects': ['Languages as learners use\\nmathematics terms in discussions. Home Science as learners\\nparticipate in making budgets for buying food at home.'], 'additional_community_service_activities': []}, {'page_number': 58, 'strand': '3.0\\nGEOMETRY', 'sub_strand': '3.1 Lines\\n(6 Lessons)', 'specific_learning_outcomes': ['Specific Learning Outcomes', 'By the end of the sub- strand, the learner should be able to; a) Construct parallel lines in different situations, b) Bisect lines through construction, c) Construct perpendicular lines in different situations, d) Use it devices for more learning on lines and leisure e) Appreciate use of lines in daily life.', '', ''], 'suggested_learning_experiences': ['Suggested Learning Experiences', '• Learners in pairs/ groups or as individuals to construct parallel lines using geometrical instruments. • Learners in pairs/groups or as individuals to bisect lines using geometrical instruments. • Leaners in pairs/groups or as individuals to construct perpendicular lines using geometrical instruments. • Learners in pairs/groups or as individuals to play digital games.', '', 'Values: Unity as learners work in groups. Responsibility as learners take turns in sharing drawing instruments'], 'key_inquiry_questions': ['Key Inquiry Questions', '1. Why do we need to construct lines? 2. How can you construct a line?', '', ''], 'values': ['Unity as learners work in groups.\\nResponsibility as learners take turns in sharing\\ndrawing instruments'], 'community_service_activities': [], 'pcis': ['Social cohesion as leaners work in pairs and groups.\\nSafety as leaners are guided to carefully handle drawing\\ninstruments.'], 'links_to_other_subjects': ['Creative Arts and Languages as\\nlearners construct and discuss. Social Studies as learners\\ninteract with various lines in the environment.'], 'additional_community_service_activities': []}, {'page_number': 61, 'strand': '3.0\\nGEOMETRY', 'sub_strand': '3.2 Angles\\n(6 Lessons)', 'specific_learning_outcomes': ['Specific Learning Outcomes', 'By the end of the Sub Strand, the learner should be able to; a) identify angles on a straight line in different situations, b) measure angles on a straight line in different situations, c) determine the sum of angles in a triangle practically, d) use IT devices for learning more on angles and for enjoyment, e) appreciate use of angles in real life.', ''], 'suggested_learning_experiences': ['Suggested Learning Experiences', '• Learners in pairs/groups or as individuals to identify angles on a straight line practically. • Learners in pairs/groups or as individuals to measure angles on a straight line in degrees • Learners in pairs/groups or as individuals to practically establish that the sum of angles in a triangle is equal to two (2) right angles. • Learners in pairs/groups or as individuals to play digital games involving angles.', ''], 'key_inquiry_questions': ['Key Inquiry Questions', 'Where can you use angles in real life?', ''], 'values': ['Honesty and unity as learners share\\nand take turns in using the instruments.\\nResponsibility as learners learn to be precise in\\nmaking measurements.'], 'community_service_activities': [], 'pcis': ['Social cohesion as leaners work in pairs and\\ngroups. Safety as learners handle different instruments.\\nEnvironmental education as learners discover use of angles\\nin daily life. Education for Sustainable Development:\\nCareer in construction, engineering, survey and piloting.'], 'links_to_other_subjects': ['Creative Arts and Languages as\\nlearners measure, draw and discuss.'], 'additional_community_service_activities': []}, {'page_number': 64, 'strand': '3.0\\nGEOMETRY', 'sub_strand': '3.3 3-D\\nObjects\\n(6 Lessons)', 'specific_learning_outcomes': ['Specific Learning Outcome', 'By the end of the Sub Strand, the learner should be able to; a) Identify vertices, faces and edges in 3-D objects, b) Use IT devices for learning more on 3-D objects and for enjoyment, c) Appreciate use of 3-D objects in real life.', ''], 'suggested_learning_experiences': ['Suggested Learning Experiences', '• Learners in pairs/ groups or as individuals are guided to identify 3-D objects in the environment. • Learners in pairs/ groups to identify cubes, cuboids, cylinders and pyramids in the environment. • Learners in pairs and groups to identify vertices, faces and edges of cubes, cuboids, cylinders and pyramids in different situations. • Learners in pairs/groups or as individuals to play digital games.', ''], 'key_inquiry_questions': ['Key Inquiry Questions', 'Where can we use 3-D objects?', ''], 'values': ['Responsibility as leaners explore what\\nmakes 3-D objects different.'], 'community_service_activities': [], 'pcis': ['Social cohesion as leaners discuss and agree with each\\nother’s views. Environmental education as learners identify\\n3-D objects in their environment. Education for Sustainable\\nDevelopment: Career in engineering, survey and construction\\nsector.'], 'links_to_other_subjects': ['Creative Arts and Languages as\\nlearners establish and discuss the differences between 3-D\\nobjects.'], 'additional_community_service_activities': []}, {'page_number': 66, 'strand': '4.0 DATA\\nHANDLING', 'sub_strand': '4.1 Bar\\nGraphs\\n(10 Lessons)', 'specific_learning_outcomes': ['Specific Learning Outcomes', 'By the end of the Sub Strand, the learner should be able to; a) Collect and represent data from real life situations using tables, b) Represent data from real life situations through piling, c) Represent data from real life situations using bar graphs, d) Interpret information from bar graphs, e) Use it devices for learning more on bar graphs and for leisure, f) Appreciate use of bar graphs in real life.'], 'suggested_learning_experiences': ['Suggested Learning Experiences', '• Learners in pairs/groups or as individuals are guided to collect data and organise it in a frequency table. • Learners in pairs/groups or as individuals to represent information through piling similar objects like matchboxes vertically. • Learners in pairs/groups to represent information by drawing bar graphs. • Learners in pairs/groups to discuss information represented on bar graphs. • Learners in pairs/groups or as individuals to use IT devices to learn more on representing data using bar graphs.'], 'key_inquiry_questions': ['Key Inquiry Questions', 'How can bar graphs be used in real life situations?'], 'values': ['Honesty as learners collect and represent\\ndata. Responsibility and respect as learners\\nwork and share in groups.'], 'community_service_activities': [], 'pcis': ['Safety as learners collect data in the environment.\\nEducation for Sustainable Development: Learners relate bar\\ngraphs to careers in research and banking.'], 'links_to_other_subjects': ['Languages as learners discuss in\\ngroups.\\nScience and Technology as learners collect information from\\ndifferent sources.'], 'additional_community_service_activities': []}, {'page_number': 69, 'strand': '5.0 ALGEBRA', 'sub_strand': '5.1\\nInequalities\\n(8 Lessons)', 'specific_learning_outcomes': ['Specific Learning Outcome', 'By the end of the Sub Strand, the learner should be able to; a) Form simple inequalities in one unknown involving real life situations, b) Simplify simple inequalities in one unknown involving real life situations, c) Use it devices to simplify inequalities and play digital games involving inequalities. d) Appreciate use of algebraic expressions in real life.', ''], 'suggested_learning_experiences': ['Suggested Learning Experiences', '• Learners in pairs/ groups or as individuals to discuss meaning of algebraic inequality symbols ‘ > ‘ and ‘ < ‘ • Learners in pairs/groups or as individuals to form algebraic inequalities in one unknown using different operations. • Learners in pairs/ groups or as individuals to simplify algebraic inequalities in one unknown. • Learners in pairs/groups or as individuals to use IT devices to simplify algebraic inequalities and play digital games.', ''], 'key_inquiry_questions': ['Key Inquiry Questions', 'Where are algebraic expressions used?', ''], 'values': ['Responsibility as learners represent their\\ngroups in working out questions. Social cohesion\\nas learners work in groups.'], 'community_service_activities': [], 'pcis': ['Education for Sustainable Development: Learners\\ndiscover careers related to inequalities e.g. in business as\\nstatisticians and health care providers.'], 'links_to_other_subjects': ['Languages as learners work in\\ngroups.'], 'additional_community_service_activities': []}, {'page_number': 71, 'strand': 'NUMBERS', 'sub_strand': 'Whole numbers', 'specific_learning_outcomes': [], 'suggested_learning_experiences': [], 'key_inquiry_questions': [], 'values': [], 'community_service_activities': [], 'pcis': [], 'links_to_other_subjects': [], 'additional_community_service_activities': []}, {'page_number': 71, 'strand': 'MEASUREMENT', 'sub_strand': 'Length', 'specific_learning_outcomes': [], 'suggested_learning_experiences': [], 'key_inquiry_questions': [], 'values': [], 'community_service_activities': [], 'pcis': [], 'links_to_other_subjects': [], 'additional_community_service_activities': []}, {'page_number': 71, 'strand': 'GEOMETRY', 'sub_strand': 'Lines', 'specific_learning_outcomes': [], 'suggested_learning_experiences': [], 'key_inquiry_questions': [], 'values': [], 'community_service_activities': [], 'pcis': [], 'links_to_other_subjects': [], 'additional_community_service_activities': []}, {'page_number': 71, 'strand': 'DATA HANDLING', 'sub_strand': 'Bar graphs', 'specific_learning_outcomes': [], 'suggested_learning_experiences': [], 'key_inquiry_questions': [], 'values': [], 'community_service_activities': [], 'pcis': [], 'links_to_other_subjects': [], 'additional_community_service_activities': []}]\n"
     ]
    }
   ],
   "source": [
    "# print(complete_data)"
   ]
  },
  {
   "cell_type": "code",
   "execution_count": 86,
   "metadata": {},
   "outputs": [],
   "source": [
    "pdf = pdfplumber.open(pdf_path) \n",
    "page = pdf.pages[31 - 1]\n",
    "tables = page.extract_tables()"
   ]
  }
 ],
 "metadata": {
  "kernelspec": {
   "display_name": "Python 3 (ipykernel)",
   "language": "python",
   "name": "python3"
  },
  "language_info": {
   "codemirror_mode": {
    "name": "ipython",
    "version": 3
   },
   "file_extension": ".py",
   "mimetype": "text/x-python",
   "name": "python",
   "nbconvert_exporter": "python",
   "pygments_lexer": "ipython3",
   "version": "3.7.15"
  }
 },
 "nbformat": 4,
 "nbformat_minor": 2
}
